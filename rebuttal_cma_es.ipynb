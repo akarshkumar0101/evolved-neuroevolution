{
 "cells": [
  {
   "cell_type": "code",
   "execution_count": 97,
   "id": "impaired-manufacturer",
   "metadata": {},
   "outputs": [],
   "source": [
    "%run imports.py"
   ]
  },
  {
   "cell_type": "code",
   "execution_count": 98,
   "id": "compatible-mortality",
   "metadata": {},
   "outputs": [],
   "source": [
    "\n",
    "import cma\n",
    "import time\n",
    "\n",
    "# def run_cmaes(, fitness_func, n_gen, n_pop, tqdm=lambda x: x):\n",
    "#     net = model().to(device)\n",
    "\n",
    "#     sol = util.model2vec(net).detach().cpu().numpy()\n",
    "#     # es.optimize(pheno_fitness)\n",
    "#     fitdata_gens = []\n",
    "#     loop = range(n_gen)\n",
    "#     if tqdm is not None:\n",
    "#         loop = tqdm(loop)\n",
    "#     for _ in loop:\n",
    "#         fitdata = np.array([fitness_wrapper(sol) for sol in sols])\n",
    "#         fitdata_DA = util.arr_dict2dict_arr(np.array([fitness_wrapper(sol) for sol in sols]))\n",
    "#         fitdata_gens.append(fitdata)\n",
    "#         if tqdm is not None:\n",
    "#             loop.set_postfix({'loss': fitdata_DA['loss'].min()})\n",
    "            \n",
    "#     return np.array(fitdata_gens)"
   ]
  },
  {
   "cell_type": "code",
   "execution_count": null,
   "id": "continental-shelter",
   "metadata": {},
   "outputs": [],
   "source": []
  },
  {
   "cell_type": "code",
   "execution_count": 99,
   "id": "useful-relations",
   "metadata": {},
   "outputs": [],
   "source": [
    "def run_evolution_cmaes(pop, optim_fn, n_gen, max_time=None, tqdm=lambda x: x):\n",
    "    data = []\n",
    "    es = cma.CMAEvolutionStrategy(pop[0].numpy(), 1e-1, {'popsize':len(pop)})\n",
    "    \n",
    "    st = time.time()\n",
    "    \n",
    "    i = 0\n",
    "    while True:\n",
    "        if (i>n_gen if n_gen is not None else time.time()-st>max_time):\n",
    "            break\n",
    "        i += 1\n",
    "        pop = es.ask()\n",
    "        pop = np.array(pop)\n",
    "        fit = optim_fn(torch.from_numpy(pop)).numpy()\n",
    "        es.tell(pop, fit)\n",
    "        \n",
    "        data.append((torch.from_numpy(pop), torch.from_numpy(fit)))\n",
    "        \n",
    "    # pops, fits, mrs, fitmrs\n",
    "    return [torch.stack([d[i] for d in data]) for i in range(len(data[0]))]\n"
   ]
  },
  {
   "cell_type": "code",
   "execution_count": 100,
   "id": "lesbian-congo",
   "metadata": {},
   "outputs": [],
   "source": [
    "n_gen = 100\n",
    "n_pop = 101\n",
    "n_dim = 100\n",
    "std = 10\n",
    "\n",
    "optim_fn = ackley"
   ]
  },
  {
   "cell_type": "code",
   "execution_count": 57,
   "id": "single-headset",
   "metadata": {},
   "outputs": [
    {
     "name": "stdout",
     "output_type": "stream",
     "text": [
      "(50_w,101)-aCMA-ES (mu_w=27.2,w_1=8%) in dimension 100 (seed=80821, Thu Nov  4 00:40:17 2021)\n",
      "tensor(16.7471, dtype=torch.float64)\n",
      "CPU times: user 4.71 s, sys: 378 ms, total: 5.09 s\n",
      "Wall time: 3.26 s\n"
     ]
    }
   ],
   "source": [
    "%%time\n",
    "pops, fits = run_evolution_cmaes(torch.randn(n_pop, n_dim)*std, optim_fn, n_gen)\n",
    "print(fits.min())"
   ]
  },
  {
   "cell_type": "code",
   "execution_count": 58,
   "id": "greenhouse-vienna",
   "metadata": {},
   "outputs": [
    {
     "name": "stdout",
     "output_type": "stream",
     "text": [
      "tensor(13.7974)\n",
      "CPU times: user 115 ms, sys: 13.6 ms, total: 129 ms\n",
      "Wall time: 160 ms\n"
     ]
    }
   ],
   "source": [
    "%%time\n",
    "pops, fits, mrs, fitmrs = optim.run_evolution_ours(torch.randn(n_pop, n_dim)*std, optim_fn, n_gen)\n",
    "print(fits.min())"
   ]
  },
  {
   "cell_type": "code",
   "execution_count": 59,
   "id": "another-twist",
   "metadata": {},
   "outputs": [
    {
     "data": {
      "text/plain": [
       "72.98474945533769"
      ]
     },
     "execution_count": 59,
     "metadata": {},
     "output_type": "execute_result"
    }
   ],
   "source": [
    "33.5/.459"
   ]
  },
  {
   "cell_type": "code",
   "execution_count": 116,
   "id": "super-force",
   "metadata": {},
   "outputs": [
    {
     "name": "stdout",
     "output_type": "stream",
     "text": [
      "GA\n",
      "Ran 101 Generations in  0.11 seconds to get fitness of 0.0005645751953125\n",
      "(50_w,101)-aCMA-ES (mu_w=27.2,w_1=8%) in dimension 2 (seed=180673, Fri Nov  5 18:34:30 2021)\n",
      "CMA\n",
      "Ran 11 Generations in  0.25 seconds to get fitness of 1.856527257195875\n",
      "\n",
      "GA\n",
      "Ran 101 Generations in  0.23 seconds to get fitness of 0.001911163330078125\n",
      "(50_w,101)-aCMA-ES (mu_w=27.2,w_1=8%) in dimension 2 (seed=246292, Fri Nov  5 18:34:30 2021)\n",
      "CMA\n",
      "Ran 18 Generations in  0.25 seconds to get fitness of 5.539631365181208e-05\n",
      "\n",
      "GA\n",
      "Ran 301 Generations in  0.26 seconds to get fitness of 1.5019493103027344\n",
      "(50_w,101)-aCMA-ES (mu_w=27.2,w_1=8%) in dimension 30 (seed=267177, Fri Nov  5 18:34:31 2021)\n",
      "CMA\n",
      "Ran 12 Generations in  0.27 seconds to get fitness of 4.84074333808352\n",
      "\n",
      "GA\n",
      "Ran 301 Generations in  0.25 seconds to get fitness of 1.3602409362792969\n",
      "(50_w,101)-aCMA-ES (mu_w=27.2,w_1=8%) in dimension 30 (seed=312445, Fri Nov  5 18:34:31 2021)\n",
      "CMA\n",
      "Ran 19 Generations in  0.32 seconds to get fitness of 18.704268071480005\n",
      "\n",
      "GA\n",
      "Ran 1001 Generations in  0.82 seconds to get fitness of 2.2308807373046875\n",
      "(50_w,101)-aCMA-ES (mu_w=27.2,w_1=8%) in dimension 100 (seed=318929, Fri Nov  5 18:34:32 2021)\n",
      "CMA\n",
      "Ran 35 Generations in  0.83 seconds to get fitness of 4.1623069373966715\n",
      "\n",
      "GA\n",
      "Ran 1001 Generations in  0.81 seconds to get fitness of 3.1043853759765625\n",
      "(50_w,101)-aCMA-ES (mu_w=27.2,w_1=8%) in dimension 100 (seed=268020, Fri Nov  5 18:34:34 2021)\n",
      "CMA\n",
      "Ran 35 Generations in  0.82 seconds to get fitness of 18.18468246907181\n",
      "\n",
      "GA\n",
      "Ran 2501 Generations in  8.82 seconds to get fitness of 3.4504737854003906\n",
      "(50_w,101)-aCMA-ES (mu_w=27.2,w_1=8%) in dimension 1000 (seed=246166, Fri Nov  5 18:34:44 2021)\n",
      "CMA\n",
      "Ran 41 Generations in  9.59 seconds to get fitness of 4.787805961109662\n",
      "\n",
      "GA\n",
      "Ran 2501 Generations in  10.72 seconds to get fitness of 17.140701293945312\n",
      "(50_w,101)-aCMA-ES (mu_w=27.2,w_1=8%) in dimension 1000 (seed=274757, Fri Nov  5 18:35:04 2021)\n",
      "CMA\n",
      "Ran 47 Generations in  11.19 seconds to get fitness of 18.09611908746769\n",
      "\n",
      "GA\n",
      "Ran 101 Generations in  0.06 seconds to get fitness of 0.0\n",
      "(50_w,101)-aCMA-ES (mu_w=27.2,w_1=8%) in dimension 2 (seed=237497, Fri Nov  5 18:35:15 2021)\n",
      "CMA\n",
      "Ran 11 Generations in  0.17 seconds to get fitness of 1.442739375745461e-07\n",
      "\n",
      "GA\n",
      "Ran 101 Generations in  0.09 seconds to get fitness of 0.0098646879196167\n",
      "(50_w,101)-aCMA-ES (mu_w=27.2,w_1=8%) in dimension 2 (seed=232043, Fri Nov  5 18:35:16 2021)\n",
      "CMA\n",
      "Ran 11 Generations in  0.17 seconds to get fitness of 0.007397149789212021\n",
      "\n",
      "GA\n",
      "Ran 301 Generations in  0.22 seconds to get fitness of 0.00018852949142456055\n",
      "(50_w,101)-aCMA-ES (mu_w=27.2,w_1=8%) in dimension 30 (seed=283206, Fri Nov  5 18:35:16 2021)\n",
      "CMA\n",
      "Ran 13 Generations in  0.23 seconds to get fitness of 0.5248681876843317\n",
      "\n",
      "GA\n",
      "Ran 301 Generations in  0.20 seconds to get fitness of 0.0008052587509155273\n",
      "(50_w,101)-aCMA-ES (mu_w=27.2,w_1=8%) in dimension 30 (seed=299344, Fri Nov  5 18:35:16 2021)\n",
      "CMA\n",
      "Ran 13 Generations in  0.22 seconds to get fitness of 1.336083036112397\n",
      "\n",
      "GA\n",
      "Ran 1001 Generations in  0.82 seconds to get fitness of 0.0004183053970336914\n",
      "(50_w,101)-aCMA-ES (mu_w=27.2,w_1=8%) in dimension 100 (seed=328907, Fri Nov  5 18:35:17 2021)\n",
      "CMA\n",
      "Ran 35 Generations in  0.83 seconds to get fitness of 0.6680043365878895\n",
      "\n",
      "GA\n",
      "Ran 1001 Generations in  0.79 seconds to get fitness of 0.012937426567077637\n",
      "(50_w,101)-aCMA-ES (mu_w=27.2,w_1=8%) in dimension 100 (seed=242280, Fri Nov  5 18:35:19 2021)\n",
      "CMA\n",
      "Ran 34 Generations in  0.80 seconds to get fitness of 1.990241252488465\n",
      "\n",
      "GA\n",
      "Ran 2501 Generations in  6.19 seconds to get fitness of 0.19503575563430786\n",
      "(50_w,101)-aCMA-ES (mu_w=27.2,w_1=8%) in dimension 1000 (seed=234213, Fri Nov  5 18:35:26 2021)\n",
      "CMA\n",
      "Ran 31 Generations in  6.72 seconds to get fitness of 1.01310595006919\n",
      "\n",
      "GA\n",
      "Ran 2501 Generations in  5.79 seconds to get fitness of 2.105123519897461\n",
      "(50_w,101)-aCMA-ES (mu_w=27.2,w_1=8%) in dimension 1000 (seed=303681, Fri Nov  5 18:35:39 2021)\n",
      "CMA\n",
      "Ran 29 Generations in  6.14 seconds to get fitness of 25.130609131447564\n",
      "\n",
      "GA\n",
      "Ran 101 Generations in  0.05 seconds to get fitness of 4.38690185546875e-05\n",
      "(50_w,101)-aCMA-ES (mu_w=27.2,w_1=8%) in dimension 2 (seed=227380, Fri Nov  5 18:35:45 2021)\n",
      "CMA\n",
      "Ran 11 Generations in  0.17 seconds to get fitness of 0.9949592345585856\n",
      "\n",
      "GA\n",
      "Ran 101 Generations in  0.07 seconds to get fitness of 0.00083160400390625\n",
      "(50_w,101)-aCMA-ES (mu_w=27.2,w_1=8%) in dimension 2 (seed=249022, Fri Nov  5 18:35:45 2021)\n",
      "CMA\n",
      "Ran 11 Generations in  0.17 seconds to get fitness of 230.8129089051317\n",
      "\n",
      "GA\n",
      "Ran 301 Generations in  0.22 seconds to get fitness of 29.85626220703125\n",
      "(50_w,101)-aCMA-ES (mu_w=27.2,w_1=8%) in dimension 30 (seed=261947, Fri Nov  5 18:35:45 2021)\n",
      "CMA\n",
      "Ran 15 Generations in  0.22 seconds to get fitness of 166.16781739866505\n",
      "\n",
      "GA\n",
      "Ran 301 Generations in  0.19 seconds to get fitness of 113.09744262695312\n",
      "(50_w,101)-aCMA-ES (mu_w=27.2,w_1=8%) in dimension 30 (seed=186252, Fri Nov  5 18:35:46 2021)\n",
      "CMA\n",
      "Ran 11 Generations in  0.20 seconds to get fitness of 2244.968120386553\n",
      "\n",
      "GA\n",
      "Ran 1001 Generations in  0.77 seconds to get fitness of 110.445556640625\n",
      "(50_w,101)-aCMA-ES (mu_w=27.2,w_1=8%) in dimension 100 (seed=203640, Fri Nov  5 18:35:47 2021)\n",
      "CMA\n",
      "Ran 31 Generations in  0.79 seconds to get fitness of 713.8092247555171\n",
      "\n",
      "GA\n",
      "Ran 1001 Generations in  0.77 seconds to get fitness of 1367.1280517578125\n",
      "(50_w,101)-aCMA-ES (mu_w=27.2,w_1=8%) in dimension 100 (seed=314388, Fri Nov  5 18:35:48 2021)\n",
      "CMA\n",
      "Ran 31 Generations in  0.79 seconds to get fitness of 7430.446147699071\n",
      "\n",
      "GA\n",
      "Ran 2501 Generations in  5.69 seconds to get fitness of 1756.7783203125\n",
      "(50_w,101)-aCMA-ES (mu_w=27.2,w_1=8%) in dimension 1000 (seed=222361, Fri Nov  5 18:35:55 2021)\n",
      "CMA\n",
      "Ran 29 Generations in  5.84 seconds to get fitness of 7176.804327125541\n",
      "\n",
      "GA\n",
      "Ran 2501 Generations in  5.97 seconds to get fitness of 53945.65625\n",
      "(50_w,101)-aCMA-ES (mu_w=27.2,w_1=8%) in dimension 1000 (seed=244848, Fri Nov  5 18:36:07 2021)\n",
      "CMA\n",
      "Ran 31 Generations in  6.54 seconds to get fitness of 112688.66247341342\n",
      "\n",
      "GA\n",
      "Ran 101 Generations in  0.05 seconds to get fitness of 2.5934809855243657e-10\n",
      "(50_w,101)-aCMA-ES (mu_w=27.2,w_1=8%) in dimension 2 (seed=282369, Fri Nov  5 18:36:13 2021)\n",
      "CMA\n",
      "Ran 11 Generations in  0.16 seconds to get fitness of 0.28976775336313654\n",
      "\n",
      "GA\n",
      "Ran 101 Generations in  0.07 seconds to get fitness of 2.654134505064576e-06\n",
      "(50_w,101)-aCMA-ES (mu_w=27.2,w_1=8%) in dimension 2 (seed=337960, Fri Nov  5 18:36:13 2021)\n",
      "CMA\n",
      "Ran 11 Generations in  0.22 seconds to get fitness of 0.17929772822532827\n",
      "\n",
      "GA\n",
      "Ran 301 Generations in  0.27 seconds to get fitness of 29.433242797851562\n",
      "(50_w,101)-aCMA-ES (mu_w=27.2,w_1=8%) in dimension 30 (seed=243578, Fri Nov  5 18:36:14 2021)\n",
      "CMA\n",
      "Ran 13 Generations in  0.28 seconds to get fitness of 2741.3618160805895\n",
      "\n",
      "GA\n",
      "Ran 301 Generations in  0.21 seconds to get fitness of 861.1465454101562\n",
      "(50_w,101)-aCMA-ES (mu_w=27.2,w_1=8%) in dimension 30 (seed=293499, Fri Nov  5 18:36:14 2021)\n",
      "CMA\n",
      "Ran 14 Generations in  0.23 seconds to get fitness of 8005149.5763695035\n",
      "\n",
      "GA\n",
      "Ran 1001 Generations in  0.90 seconds to get fitness of 98.3949966430664\n",
      "(50_w,101)-aCMA-ES (mu_w=27.2,w_1=8%) in dimension 100 (seed=265828, Fri Nov  5 18:36:15 2021)\n",
      "CMA\n",
      "Ran 31 Generations in  1.10 seconds to get fitness of 10089.51973478324\n",
      "\n",
      "GA\n",
      "Ran 1001 Generations in  1.20 seconds to get fitness of 614.9796142578125\n",
      "(50_w,101)-aCMA-ES (mu_w=27.2,w_1=8%) in dimension 100 (seed=262826, Fri Nov  5 18:36:18 2021)\n",
      "CMA\n",
      "Ran 41 Generations in  1.28 seconds to get fitness of 49096133.32875307\n",
      "\n",
      "GA\n",
      "Ran 2501 Generations in  5.97 seconds to get fitness of 10522.3271484375\n",
      "(50_w,101)-aCMA-ES (mu_w=27.2,w_1=8%) in dimension 1000 (seed=299210, Fri Nov  5 18:36:25 2021)\n",
      "CMA\n",
      "Ran 29 Generations in  6.35 seconds to get fitness of 272800.8191982034\n",
      "\n",
      "GA\n",
      "Ran 2501 Generations in  6.20 seconds to get fitness of 14081641.0\n",
      "(50_w,101)-aCMA-ES (mu_w=27.2,w_1=8%) in dimension 1000 (seed=215998, Fri Nov  5 18:36:38 2021)\n",
      "CMA\n",
      "Ran 29 Generations in  6.43 seconds to get fitness of 2511082301.559712\n",
      "\n",
      "GA\n",
      "Ran 101 Generations in  0.05 seconds to get fitness of 1.215279099575639e-09\n",
      "(50_w,101)-aCMA-ES (mu_w=27.2,w_1=8%) in dimension 2 (seed=295571, Fri Nov  5 18:36:44 2021)\n",
      "CMA\n",
      "Ran 11 Generations in  0.17 seconds to get fitness of 3.4062453512959755e-07\n",
      "\n",
      "GA\n",
      "Ran 101 Generations in  0.09 seconds to get fitness of 1.5753201410007023e-08\n",
      "(50_w,101)-aCMA-ES (mu_w=27.2,w_1=8%) in dimension 2 (seed=271415, Fri Nov  5 18:36:44 2021)\n",
      "CMA\n",
      "Ran 11 Generations in  0.22 seconds to get fitness of 0.0003105119824028088\n",
      "\n",
      "GA\n",
      "Ran 301 Generations in  0.19 seconds to get fitness of 0.00044629539479501545\n",
      "(50_w,101)-aCMA-ES (mu_w=27.2,w_1=8%) in dimension 30 (seed=215084, Fri Nov  5 18:36:45 2021)\n",
      "CMA\n",
      "Ran 11 Generations in  0.24 seconds to get fitness of 15.598427001338631\n",
      "\n",
      "GA\n",
      "Ran 301 Generations in  0.16 seconds to get fitness of 0.00728566525503993\n",
      "(50_w,101)-aCMA-ES (mu_w=27.2,w_1=8%) in dimension 30 (seed=244533, Fri Nov  5 18:36:45 2021)\n",
      "CMA\n",
      "Ran 11 Generations in  0.23 seconds to get fitness of 1253.3538348585998\n",
      "\n",
      "GA\n",
      "Ran 1001 Generations in  0.84 seconds to get fitness of 0.0002927190507762134\n",
      "(50_w,101)-aCMA-ES (mu_w=27.2,w_1=8%) in dimension 100 (seed=235054, Fri Nov  5 18:36:46 2021)\n",
      "CMA\n",
      "Ran 31 Generations in  0.95 seconds to get fitness of 60.43907932394846\n",
      "\n",
      "GA\n",
      "Ran 1001 Generations in  0.80 seconds to get fitness of 0.0679163783788681\n",
      "(50_w,101)-aCMA-ES (mu_w=27.2,w_1=8%) in dimension 100 (seed=259909, Fri Nov  5 18:36:48 2021)\n",
      "CMA\n",
      "Ran 31 Generations in  0.90 seconds to get fitness of 4373.84701060908\n",
      "\n",
      "GA\n",
      "Ran 2501 Generations in  5.23 seconds to get fitness of 42.01151657104492\n",
      "(50_w,101)-aCMA-ES (mu_w=27.2,w_1=8%) in dimension 1000 (seed=237290, Fri Nov  5 18:36:54 2021)\n",
      "CMA\n",
      "Ran 27 Generations in  5.37 seconds to get fitness of 804.9737698206395\n",
      "\n",
      "GA\n",
      "Ran 2501 Generations in  5.12 seconds to get fitness of 4496.77392578125\n",
      "(50_w,101)-aCMA-ES (mu_w=27.2,w_1=8%) in dimension 1000 (seed=192152, Fri Nov  5 18:37:05 2021)\n",
      "CMA\n",
      "Ran 27 Generations in  5.41 seconds to get fitness of 100021.17393013951\n",
      "\n",
      "GA\n",
      "Ran 101 Generations in  0.05 seconds to get fitness of -8.034495402508026e+18\n",
      "(50_w,101)-aCMA-ES (mu_w=27.2,w_1=8%) in dimension 2 (seed=286627, Fri Nov  5 18:37:10 2021)\n"
     ]
    },
    {
     "name": "stderr",
     "output_type": "stream",
     "text": [
      "/Users/akarshkumar0101/Library/Python/3.8/lib/python/site-packages/cma/utilities/utils.py:343: UserWarning: sigma change np.exp(1.026381989582099) = 2.7909498602132885 clipped to np.exp(+-1) (class=CMAAdaptSigmaCSA method=update iteration=6)\n",
      "  warnings.warn(msg + ' (' +\n",
      "/Users/akarshkumar0101/Library/Python/3.8/lib/python/site-packages/cma/utilities/utils.py:343: UserWarning: sigma change np.exp(1.025553318709463) = 2.788638039358738 clipped to np.exp(+-1) (class=CMAAdaptSigmaCSA method=update iteration=9)\n",
      "  warnings.warn(msg + ' (' +\n"
     ]
    },
    {
     "name": "stdout",
     "output_type": "stream",
     "text": [
      "CMA\n",
      "Ran 11 Generations in  0.17 seconds to get fitness of -1341847.3138667347\n",
      "\n",
      "GA\n",
      "Ran 101 Generations in  0.08 seconds to get fitness of -3.0030481702376178e+19\n",
      "(50_w,101)-aCMA-ES (mu_w=27.2,w_1=8%) in dimension 2 (seed=273548, Fri Nov  5 18:37:10 2021)\n",
      "CMA\n",
      "Ran 11 Generations in  0.17 seconds to get fitness of -298234.51970689767\n",
      "\n",
      "GA\n",
      "Ran 301 Generations in  0.16 seconds to get fitness of nan\n",
      "(50_w,101)-aCMA-ES (mu_w=27.2,w_1=8%) in dimension 30 (seed=264427, Fri Nov  5 18:37:11 2021)\n",
      "CMA\n",
      "Ran 11 Generations in  0.19 seconds to get fitness of -1841.54472802491\n",
      "\n",
      "GA\n",
      "Ran 301 Generations in  0.15 seconds to get fitness of nan\n",
      "(50_w,101)-aCMA-ES (mu_w=27.2,w_1=8%) in dimension 30 (seed=297099, Fri Nov  5 18:37:11 2021)\n",
      "CMA\n",
      "Ran 11 Generations in  0.21 seconds to get fitness of -347.01128127212877\n",
      "\n",
      "GA\n",
      "Ran 1001 Generations in  0.63 seconds to get fitness of nan\n",
      "(50_w,101)-aCMA-ES (mu_w=27.2,w_1=8%) in dimension 100 (seed=232662, Fri Nov  5 18:37:12 2021)\n",
      "CMA\n",
      "Ran 21 Generations in  0.64 seconds to get fitness of -2154.992923059546\n",
      "\n",
      "GA\n",
      "Ran 1001 Generations in  0.69 seconds to get fitness of nan\n",
      "(50_w,101)-aCMA-ES (mu_w=27.2,w_1=8%) in dimension 100 (seed=223538, Fri Nov  5 18:37:13 2021)\n",
      "CMA\n",
      "Ran 28 Generations in  0.71 seconds to get fitness of -12247.599668951612\n",
      "\n",
      "GA\n",
      "Ran 2501 Generations in  5.36 seconds to get fitness of nan\n",
      "(50_w,101)-aCMA-ES (mu_w=27.2,w_1=8%) in dimension 1000 (seed=273749, Fri Nov  5 18:37:19 2021)\n",
      "CMA\n",
      "Ran 27 Generations in  5.64 seconds to get fitness of -801.5712899630782\n",
      "\n",
      "GA\n",
      "Ran 2501 Generations in  5.22 seconds to get fitness of nan\n",
      "(50_w,101)-aCMA-ES (mu_w=27.2,w_1=8%) in dimension 1000 (seed=286267, Fri Nov  5 18:37:30 2021)\n",
      "CMA\n",
      "Ran 25 Generations in  5.32 seconds to get fitness of -1137.2540044463362\n",
      "\n"
     ]
    }
   ],
   "source": [
    "results = []\n",
    "for optim_fn in [ackley, griewank, rastrigin, rosenbrock, sphere, lin_fn]:\n",
    "    for n_dim, n_gen in zip([2, 30, 100, 1000], [100, 300, 1000, 2500]):\n",
    "        for std in [1, 10]:\n",
    "            st = time.time()\n",
    "            pops, fits, mrs, fitmrs = optim.run_evolution_ours(torch.randn(n_pop, n_dim)*std, optim_fn, n_gen)\n",
    "            max_time = time.time()-st\n",
    "#             print(fits.min())\n",
    "            results.append(fits.min().item())\n",
    "\n",
    "            print('GA')\n",
    "            print(f'Ran {len(pops)} Generations in {max_time: .02f} seconds to get fitness of {fits.min().item()}')\n",
    "#             print(max_time)\n",
    "            st = time.time()\n",
    "            pops, fits = run_evolution_cmaes(torch.randn(n_pop, n_dim)*std, optim_fn, n_gen=None, max_time=max_time)\n",
    "            max_time = time.time()-st\n",
    "            print('CMA')\n",
    "            print(f'Ran {len(pops)} Generations in {max_time: .02f} seconds to get fitness of {fits.min().item()}')\n",
    "#             print(time.time()-st)\n",
    "#             print(fits.min())\n",
    "            results.append(fits.min().item())\n",
    "            \n",
    "#             print()\n",
    "\n",
    "            print()"
   ]
  },
  {
   "cell_type": "code",
   "execution_count": 131,
   "id": "smart-dietary",
   "metadata": {},
   "outputs": [
    {
     "data": {
      "image/png": "[encoded data removed]",
      "text/plain": [
       "<Figure size 432x288 with 1 Axes>"
      ]
     },
     "metadata": {
      "needs_background": "light"
     },
     "output_type": "display_data"
    }
   ],
   "source": [
    "plt.plot(*a.reshape(-1, 2).T, c='w')\n",
    "plt.scatter(*a.reshape(-1, 2).T)\n",
    "plt.yscale('log')\n",
    "plt.xscale('log')\n"
   ]
  },
  {
   "cell_type": "code",
   "execution_count": 134,
   "id": "industrial-poultry",
   "metadata": {},
   "outputs": [
    {
     "data": {
      "text/plain": [
       "array([[[ True, False],\n",
       "        [ True,  True],\n",
       "        [ True,  True],\n",
       "        [ True,  True]],\n",
       "\n",
       "       [[ True, False],\n",
       "        [ True,  True],\n",
       "        [ True,  True],\n",
       "        [ True,  True]],\n",
       "\n",
       "       [[ True,  True],\n",
       "        [ True,  True],\n",
       "        [ True,  True],\n",
       "        [ True,  True]],\n",
       "\n",
       "       [[ True,  True],\n",
       "        [ True,  True],\n",
       "        [ True,  True],\n",
       "        [ True,  True]],\n",
       "\n",
       "       [[ True,  True],\n",
       "        [ True,  True],\n",
       "        [ True,  True],\n",
       "        [ True,  True]],\n",
       "\n",
       "       [[ True,  True],\n",
       "        [False, False],\n",
       "        [False, False],\n",
       "        [False, False]]])"
      ]
     },
     "execution_count": 134,
     "metadata": {},
     "output_type": "execute_result"
    }
   ],
   "source": [
    "\n",
    "(a[..., 0]< a[..., 1])\n"
   ]
  },
  {
   "cell_type": "code",
   "execution_count": null,
   "id": "auburn-bhutan",
   "metadata": {},
   "outputs": [],
   "source": []
  },
  {
   "cell_type": "code",
   "execution_count": null,
   "id": "honest-interaction",
   "metadata": {},
   "outputs": [],
   "source": []
  },
  {
   "cell_type": "code",
   "execution_count": 117,
   "id": "subsequent-recruitment",
   "metadata": {},
   "outputs": [
    {
     "data": {
      "text/plain": [
       "array([[[ True, False],\n",
       "        [ True,  True],\n",
       "        [ True,  True],\n",
       "        [ True,  True]],\n",
       "\n",
       "       [[ True, False],\n",
       "        [ True,  True],\n",
       "        [ True,  True],\n",
       "        [ True,  True]],\n",
       "\n",
       "       [[ True,  True],\n",
       "        [ True,  True],\n",
       "        [ True,  True],\n",
       "        [ True,  True]],\n",
       "\n",
       "       [[ True,  True],\n",
       "        [ True,  True],\n",
       "        [ True,  True],\n",
       "        [ True,  True]],\n",
       "\n",
       "       [[ True,  True],\n",
       "        [ True,  True],\n",
       "        [ True,  True],\n",
       "        [ True,  True]],\n",
       "\n",
       "       [[ True,  True],\n",
       "        [False, False],\n",
       "        [False, False],\n",
       "        [False, False]]])"
      ]
     },
     "execution_count": 117,
     "metadata": {},
     "output_type": "execute_result"
    }
   ],
   "source": [
    "a = np.array(results).reshape(6, 4, 2, 2)\n",
    "# a = np.array(results).reshape(-1, 2)\n",
    "a[..., 0] <a[..., 1]"
   ]
  },
  {
   "cell_type": "code",
   "execution_count": null,
   "id": "weird-opening",
   "metadata": {},
   "outputs": [],
   "source": []
  },
  {
   "cell_type": "code",
   "execution_count": 175,
   "id": "fresh-nashville",
   "metadata": {},
   "outputs": [],
   "source": [
    "from tqdm.notebook import tqdm"
   ]
  },
  {
   "cell_type": "code",
   "execution_count": 259,
   "id": "committed-letters",
   "metadata": {},
   "outputs": [
    {
     "data": {
      "application/vnd.jupyter.widget-view+json": {
       "model_id": "c31f6f1dcc4c42c897ad943118ad4517",
       "version_major": 2,
       "version_minor": 0
      },
      "text/plain": [
       "  0%|          | 0/10 [00:00<?, ?it/s]"
      ]
     },
     "metadata": {},
     "output_type": "display_data"
    },
    {
     "name": "stdout",
     "output_type": "stream",
     "text": [
      "(50_w,101)-aCMA-ES (mu_w=27.2,w_1=8%) in dimension 100 (seed=362807, Sat Nov  6 20:22:25 2021)\n",
      "(50_w,101)-aCMA-ES (mu_w=27.2,w_1=8%) in dimension 100 (seed=302420, Sat Nov  6 20:22:27 2021)\n",
      "(50_w,101)-aCMA-ES (mu_w=27.2,w_1=8%) in dimension 100 (seed=412787, Sat Nov  6 20:22:30 2021)\n",
      "(50_w,101)-aCMA-ES (mu_w=27.2,w_1=8%) in dimension 100 (seed=271471, Sat Nov  6 20:22:34 2021)\n",
      "(50_w,101)-aCMA-ES (mu_w=27.2,w_1=8%) in dimension 100 (seed=405983, Sat Nov  6 20:22:35 2021)\n",
      "(50_w,101)-aCMA-ES (mu_w=27.2,w_1=8%) in dimension 100 (seed=403909, Sat Nov  6 20:22:37 2021)\n",
      "(50_w,101)-aCMA-ES (mu_w=27.2,w_1=8%) in dimension 100 (seed=352862, Sat Nov  6 20:22:39 2021)\n",
      "(50_w,101)-aCMA-ES (mu_w=27.2,w_1=8%) in dimension 100 (seed=364271, Sat Nov  6 20:22:41 2021)\n",
      "(50_w,101)-aCMA-ES (mu_w=27.2,w_1=8%) in dimension 100 (seed=342146, Sat Nov  6 20:22:43 2021)\n",
      "(50_w,101)-aCMA-ES (mu_w=27.2,w_1=8%) in dimension 100 (seed=397301, Sat Nov  6 20:22:45 2021)\n"
     ]
    },
    {
     "data": {
      "application/vnd.jupyter.widget-view+json": {
       "model_id": "08afa0280e6347b587aa6569aee494cf",
       "version_major": 2,
       "version_minor": 0
      },
      "text/plain": [
       "  0%|          | 0/10 [00:00<?, ?it/s]"
      ]
     },
     "metadata": {},
     "output_type": "display_data"
    },
    {
     "name": "stdout",
     "output_type": "stream",
     "text": [
      "(50_w,101)-aCMA-ES (mu_w=27.2,w_1=8%) in dimension 100 (seed=444369, Sat Nov  6 20:22:48 2021)\n",
      "(50_w,101)-aCMA-ES (mu_w=27.2,w_1=8%) in dimension 100 (seed=316327, Sat Nov  6 20:22:52 2021)\n",
      "(50_w,101)-aCMA-ES (mu_w=27.2,w_1=8%) in dimension 100 (seed=361433, Sat Nov  6 20:22:54 2021)\n",
      "(50_w,101)-aCMA-ES (mu_w=27.2,w_1=8%) in dimension 100 (seed=335267, Sat Nov  6 20:22:56 2021)\n",
      "(50_w,101)-aCMA-ES (mu_w=27.2,w_1=8%) in dimension 100 (seed=317865, Sat Nov  6 20:22:59 2021)\n",
      "(50_w,101)-aCMA-ES (mu_w=27.2,w_1=8%) in dimension 100 (seed=414999, Sat Nov  6 20:23:01 2021)\n",
      "(50_w,101)-aCMA-ES (mu_w=27.2,w_1=8%) in dimension 100 (seed=341482, Sat Nov  6 20:23:03 2021)\n",
      "(50_w,101)-aCMA-ES (mu_w=27.2,w_1=8%) in dimension 100 (seed=358441, Sat Nov  6 20:23:05 2021)\n",
      "(50_w,101)-aCMA-ES (mu_w=27.2,w_1=8%) in dimension 100 (seed=356350, Sat Nov  6 20:23:07 2021)\n",
      "(50_w,101)-aCMA-ES (mu_w=27.2,w_1=8%) in dimension 100 (seed=290116, Sat Nov  6 20:23:09 2021)\n"
     ]
    },
    {
     "data": {
      "application/vnd.jupyter.widget-view+json": {
       "model_id": "28f8f7da59174a69b9ff5b9964f07acf",
       "version_major": 2,
       "version_minor": 0
      },
      "text/plain": [
       "  0%|          | 0/10 [00:00<?, ?it/s]"
      ]
     },
     "metadata": {},
     "output_type": "display_data"
    },
    {
     "name": "stdout",
     "output_type": "stream",
     "text": [
      "(50_w,101)-aCMA-ES (mu_w=27.2,w_1=8%) in dimension 100 (seed=307219, Sat Nov  6 20:23:11 2021)\n",
      "(50_w,101)-aCMA-ES (mu_w=27.2,w_1=8%) in dimension 100 (seed=322650, Sat Nov  6 20:23:13 2021)\n",
      "(50_w,101)-aCMA-ES (mu_w=27.2,w_1=8%) in dimension 100 (seed=381084, Sat Nov  6 20:23:14 2021)\n",
      "(50_w,101)-aCMA-ES (mu_w=27.2,w_1=8%) in dimension 100 (seed=357181, Sat Nov  6 20:23:16 2021)\n",
      "(50_w,101)-aCMA-ES (mu_w=27.2,w_1=8%) in dimension 100 (seed=341401, Sat Nov  6 20:23:18 2021)\n",
      "(50_w,101)-aCMA-ES (mu_w=27.2,w_1=8%) in dimension 100 (seed=277606, Sat Nov  6 20:23:20 2021)\n",
      "(50_w,101)-aCMA-ES (mu_w=27.2,w_1=8%) in dimension 100 (seed=387169, Sat Nov  6 20:23:21 2021)\n",
      "(50_w,101)-aCMA-ES (mu_w=27.2,w_1=8%) in dimension 100 (seed=383289, Sat Nov  6 20:23:23 2021)\n",
      "(50_w,101)-aCMA-ES (mu_w=27.2,w_1=8%) in dimension 100 (seed=351589, Sat Nov  6 20:23:25 2021)\n",
      "(50_w,101)-aCMA-ES (mu_w=27.2,w_1=8%) in dimension 100 (seed=378519, Sat Nov  6 20:23:26 2021)\n"
     ]
    },
    {
     "data": {
      "application/vnd.jupyter.widget-view+json": {
       "model_id": "0f951bf436b3413997db73faf4e9edee",
       "version_major": 2,
       "version_minor": 0
      },
      "text/plain": [
       "  0%|          | 0/10 [00:00<?, ?it/s]"
      ]
     },
     "metadata": {},
     "output_type": "display_data"
    },
    {
     "name": "stdout",
     "output_type": "stream",
     "text": [
      "(50_w,101)-aCMA-ES (mu_w=27.2,w_1=8%) in dimension 100 (seed=316459, Sat Nov  6 20:23:28 2021)\n",
      "(50_w,101)-aCMA-ES (mu_w=27.2,w_1=8%) in dimension 100 (seed=350470, Sat Nov  6 20:23:29 2021)\n",
      "(50_w,101)-aCMA-ES (mu_w=27.2,w_1=8%) in dimension 100 (seed=370524, Sat Nov  6 20:23:31 2021)\n",
      "(50_w,101)-aCMA-ES (mu_w=27.2,w_1=8%) in dimension 100 (seed=392765, Sat Nov  6 20:23:32 2021)\n",
      "(50_w,101)-aCMA-ES (mu_w=27.2,w_1=8%) in dimension 100 (seed=359738, Sat Nov  6 20:23:34 2021)\n",
      "(50_w,101)-aCMA-ES (mu_w=27.2,w_1=8%) in dimension 100 (seed=431220, Sat Nov  6 20:23:35 2021)\n",
      "(50_w,101)-aCMA-ES (mu_w=27.2,w_1=8%) in dimension 100 (seed=389132, Sat Nov  6 20:23:37 2021)\n",
      "(50_w,101)-aCMA-ES (mu_w=27.2,w_1=8%) in dimension 100 (seed=351784, Sat Nov  6 20:23:39 2021)\n",
      "(50_w,101)-aCMA-ES (mu_w=27.2,w_1=8%) in dimension 100 (seed=302002, Sat Nov  6 20:23:42 2021)\n",
      "(50_w,101)-aCMA-ES (mu_w=27.2,w_1=8%) in dimension 100 (seed=374768, Sat Nov  6 20:23:45 2021)\n"
     ]
    }
   ],
   "source": [
    "\n",
    "results = []\n",
    "# for optim_fn in [ackley, griewank, rastrigin, rosenbrock, sphere, lin_fn]:\n",
    "for optim_fn in [ackley, griewank, rastrigin, rosenbrock]:\n",
    "    for seed in tqdm(range(10)):\n",
    "        do_seed(seed)\n",
    "        n_dim, n_gen = 100, 1000\n",
    "        std = 10\n",
    "\n",
    "        st = time.time()\n",
    "        pops, fits, mrs, fitmrs = optim.run_evolution_ours(torch.randn(n_pop, n_dim)*std, optim_fn, n_gen)\n",
    "        max_time = time.time()-st\n",
    "    #             print(fits.min())\n",
    "        results.append(fits.min().item())\n",
    "\n",
    "    #     print('GA')\n",
    "    #     print(f'Ran {len(pops)} Generations in {max_time: .02f} seconds to get fitness of {fits.min().item()}')\n",
    "    #             print(max_time)\n",
    "        st = time.time()\n",
    "        pops, fits = run_evolution_cmaes(torch.randn(n_pop, n_dim)*std, optim_fn, n_gen=None, max_time=max_time)\n",
    "        max_time = time.time()-st\n",
    "    #     print('CMA')\n",
    "    #     print(f'Ran {len(pops)} Generations in {max_time: .02f} seconds to get fitness of {fits.min().item()}')\n",
    "    #             print(time.time()-st)\n",
    "    #             print(fits.min())\n",
    "        results.append(fits.min().item())\n",
    "    #             print()"
   ]
  },
  {
   "cell_type": "code",
   "execution_count": 260,
   "id": "painful-bailey",
   "metadata": {},
   "outputs": [],
   "source": [
    "a = np.array(results).reshape(4, -1, 2)"
   ]
  },
  {
   "cell_type": "code",
   "execution_count": 261,
   "id": "simple-grammar",
   "metadata": {},
   "outputs": [
    {
     "data": {
      "image/png": "[encoded data removed]",
      "text/plain": [
       "<Figure size 360x288 with 2 Axes>"
      ]
     },
     "metadata": {
      "needs_background": "light"
     },
     "output_type": "display_data"
    }
   ],
   "source": [
    "plt.figure(figsize=(5, 4))\n",
    "plt.subplot(211)\n",
    "plt.boxplot(a[0], vert=False, widths=[0.6]*2, labels=['GESMR', 'CMA-ES'])\n",
    "# plt.xlabel('Final Elite Function Value', fontsize=15)\n",
    "# plt.ylabel('Algorithm')\n",
    "plt.ylabel(f'Ackley {n_dim}-D', fontsize=12)\n",
    "# plt.xscale('log')\n",
    "\n",
    "plt.subplot(212)\n",
    "plt.boxplot(a[1], vert=False, widths=[0.6]*2, labels=['GESMR', 'CMA-ES'])\n",
    "plt.xlabel('Final Elite Function Value', fontsize=15)\n",
    "# plt.ylabel('Algorithm')\n",
    "plt.ylabel(f'Rosenbrock {n_dim}-D', fontsize=12)\n",
    "plt.xscale('log')\n",
    "plt.show()"
   ]
  },
  {
   "cell_type": "code",
   "execution_count": 265,
   "id": "novel-finish",
   "metadata": {},
   "outputs": [
    {
     "data": {
      "image/png": "[encoded data removed]",
      "text/plain": [
       "<Figure size 288x504 with 4 Axes>"
      ]
     },
     "metadata": {
      "needs_background": "light"
     },
     "output_type": "display_data"
    }
   ],
   "source": [
    "plt.figure(figsize=(4, 7))\n",
    "plt.subplot(411)\n",
    "plt.boxplot(a[0], vert=False, widths=[0.6]*2, labels=['GESMR', 'CMA-ES'])\n",
    "# plt.ylabel('Algorithm')\n",
    "plt.ylabel(f'Ackley {n_dim}-D', fontsize=12)\n",
    "# plt.xscale('log')\n",
    "\n",
    "plt.subplot(412)\n",
    "plt.boxplot(a[1], vert=False, widths=[0.6]*2, labels=['GESMR', 'CMA-ES'])\n",
    "# plt.ylabel('Algorithm')\n",
    "plt.ylabel(f'Griewank {n_dim}-D', fontsize=12)\n",
    "plt.xscale('log')\n",
    "\n",
    "plt.subplot(413)\n",
    "plt.boxplot(a[2], vert=False, widths=[0.6]*2, labels=['GESMR', 'CMA-ES'])\n",
    "# plt.ylabel('Algorithm')\n",
    "plt.ylabel(f'Rastrigin {n_dim}-D', fontsize=12)\n",
    "# plt.xscale('log')\n",
    "\n",
    "plt.subplot(414)\n",
    "plt.boxplot(a[3], vert=False, widths=[0.6]*2, labels=['GESMR', 'CMA-ES'])\n",
    "plt.xlabel('Final Elite Function Value', fontsize=15)\n",
    "# plt.ylabel('Algorithm')\n",
    "plt.ylabel(f'Rosenbrock {n_dim}-D', fontsize=12)\n",
    "plt.xscale('log')\n",
    "\n",
    "plt.tight_layout()\n",
    "\n",
    "plt.show()"
   ]
  },
  {
   "cell_type": "code",
   "execution_count": 285,
   "id": "proud-architect",
   "metadata": {},
   "outputs": [],
   "source": [
    "a.shape\n",
    "b = a.mean(axis=1)\n",
    "bstd = a.std(axis=1)"
   ]
  },
  {
   "cell_type": "code",
   "execution_count": null,
   "id": "boring-brooks",
   "metadata": {},
   "outputs": [],
   "source": []
  },
  {
   "cell_type": "code",
   "execution_count": null,
   "id": "lovely-cooperation",
   "metadata": {},
   "outputs": [],
   "source": []
  },
  {
   "cell_type": "code",
   "execution_count": null,
   "id": "handed-citizenship",
   "metadata": {},
   "outputs": [],
   "source": []
  },
  {
   "cell_type": "code",
   "execution_count": null,
   "id": "orange-jungle",
   "metadata": {},
   "outputs": [],
   "source": []
  },
  {
   "cell_type": "code",
   "execution_count": 326,
   "id": "illegal-grounds",
   "metadata": {},
   "outputs": [
    {
     "data": {
      "image/png": "[encoded data removed]",
      "text/plain": [
       "<Figure size 400x400 with 4 Axes>"
      ]
     },
     "metadata": {},
     "output_type": "display_data"
    }
   ],
   "source": [
    "plt.figure(figsize=(4, 4))\n",
    "plt.subplot(411)\n",
    "\n",
    "people = ('GESMR', 'CMA-ES')\n",
    "y_pos = np.arange(len(people))\n",
    "plt.barh(y_pos, b[0], xerr=bstd[0], height=0.6, align='center', color=['darkgreen', 'darkred'])\n",
    "plt.yticks(y_pos, people)\n",
    "plt.ylabel(f'Ackley', fontsize=12)\n",
    "\n",
    "plt.subplot(412)\n",
    "\n",
    "people = ('GESMR', 'CMA-ES')\n",
    "y_pos = np.arange(len(people))\n",
    "plt.barh(y_pos, b[1], xerr=bstd[1], height=0.6, align='center', color=['darkgreen', 'darkred'])\n",
    "plt.yticks(y_pos, people)\n",
    "plt.ylabel('Griewank', fontsize=12)\n",
    "plt.xscale('log')\n",
    "\n",
    "plt.subplot(413)\n",
    "\n",
    "people = ('GESMR', 'CMA-ES')\n",
    "y_pos = np.arange(len(people))\n",
    "plt.barh(y_pos, b[2], xerr=bstd[2], height=0.6, align='center', color=['darkgreen', 'darkred'])\n",
    "plt.yticks(y_pos, people)\n",
    "plt.ylabel('Rastrigin', fontsize=12)\n",
    "# plt.xscale('log')\n",
    "\n",
    "plt.subplot(414)\n",
    "\n",
    "people = ('GESMR', 'CMA-ES')\n",
    "y_pos = np.arange(len(people))\n",
    "plt.barh(y_pos, b[3], xerr=bstd[3], height=0.6, align='center', color=['darkgreen', 'darkred'])\n",
    "plt.yticks(y_pos, people)\n",
    "plt.ylabel('Rosenbrock', fontsize=12)\n",
    "plt.xscale('log')\n",
    "\n",
    "plt.xlabel('Final Value (lower is better)', fontsize=12)\n",
    "\n",
    "plt.tight_layout()\n",
    "\n",
    "plt.savefig('rebuttal.png', dpi=700)\n",
    "plt.show()"
   ]
  },
  {
   "cell_type": "code",
   "execution_count": null,
   "id": "cardiac-assumption",
   "metadata": {},
   "outputs": [],
   "source": []
  },
  {
   "cell_type": "code",
   "execution_count": 291,
   "id": "suburban-valuation",
   "metadata": {},
   "outputs": [
    {
     "data": {
      "image/png": "[encoded data removed]",
      "text/plain": [
       "<Figure size 640x480 with 1 Axes>"
      ]
     },
     "metadata": {},
     "output_type": "display_data"
    }
   ],
   "source": [
    "import matplotlib.pyplot as plt\n",
    "import numpy as np\n",
    "\n",
    "# Fixing random state for reproducibility\n",
    "np.random.seed(19680801)\n",
    "\n",
    "\n",
    "fig, ax = plt.subplots()\n",
    "# Example data\n",
    "people = ('GESMR', 'CMA-ES')\n",
    "y_pos = np.arange(len(people))\n",
    "ax.barh(y_pos, b[0], xerr=bstd[0], align='center')\n",
    "ax.set_yticks(y_pos); ax.set_yticklabels(people)\n",
    "ax.invert_yaxis()  # labels read top-to-bottom\n",
    "# ax.set_xlabel('Performance')\n",
    "# ax.set_title('How fast do you want to go today?')\n",
    "\n",
    "plt.show()"
   ]
  },
  {
   "cell_type": "code",
   "execution_count": null,
   "id": "smooth-proportion",
   "metadata": {},
   "outputs": [],
   "source": []
  },
  {
   "cell_type": "code",
   "execution_count": null,
   "id": "other-joyce",
   "metadata": {},
   "outputs": [],
   "source": []
  },
  {
   "cell_type": "code",
   "execution_count": 86,
   "id": "linear-government",
   "metadata": {},
   "outputs": [
    {
     "name": "stdout",
     "output_type": "stream",
     "text": [
      "(50_w,101)-aCMA-ES (mu_w=27.2,w_1=8%) in dimension 2 (seed=148416, Thu Nov  4 01:08:42 2021)\n",
      "(50_w,101)-aCMA-ES (mu_w=27.2,w_1=8%) in dimension 32 (seed=173422, Thu Nov  4 01:08:42 2021)\n",
      "(50_w,101)-aCMA-ES (mu_w=27.2,w_1=8%) in dimension 62 (seed=25595, Thu Nov  4 01:08:43 2021)\n",
      "(50_w,101)-aCMA-ES (mu_w=27.2,w_1=8%) in dimension 92 (seed=128502, Thu Nov  4 01:08:43 2021)\n",
      "(50_w,101)-aCMA-ES (mu_w=27.2,w_1=8%) in dimension 122 (seed=88921, Thu Nov  4 01:08:43 2021)\n",
      "(50_w,101)-aCMA-ES (mu_w=27.2,w_1=8%) in dimension 152 (seed=196260, Thu Nov  4 01:08:43 2021)\n",
      "(50_w,101)-aCMA-ES (mu_w=27.2,w_1=8%) in dimension 182 (seed=65226, Thu Nov  4 01:08:44 2021)\n",
      "(50_w,101)-aCMA-ES (mu_w=27.2,w_1=8%) in dimension 212 (seed=88813, Thu Nov  4 01:08:44 2021)\n",
      "(50_w,101)-aCMA-ES (mu_w=27.2,w_1=8%) in dimension 242 (seed=51995, Thu Nov  4 01:08:45 2021)\n",
      "(50_w,101)-aCMA-ES (mu_w=27.2,w_1=8%) in dimension 272 (seed=88614, Thu Nov  4 01:08:45 2021)\n",
      "(50_w,101)-aCMA-ES (mu_w=27.2,w_1=8%) in dimension 302 (seed=134678, Thu Nov  4 01:08:45 2021)\n",
      "(50_w,101)-aCMA-ES (mu_w=27.2,w_1=8%) in dimension 332 (seed=54081, Thu Nov  4 01:08:46 2021)\n",
      "(50_w,101)-aCMA-ES (mu_w=27.2,w_1=8%) in dimension 362 (seed=47104, Thu Nov  4 01:08:47 2021)\n",
      "(50_w,101)-aCMA-ES (mu_w=27.2,w_1=8%) in dimension 392 (seed=157217, Thu Nov  4 01:08:47 2021)\n",
      "(50_w,101)-aCMA-ES (mu_w=27.2,w_1=8%) in dimension 422 (seed=108030, Thu Nov  4 01:08:48 2021)\n",
      "(50_w,101)-aCMA-ES (mu_w=27.2,w_1=8%) in dimension 452 (seed=78090, Thu Nov  4 01:08:49 2021)\n",
      "(50_w,101)-aCMA-ES (mu_w=27.2,w_1=8%) in dimension 482 (seed=123162, Thu Nov  4 01:08:49 2021)\n",
      "(50_w,101)-aCMA-ES (mu_w=27.2,w_1=8%) in dimension 512 (seed=161897, Thu Nov  4 01:08:50 2021)\n",
      "(50_w,101)-aCMA-ES (mu_w=27.2,w_1=8%) in dimension 542 (seed=121315, Thu Nov  4 01:08:51 2021)\n",
      "(50_w,101)-aCMA-ES (mu_w=27.2,w_1=8%) in dimension 572 (seed=142870, Thu Nov  4 01:08:52 2021)\n",
      "(50_w,101)-aCMA-ES (mu_w=27.2,w_1=8%) in dimension 602 (seed=83017, Thu Nov  4 01:08:53 2021)\n",
      "(50_w,101)-aCMA-ES (mu_w=27.2,w_1=8%) in dimension 632 (seed=127621, Thu Nov  4 01:08:54 2021)\n",
      "(50_w,101)-aCMA-ES (mu_w=27.2,w_1=8%) in dimension 662 (seed=153828, Thu Nov  4 01:08:55 2021)\n",
      "(50_w,101)-aCMA-ES (mu_w=27.2,w_1=8%) in dimension 692 (seed=77771, Thu Nov  4 01:08:57 2021)\n",
      "(50_w,101)-aCMA-ES (mu_w=27.2,w_1=8%) in dimension 722 (seed=135497, Thu Nov  4 01:08:58 2021)\n",
      "(50_w,101)-aCMA-ES (mu_w=27.2,w_1=8%) in dimension 752 (seed=94880, Thu Nov  4 01:08:59 2021)\n",
      "(50_w,101)-aCMA-ES (mu_w=27.2,w_1=8%) in dimension 782 (seed=64995, Thu Nov  4 01:09:01 2021)\n",
      "(50_w,101)-aCMA-ES (mu_w=27.2,w_1=8%) in dimension 812 (seed=55222, Thu Nov  4 01:09:02 2021)\n",
      "(50_w,101)-aCMA-ES (mu_w=27.2,w_1=8%) in dimension 842 (seed=82442, Thu Nov  4 01:09:04 2021)\n",
      "(50_w,101)-aCMA-ES (mu_w=27.2,w_1=8%) in dimension 872 (seed=183374, Thu Nov  4 01:09:05 2021)\n",
      "(50_w,101)-aCMA-ES (mu_w=27.2,w_1=8%) in dimension 902 (seed=133388, Thu Nov  4 01:09:07 2021)\n",
      "(50_w,101)-aCMA-ES (mu_w=27.2,w_1=8%) in dimension 932 (seed=109716, Thu Nov  4 01:09:09 2021)\n",
      "(50_w,101)-aCMA-ES (mu_w=27.2,w_1=8%) in dimension 962 (seed=61249, Thu Nov  4 01:09:12 2021)\n",
      "(50_w,101)-aCMA-ES (mu_w=27.2,w_1=8%) in dimension 992 (seed=85702, Thu Nov  4 01:09:14 2021)\n"
     ]
    }
   ],
   "source": [
    "n_gen = 10\n",
    "n_pop = 101\n",
    "n_dim = 100\n",
    "std = 10\n",
    "\n",
    "optim_fn = ackley\n",
    "\n",
    "tts=[]\n",
    "n_dims = np.array(range(2, 1000, 30))\n",
    "for n_dim in n_dims:\n",
    "    st = time.time()\n",
    "    pops, fits, mrs, fitmrs = optim.run_evolution_ours(torch.randn(n_pop, n_dim)*std, optim_fn, n_gen)\n",
    "    tt = time.time()-st\n",
    "    tts.append(tt)\n",
    "    \n",
    "    st = time.time()\n",
    "    pops, fits = run_evolution_cmaes(torch.randn(n_pop, n_dim)*std, optim_fn, n_gen=n_gen, max_time=None)\n",
    "    tt = time.time()-st\n",
    "    tts.append(tt)\n",
    "    \n",
    "    "
   ]
  },
  {
   "cell_type": "code",
   "execution_count": 91,
   "id": "federal-calcium",
   "metadata": {},
   "outputs": [],
   "source": [
    "tts = np.array(tts).reshape(-1, 2)"
   ]
  },
  {
   "cell_type": "code",
   "execution_count": 96,
   "id": "intellectual-tradition",
   "metadata": {},
   "outputs": [
    {
     "data": {
      "image/png": "[encoded data removed]",
      "text/plain": [
       "<Figure size 432x288 with 1 Axes>"
      ]
     },
     "metadata": {
      "needs_background": "light"
     },
     "output_type": "display_data"
    }
   ],
   "source": [
    "plt.plot(n_dims, tts[:, 0])\n",
    "plt.plot(n_dims, tts[:, 1])\n",
    "plt.yscale('log')"
   ]
  },
  {
   "cell_type": "code",
   "execution_count": null,
   "id": "brazilian-induction",
   "metadata": {},
   "outputs": [],
   "source": []
  }
 ],
 "metadata": {
  "kernelspec": {
   "display_name": "Python 3",
   "language": "python",
   "name": "python3"
  },
  "language_info": {
   "codemirror_mode": {
    "name": "ipython",
    "version": 3
   },
   "file_extension": ".py",
   "mimetype": "text/x-python",
   "name": "python",
   "nbconvert_exporter": "python",
   "pygments_lexer": "ipython3",
   "version": "3.8.2"
  }
 },
 "nbformat": 4,
 "nbformat_minor": 5
}
