{
 "cells": [
  {
   "cell_type": "code",
   "execution_count": 1,
   "id": "lined-player",
   "metadata": {},
   "outputs": [],
   "source": [
    "%load_ext autoreload\n",
    "%autoreload 2"
   ]
  },
  {
   "cell_type": "code",
   "execution_count": 2,
   "id": "million-network",
   "metadata": {},
   "outputs": [],
   "source": [
    "import numpy as np\n",
    "import torch\n",
    "from torch import nn\n",
    "import torchvision\n",
    "import matplotlib.pyplot as plt\n",
    "from tqdm.notebook import tqdm\n",
    "\n",
    "import os\n",
    "import shutil\n",
    "\n",
    "from torchinfo import summary\n",
    "import torch.utils.tensorboard as tb\n",
    "\n",
    "import models\n",
    "import mnist\n",
    "\n",
    "torch.manual_seed(0);"
   ]
  },
  {
   "cell_type": "code",
   "execution_count": 3,
   "id": "pleasant-sleeping",
   "metadata": {},
   "outputs": [],
   "source": [
    "# import tempfile\n",
    "# tb_log_dir = tempfile.mkdtemp()\n",
    "user = os.getlogin()\n",
    "# tb_log_dir = os.path.join(cp.data_dir, 'tensorboard/', user)\n",
    "tb_log_dir = f'/tmp/tensorboard/{user}'\n",
    "# print(tb_log_dir)\n",
    "    "
   ]
  },
  {
   "cell_type": "code",
   "execution_count": null,
   "id": "distant-unemployment",
   "metadata": {},
   "outputs": [],
   "source": [
    "if os.path.exists(tb_log_dir):\n",
    "    shutil.rmtree(tb_log_dir)"
   ]
  },
  {
   "cell_type": "code",
   "execution_count": 4,
   "id": "occasional-country",
   "metadata": {},
   "outputs": [],
   "source": [
    "logger = tb.SummaryWriter(tb_log_dir)"
   ]
  },
  {
   "cell_type": "code",
   "execution_count": 5,
   "id": "circular-amsterdam",
   "metadata": {},
   "outputs": [
    {
     "data": {
      "application/vnd.jupyter.widget-view+json": {
       "model_id": "d3a894261b6a4c5d9688621a1126bf86",
       "version_major": 2,
       "version_minor": 0
      },
      "text/plain": [
       "  0%|          | 0/938 [00:00<?, ?it/s]"
      ]
     },
     "metadata": {},
     "output_type": "display_data"
    }
   ],
   "source": [
    "X_train, Y_train = [], []\n",
    "for X_batch, Y_batch in tqdm(mnist.train_loader):\n",
    "    X_train.append(X_batch)\n",
    "    Y_train.append(Y_batch)"
   ]
  },
  {
   "cell_type": "code",
   "execution_count": 6,
   "id": "bigger-attention",
   "metadata": {
    "tags": []
   },
   "outputs": [],
   "source": [
    "batch_idx = 0\n",
    "def calc_pheo_fitness(net):\n",
    "    global batch_idx\n",
    "#     batch_idx, (X_batch, Y_batch) = next(enumerate(mnist.train_loader))\n",
    "    X_batch, Y_batch = X_train[batch_idx], Y_train[batch_idx]\n",
    "#     batch_idx = (batch_idx+1)%len(X_train)\n",
    "    \n",
    "    Y_batch_pred = net(X_batch)\n",
    "    n_correct = (Y_batch_pred.argmax(dim=-1)==Y_batch).sum().item()\n",
    "    loss = mnist.loss_func(Y_batch_pred.log(), Y_batch).item()\n",
    "    accuracy = n_correct/len(Y_batch)\n",
    "    return loss, accuracy"
   ]
  },
  {
   "cell_type": "code",
   "execution_count": 7,
   "id": "persistent-macintosh",
   "metadata": {
    "tags": []
   },
   "outputs": [
    {
     "data": {
      "application/vnd.jupyter.widget-view+json": {
       "model_id": "4de2fc4328f14052bdb81c7787193ff6",
       "version_major": 2,
       "version_minor": 0
      },
      "text/plain": [
       "  0%|          | 0/500 [00:00<?, ?it/s]"
      ]
     },
     "metadata": {},
     "output_type": "display_data"
    }
   ],
   "source": [
    "model = models.SmallNet\n",
    "\n",
    "def to_np_array(population):\n",
    "    pop = np.empty(len(population), dtype=object)\n",
    "    for i in range(len(pop)):\n",
    "        pop[i] = population[i]\n",
    "    return pop\n",
    "\n",
    "def get_init_population():\n",
    "    pop = [nn.utils.parameters_to_vector(model().parameters()).detach() for _ in range(30)]\n",
    "    pop = to_np_array(pop)\n",
    "    return pop\n",
    "\n",
    "def geno2pheno():\n",
    "    pass\n",
    "def pheno2geno():\n",
    "    pass\n",
    "\n",
    "def calc_fitnesses(population):\n",
    "    agent = model()\n",
    "    fitnesses = []\n",
    "    fitnesses_acc = []\n",
    "    for dna in population:\n",
    "        nn.utils.vector_to_parameters(dna, agent.parameters())\n",
    "#         fitness = -perform_stats(agent, train_loader, n_batches=1, show_stats=False, tqdm=None)[0]\n",
    "        nll, acc = calc_pheo_fitness(agent)\n",
    "        fitnesses.append(-nll)\n",
    "        fitnesses_acc.append(acc)\n",
    "    return {'nll': fitnesses, 'accuracy': fitnesses_acc}\n",
    "\n",
    "def calc_mutate(pop):\n",
    "    mutant = [d+1e-2*torch.randn_like(d) for d in pop]\n",
    "    return mutant\n",
    "\n",
    "def calc_mutate(pop):\n",
    "    mutant = []\n",
    "    for p in pop:\n",
    "        pm = p.clone()\n",
    "        mutate_mask = torch.rand_like(pm)<0.01\n",
    "        pm[mutate_mask] = torch.randn(mutate_mask.sum())\n",
    "        mutant.append(pm)\n",
    "    return mutant\n",
    "\n",
    "def calc_crossover(pop1, pop2):\n",
    "    cross = [torch.stack([d1, d2], dim=0).mean(dim=0) for d1, d2 in zip(pop1, pop2)]\n",
    "    return cross\n",
    "    \n",
    "def calc_next_population(population):\n",
    "    fitnesses = calc_fitnesses(population)\n",
    "    N = len(population)\n",
    "    npop = []\n",
    "    \n",
    "    n_keep_best = int(.1*N)\n",
    "    npop.extend(population[np.argsort(fitnesses['nll'])[-n_keep_best:]])\n",
    "    \n",
    "    prob = torch.tensor(fitnesses['nll']).softmax(dim=-1).numpy()\n",
    "    \n",
    "    n_parents = int(.0*N)\n",
    "    n_mutants = N-n_keep_best-n_parents\n",
    "    \n",
    "    mutants = np.random.choice(population, size=n_mutants, p=prob)\n",
    "    mutants = calc_mutate(mutants)\n",
    "    parents1 = np.random.choice(population, size=n_parents, p=prob)\n",
    "    parents2 = np.random.choice(population, size=n_parents, p=prob)\n",
    "    children = calc_crossover(parents1, parents2)\n",
    "    \n",
    "    npop.extend(mutants)\n",
    "    npop.extend(children)\n",
    "    \n",
    "    npop = to_np_array(npop)\n",
    "    return npop, fitnesses\n",
    "    \n",
    "    \n",
    "\n",
    "population = get_init_population()\n",
    "for gen_idx in tqdm(range(500)):\n",
    "    population, fitnesses = calc_next_population(population)\n",
    "    \n",
    "    nll = np.array(fitnesses['nll'])\n",
    "    acc = np.array(fitnesses['accuracy'])\n",
    "#     nll = nll[(nll-nll.mean())<2*nll.std()]\n",
    "#     logger.add_histogram('nll', nll, global_step=gen_idx)\n",
    "#     logger.add_histogram('accuracy', acc, global_step=gen_idx)\n",
    "#     logger.add_scalars('1000 BATCH SIZE, different batch, some perturbed', \n",
    "#                        {'best': np.max(fitnesses['nll']),\n",
    "#                         'median': np.median(fitnesses['nll']),}, global_step=gen_idx)\n",
    "#     if gen_idx%20==0:\n",
    "#         a = torch.stack(list(population))\n",
    "#         plt.figure(figsize=(5, 5))\n",
    "#         plt.imshow((a[:, None, :]-a[None, :, :]).norm(dim=-1))\n",
    "#         plt.colorbar()\n",
    "#         logger.add_figure('similarity', plt.gcf(), global_step=gen_idx)\n"
   ]
  },
  {
   "cell_type": "code",
   "execution_count": 8,
   "id": "weighted-ambassador",
   "metadata": {},
   "outputs": [],
   "source": [
    "net = model()\n",
    "v = population[np.argmax(fitnesses['nll'])]\n",
    "nn.utils.vector_to_parameters(v, net.parameters())\n"
   ]
  },
  {
   "cell_type": "code",
   "execution_count": 17,
   "id": "molecular-annex",
   "metadata": {},
   "outputs": [
    {
     "name": "stderr",
     "output_type": "stream",
     "text": [
      "                                             "
     ]
    },
    {
     "name": "stdout",
     "output_type": "stream",
     "text": [
      "Average Loss: 1.867, Accuracy: 35.790%\n"
     ]
    },
    {
     "name": "stderr",
     "output_type": "stream",
     "text": [
      "\r"
     ]
    },
    {
     "data": {
      "text/plain": [
       "(1.8669695258140564, 0.3579)"
      ]
     },
     "execution_count": 17,
     "metadata": {},
     "output_type": "execute_result"
    }
   ],
   "source": [
    "mnist.perform_stats(net, mnist.test_loader)"
   ]
  },
  {
   "cell_type": "code",
   "execution_count": 10,
   "id": "digital-stick",
   "metadata": {},
   "outputs": [
    {
     "name": "stderr",
     "output_type": "stream",
     "text": [
      "                                             "
     ]
    },
    {
     "name": "stdout",
     "output_type": "stream",
     "text": [
      "Average Loss: 2.785, Accuracy: 41.430%\n"
     ]
    },
    {
     "name": "stderr",
     "output_type": "stream",
     "text": [
      "\r"
     ]
    },
    {
     "data": {
      "text/plain": [
       "(2.7850720167160032, 0.4143)"
      ]
     },
     "execution_count": 10,
     "metadata": {},
     "output_type": "execute_result"
    }
   ],
   "source": [
    "mnist.perform_stats(net, mnist.test_loader)"
   ]
  },
  {
   "cell_type": "code",
   "execution_count": null,
   "id": "nonprofit-anime",
   "metadata": {},
   "outputs": [],
   "source": []
  },
  {
   "cell_type": "code",
   "execution_count": null,
   "id": "wired-norfolk",
   "metadata": {},
   "outputs": [],
   "source": []
  },
  {
   "cell_type": "code",
   "execution_count": null,
   "id": "divine-thought",
   "metadata": {},
   "outputs": [],
   "source": []
  },
  {
   "cell_type": "markdown",
   "id": "promising-treasurer",
   "metadata": {},
   "source": [
    "# Now, we are going to learn the crossover function"
   ]
  },
  {
   "cell_type": "code",
   "execution_count": 6,
   "id": "exterior-bulgaria",
   "metadata": {},
   "outputs": [],
   "source": [
    "model = models.SmallNet\n",
    "net = model()\n",
    "v = torch.nn.utils.parameters_to_vector(net.parameters())\n",
    "torch.nn.utils.vector_to_parameters(v, net.parameters())\n",
    "dna_len = len(v)"
   ]
  },
  {
   "cell_type": "code",
   "execution_count": 7,
   "id": "reserved-armor",
   "metadata": {
    "tags": []
   },
   "outputs": [
    {
     "data": {
      "text/plain": [
       "==========================================================================================\n",
       "Layer (type:depth-idx)                   Output Shape              Param #\n",
       "==========================================================================================\n",
       "CONet                                    --                        --\n",
       "├─Linear: 1-1                            [1, 2, 130]               17,030\n",
       "├─Linear: 1-2                            [1, 130]                  33,930\n",
       "├─Linear: 1-3                            [1, 130]                  17,030\n",
       "==========================================================================================\n",
       "Total params: 67,990\n",
       "Trainable params: 67,990\n",
       "Non-trainable params: 0\n",
       "Total mult-adds (M): 0.07\n",
       "==========================================================================================\n",
       "Input size (MB): 0.00\n",
       "Forward/backward pass size (MB): 0.00\n",
       "Params size (MB): 0.27\n",
       "Estimated Total Size (MB): 0.28\n",
       "=========================================================================================="
      ]
     },
     "execution_count": 7,
     "metadata": {},
     "output_type": "execute_result"
    }
   ],
   "source": [
    "class CONet(nn.Module):\n",
    "    def __init__(self, amount=1e-2):\n",
    "        super().__init__()\n",
    "        n = dna_len\n",
    "\n",
    "        self.lin1 = nn.Linear(n, n)\n",
    "        self.lin2 = nn.Linear(2*n, n)\n",
    "        self.lin3 = nn.Linear(n, n)\n",
    "        self.amount = amount\n",
    "\n",
    "    def forward(self, x):\n",
    "        a, b = x[:, 0, :], x[:, 1, :]\n",
    "        bs = len(x)\n",
    "        x = torch.sigmoid(self.lin1(x))\n",
    "        x = x.reshape(bs, -1)\n",
    "        x = torch.sigmoid(self.lin2(x))\n",
    "        x = torch.sigmoid(self.lin3(x))\n",
    "        return (a+b)/2. + x*self.amount\n",
    "\n",
    "conet = CONet()\n",
    "summary(conet, input_size=(1, 2, dna_len))"
   ]
  },
  {
   "cell_type": "markdown",
   "id": "satisfactory-eating",
   "metadata": {},
   "source": [
    "# two ideas need to pursued:\n",
    "- having a population of agents and a separate population of crossover networks\n",
    "- having a population of male and female agents, where female agents consist of an overhead crossover network"
   ]
  },
  {
   "cell_type": "markdown",
   "id": "simple-angle",
   "metadata": {},
   "source": [
    "## below is implementation of a male-female system"
   ]
  },
  {
   "cell_type": "code",
   "execution_count": 8,
   "id": "affecting-wings",
   "metadata": {
    "tags": []
   },
   "outputs": [
    {
     "data": {
      "application/vnd.jupyter.widget-view+json": {
       "model_id": "b43e228bb9394fcb934ec4fee46ecb99",
       "version_major": 2,
       "version_minor": 0
      },
      "text/plain": [
       "  0%|          | 0/15 [00:00<?, ?it/s]"
      ]
     },
     "metadata": {},
     "output_type": "display_data"
    },
    {
     "data": {
      "application/vnd.jupyter.widget-view+json": {
       "model_id": "",
       "version_major": 2,
       "version_minor": 0
      },
      "text/plain": [
       "  0%|          | 0/6 [00:00<?, ?it/s]"
      ]
     },
     "metadata": {},
     "output_type": "display_data"
    },
    {
     "data": {
      "application/vnd.jupyter.widget-view+json": {
       "model_id": "",
       "version_major": 2,
       "version_minor": 0
      },
      "text/plain": [
       "  0%|          | 0/1000 [00:00<?, ?it/s]"
      ]
     },
     "metadata": {},
     "output_type": "display_data"
    },
    {
     "data": {
      "application/vnd.jupyter.widget-view+json": {
       "model_id": "",
       "version_major": 2,
       "version_minor": 0
      },
      "text/plain": [
       "  0%|          | 0/1000 [00:00<?, ?it/s]"
      ]
     },
     "metadata": {},
     "output_type": "display_data"
    },
    {
     "data": {
      "application/vnd.jupyter.widget-view+json": {
       "model_id": "",
       "version_major": 2,
       "version_minor": 0
      },
      "text/plain": [
       "  0%|          | 0/1000 [00:00<?, ?it/s]"
      ]
     },
     "metadata": {},
     "output_type": "display_data"
    },
    {
     "data": {
      "application/vnd.jupyter.widget-view+json": {
       "model_id": "",
       "version_major": 2,
       "version_minor": 0
      },
      "text/plain": [
       "  0%|          | 0/1000 [00:00<?, ?it/s]"
      ]
     },
     "metadata": {},
     "output_type": "display_data"
    },
    {
     "data": {
      "application/vnd.jupyter.widget-view+json": {
       "model_id": "",
       "version_major": 2,
       "version_minor": 0
      },
      "text/plain": [
       "  0%|          | 0/1000 [00:00<?, ?it/s]"
      ]
     },
     "metadata": {},
     "output_type": "display_data"
    },
    {
     "data": {
      "application/vnd.jupyter.widget-view+json": {
       "model_id": "",
       "version_major": 2,
       "version_minor": 0
      },
      "text/plain": [
       "  0%|          | 0/1000 [00:00<?, ?it/s]"
      ]
     },
     "metadata": {},
     "output_type": "display_data"
    },
    {
     "data": {
      "application/vnd.jupyter.widget-view+json": {
       "model_id": "",
       "version_major": 2,
       "version_minor": 0
      },
      "text/plain": [
       "  0%|          | 0/6 [00:00<?, ?it/s]"
      ]
     },
     "metadata": {},
     "output_type": "display_data"
    },
    {
     "data": {
      "application/vnd.jupyter.widget-view+json": {
       "model_id": "",
       "version_major": 2,
       "version_minor": 0
      },
      "text/plain": [
       "  0%|          | 0/1000 [00:00<?, ?it/s]"
      ]
     },
     "metadata": {},
     "output_type": "display_data"
    },
    {
     "data": {
      "application/vnd.jupyter.widget-view+json": {
       "model_id": "",
       "version_major": 2,
       "version_minor": 0
      },
      "text/plain": [
       "  0%|          | 0/1000 [00:00<?, ?it/s]"
      ]
     },
     "metadata": {},
     "output_type": "display_data"
    },
    {
     "data": {
      "application/vnd.jupyter.widget-view+json": {
       "model_id": "",
       "version_major": 2,
       "version_minor": 0
      },
      "text/plain": [
       "  0%|          | 0/1000 [00:00<?, ?it/s]"
      ]
     },
     "metadata": {},
     "output_type": "display_data"
    },
    {
     "data": {
      "application/vnd.jupyter.widget-view+json": {
       "model_id": "",
       "version_major": 2,
       "version_minor": 0
      },
      "text/plain": [
       "  0%|          | 0/1000 [00:00<?, ?it/s]"
      ]
     },
     "metadata": {},
     "output_type": "display_data"
    },
    {
     "data": {
      "application/vnd.jupyter.widget-view+json": {
       "model_id": "",
       "version_major": 2,
       "version_minor": 0
      },
      "text/plain": [
       "  0%|          | 0/1000 [00:00<?, ?it/s]"
      ]
     },
     "metadata": {},
     "output_type": "display_data"
    },
    {
     "data": {
      "application/vnd.jupyter.widget-view+json": {
       "model_id": "",
       "version_major": 2,
       "version_minor": 0
      },
      "text/plain": [
       "  0%|          | 0/1000 [00:00<?, ?it/s]"
      ]
     },
     "metadata": {},
     "output_type": "display_data"
    },
    {
     "data": {
      "application/vnd.jupyter.widget-view+json": {
       "model_id": "",
       "version_major": 2,
       "version_minor": 0
      },
      "text/plain": [
       "  0%|          | 0/6 [00:00<?, ?it/s]"
      ]
     },
     "metadata": {},
     "output_type": "display_data"
    },
    {
     "data": {
      "application/vnd.jupyter.widget-view+json": {
       "model_id": "",
       "version_major": 2,
       "version_minor": 0
      },
      "text/plain": [
       "  0%|          | 0/1000 [00:00<?, ?it/s]"
      ]
     },
     "metadata": {},
     "output_type": "display_data"
    },
    {
     "data": {
      "application/vnd.jupyter.widget-view+json": {
       "model_id": "",
       "version_major": 2,
       "version_minor": 0
      },
      "text/plain": [
       "  0%|          | 0/1000 [00:00<?, ?it/s]"
      ]
     },
     "metadata": {},
     "output_type": "display_data"
    },
    {
     "data": {
      "application/vnd.jupyter.widget-view+json": {
       "model_id": "",
       "version_major": 2,
       "version_minor": 0
      },
      "text/plain": [
       "  0%|          | 0/1000 [00:00<?, ?it/s]"
      ]
     },
     "metadata": {},
     "output_type": "display_data"
    },
    {
     "data": {
      "application/vnd.jupyter.widget-view+json": {
       "model_id": "",
       "version_major": 2,
       "version_minor": 0
      },
      "text/plain": [
       "  0%|          | 0/1000 [00:00<?, ?it/s]"
      ]
     },
     "metadata": {},
     "output_type": "display_data"
    },
    {
     "data": {
      "application/vnd.jupyter.widget-view+json": {
       "model_id": "",
       "version_major": 2,
       "version_minor": 0
      },
      "text/plain": [
       "  0%|          | 0/1000 [00:00<?, ?it/s]"
      ]
     },
     "metadata": {},
     "output_type": "display_data"
    },
    {
     "data": {
      "application/vnd.jupyter.widget-view+json": {
       "model_id": "",
       "version_major": 2,
       "version_minor": 0
      },
      "text/plain": [
       "  0%|          | 0/1000 [00:00<?, ?it/s]"
      ]
     },
     "metadata": {},
     "output_type": "display_data"
    },
    {
     "data": {
      "application/vnd.jupyter.widget-view+json": {
       "model_id": "",
       "version_major": 2,
       "version_minor": 0
      },
      "text/plain": [
       "  0%|          | 0/6 [00:00<?, ?it/s]"
      ]
     },
     "metadata": {},
     "output_type": "display_data"
    },
    {
     "data": {
      "application/vnd.jupyter.widget-view+json": {
       "model_id": "",
       "version_major": 2,
       "version_minor": 0
      },
      "text/plain": [
       "  0%|          | 0/1000 [00:00<?, ?it/s]"
      ]
     },
     "metadata": {},
     "output_type": "display_data"
    },
    {
     "data": {
      "application/vnd.jupyter.widget-view+json": {
       "model_id": "",
       "version_major": 2,
       "version_minor": 0
      },
      "text/plain": [
       "  0%|          | 0/1000 [00:00<?, ?it/s]"
      ]
     },
     "metadata": {},
     "output_type": "display_data"
    },
    {
     "data": {
      "application/vnd.jupyter.widget-view+json": {
       "model_id": "",
       "version_major": 2,
       "version_minor": 0
      },
      "text/plain": [
       "  0%|          | 0/1000 [00:00<?, ?it/s]"
      ]
     },
     "metadata": {},
     "output_type": "display_data"
    },
    {
     "data": {
      "application/vnd.jupyter.widget-view+json": {
       "model_id": "",
       "version_major": 2,
       "version_minor": 0
      },
      "text/plain": [
       "  0%|          | 0/1000 [00:00<?, ?it/s]"
      ]
     },
     "metadata": {},
     "output_type": "display_data"
    },
    {
     "data": {
      "application/vnd.jupyter.widget-view+json": {
       "model_id": "",
       "version_major": 2,
       "version_minor": 0
      },
      "text/plain": [
       "  0%|          | 0/1000 [00:00<?, ?it/s]"
      ]
     },
     "metadata": {},
     "output_type": "display_data"
    },
    {
     "data": {
      "application/vnd.jupyter.widget-view+json": {
       "model_id": "",
       "version_major": 2,
       "version_minor": 0
      },
      "text/plain": [
       "  0%|          | 0/1000 [00:00<?, ?it/s]"
      ]
     },
     "metadata": {},
     "output_type": "display_data"
    },
    {
     "data": {
      "application/vnd.jupyter.widget-view+json": {
       "model_id": "",
       "version_major": 2,
       "version_minor": 0
      },
      "text/plain": [
       "  0%|          | 0/6 [00:00<?, ?it/s]"
      ]
     },
     "metadata": {},
     "output_type": "display_data"
    },
    {
     "data": {
      "application/vnd.jupyter.widget-view+json": {
       "model_id": "",
       "version_major": 2,
       "version_minor": 0
      },
      "text/plain": [
       "  0%|          | 0/1000 [00:00<?, ?it/s]"
      ]
     },
     "metadata": {},
     "output_type": "display_data"
    },
    {
     "data": {
      "application/vnd.jupyter.widget-view+json": {
       "model_id": "",
       "version_major": 2,
       "version_minor": 0
      },
      "text/plain": [
       "  0%|          | 0/1000 [00:00<?, ?it/s]"
      ]
     },
     "metadata": {},
     "output_type": "display_data"
    },
    {
     "data": {
      "application/vnd.jupyter.widget-view+json": {
       "model_id": "",
       "version_major": 2,
       "version_minor": 0
      },
      "text/plain": [
       "  0%|          | 0/1000 [00:00<?, ?it/s]"
      ]
     },
     "metadata": {},
     "output_type": "display_data"
    },
    {
     "data": {
      "application/vnd.jupyter.widget-view+json": {
       "model_id": "",
       "version_major": 2,
       "version_minor": 0
      },
      "text/plain": [
       "  0%|          | 0/1000 [00:00<?, ?it/s]"
      ]
     },
     "metadata": {},
     "output_type": "display_data"
    },
    {
     "data": {
      "application/vnd.jupyter.widget-view+json": {
       "model_id": "",
       "version_major": 2,
       "version_minor": 0
      },
      "text/plain": [
       "  0%|          | 0/1000 [00:00<?, ?it/s]"
      ]
     },
     "metadata": {},
     "output_type": "display_data"
    },
    {
     "data": {
      "application/vnd.jupyter.widget-view+json": {
       "model_id": "",
       "version_major": 2,
       "version_minor": 0
      },
      "text/plain": [
       "  0%|          | 0/1000 [00:00<?, ?it/s]"
      ]
     },
     "metadata": {},
     "output_type": "display_data"
    },
    {
     "data": {
      "application/vnd.jupyter.widget-view+json": {
       "model_id": "",
       "version_major": 2,
       "version_minor": 0
      },
      "text/plain": [
       "  0%|          | 0/6 [00:00<?, ?it/s]"
      ]
     },
     "metadata": {},
     "output_type": "display_data"
    },
    {
     "data": {
      "application/vnd.jupyter.widget-view+json": {
       "model_id": "",
       "version_major": 2,
       "version_minor": 0
      },
      "text/plain": [
       "  0%|          | 0/1000 [00:00<?, ?it/s]"
      ]
     },
     "metadata": {},
     "output_type": "display_data"
    },
    {
     "data": {
      "application/vnd.jupyter.widget-view+json": {
       "model_id": "",
       "version_major": 2,
       "version_minor": 0
      },
      "text/plain": [
       "  0%|          | 0/1000 [00:00<?, ?it/s]"
      ]
     },
     "metadata": {},
     "output_type": "display_data"
    },
    {
     "data": {
      "application/vnd.jupyter.widget-view+json": {
       "model_id": "",
       "version_major": 2,
       "version_minor": 0
      },
      "text/plain": [
       "  0%|          | 0/1000 [00:00<?, ?it/s]"
      ]
     },
     "metadata": {},
     "output_type": "display_data"
    },
    {
     "data": {
      "application/vnd.jupyter.widget-view+json": {
       "model_id": "",
       "version_major": 2,
       "version_minor": 0
      },
      "text/plain": [
       "  0%|          | 0/1000 [00:00<?, ?it/s]"
      ]
     },
     "metadata": {},
     "output_type": "display_data"
    },
    {
     "data": {
      "application/vnd.jupyter.widget-view+json": {
       "model_id": "",
       "version_major": 2,
       "version_minor": 0
      },
      "text/plain": [
       "  0%|          | 0/1000 [00:00<?, ?it/s]"
      ]
     },
     "metadata": {},
     "output_type": "display_data"
    },
    {
     "data": {
      "application/vnd.jupyter.widget-view+json": {
       "model_id": "",
       "version_major": 2,
       "version_minor": 0
      },
      "text/plain": [
       "  0%|          | 0/1000 [00:00<?, ?it/s]"
      ]
     },
     "metadata": {},
     "output_type": "display_data"
    },
    {
     "data": {
      "application/vnd.jupyter.widget-view+json": {
       "model_id": "",
       "version_major": 2,
       "version_minor": 0
      },
      "text/plain": [
       "  0%|          | 0/6 [00:00<?, ?it/s]"
      ]
     },
     "metadata": {},
     "output_type": "display_data"
    },
    {
     "data": {
      "application/vnd.jupyter.widget-view+json": {
       "model_id": "",
       "version_major": 2,
       "version_minor": 0
      },
      "text/plain": [
       "  0%|          | 0/1000 [00:00<?, ?it/s]"
      ]
     },
     "metadata": {},
     "output_type": "display_data"
    },
    {
     "data": {
      "application/vnd.jupyter.widget-view+json": {
       "model_id": "",
       "version_major": 2,
       "version_minor": 0
      },
      "text/plain": [
       "  0%|          | 0/1000 [00:00<?, ?it/s]"
      ]
     },
     "metadata": {},
     "output_type": "display_data"
    },
    {
     "data": {
      "application/vnd.jupyter.widget-view+json": {
       "model_id": "",
       "version_major": 2,
       "version_minor": 0
      },
      "text/plain": [
       "  0%|          | 0/1000 [00:00<?, ?it/s]"
      ]
     },
     "metadata": {},
     "output_type": "display_data"
    },
    {
     "data": {
      "application/vnd.jupyter.widget-view+json": {
       "model_id": "",
       "version_major": 2,
       "version_minor": 0
      },
      "text/plain": [
       "  0%|          | 0/1000 [00:00<?, ?it/s]"
      ]
     },
     "metadata": {},
     "output_type": "display_data"
    },
    {
     "data": {
      "application/vnd.jupyter.widget-view+json": {
       "model_id": "",
       "version_major": 2,
       "version_minor": 0
      },
      "text/plain": [
       "  0%|          | 0/1000 [00:00<?, ?it/s]"
      ]
     },
     "metadata": {},
     "output_type": "display_data"
    },
    {
     "data": {
      "application/vnd.jupyter.widget-view+json": {
       "model_id": "",
       "version_major": 2,
       "version_minor": 0
      },
      "text/plain": [
       "  0%|          | 0/1000 [00:00<?, ?it/s]"
      ]
     },
     "metadata": {},
     "output_type": "display_data"
    },
    {
     "data": {
      "application/vnd.jupyter.widget-view+json": {
       "model_id": "",
       "version_major": 2,
       "version_minor": 0
      },
      "text/plain": [
       "  0%|          | 0/6 [00:00<?, ?it/s]"
      ]
     },
     "metadata": {},
     "output_type": "display_data"
    },
    {
     "data": {
      "application/vnd.jupyter.widget-view+json": {
       "model_id": "",
       "version_major": 2,
       "version_minor": 0
      },
      "text/plain": [
       "  0%|          | 0/1000 [00:00<?, ?it/s]"
      ]
     },
     "metadata": {},
     "output_type": "display_data"
    },
    {
     "data": {
      "application/vnd.jupyter.widget-view+json": {
       "model_id": "",
       "version_major": 2,
       "version_minor": 0
      },
      "text/plain": [
       "  0%|          | 0/1000 [00:00<?, ?it/s]"
      ]
     },
     "metadata": {},
     "output_type": "display_data"
    },
    {
     "data": {
      "application/vnd.jupyter.widget-view+json": {
       "model_id": "",
       "version_major": 2,
       "version_minor": 0
      },
      "text/plain": [
       "  0%|          | 0/1000 [00:00<?, ?it/s]"
      ]
     },
     "metadata": {},
     "output_type": "display_data"
    },
    {
     "data": {
      "application/vnd.jupyter.widget-view+json": {
       "model_id": "",
       "version_major": 2,
       "version_minor": 0
      },
      "text/plain": [
       "  0%|          | 0/1000 [00:00<?, ?it/s]"
      ]
     },
     "metadata": {},
     "output_type": "display_data"
    },
    {
     "data": {
      "application/vnd.jupyter.widget-view+json": {
       "model_id": "",
       "version_major": 2,
       "version_minor": 0
      },
      "text/plain": [
       "  0%|          | 0/1000 [00:00<?, ?it/s]"
      ]
     },
     "metadata": {},
     "output_type": "display_data"
    },
    {
     "data": {
      "application/vnd.jupyter.widget-view+json": {
       "model_id": "",
       "version_major": 2,
       "version_minor": 0
      },
      "text/plain": [
       "  0%|          | 0/1000 [00:00<?, ?it/s]"
      ]
     },
     "metadata": {},
     "output_type": "display_data"
    },
    {
     "data": {
      "application/vnd.jupyter.widget-view+json": {
       "model_id": "",
       "version_major": 2,
       "version_minor": 0
      },
      "text/plain": [
       "  0%|          | 0/6 [00:00<?, ?it/s]"
      ]
     },
     "metadata": {},
     "output_type": "display_data"
    },
    {
     "data": {
      "application/vnd.jupyter.widget-view+json": {
       "model_id": "",
       "version_major": 2,
       "version_minor": 0
      },
      "text/plain": [
       "  0%|          | 0/1000 [00:00<?, ?it/s]"
      ]
     },
     "metadata": {},
     "output_type": "display_data"
    },
    {
     "data": {
      "application/vnd.jupyter.widget-view+json": {
       "model_id": "",
       "version_major": 2,
       "version_minor": 0
      },
      "text/plain": [
       "  0%|          | 0/1000 [00:00<?, ?it/s]"
      ]
     },
     "metadata": {},
     "output_type": "display_data"
    },
    {
     "data": {
      "application/vnd.jupyter.widget-view+json": {
       "model_id": "",
       "version_major": 2,
       "version_minor": 0
      },
      "text/plain": [
       "  0%|          | 0/1000 [00:00<?, ?it/s]"
      ]
     },
     "metadata": {},
     "output_type": "display_data"
    },
    {
     "data": {
      "application/vnd.jupyter.widget-view+json": {
       "model_id": "",
       "version_major": 2,
       "version_minor": 0
      },
      "text/plain": [
       "  0%|          | 0/1000 [00:00<?, ?it/s]"
      ]
     },
     "metadata": {},
     "output_type": "display_data"
    },
    {
     "data": {
      "application/vnd.jupyter.widget-view+json": {
       "model_id": "",
       "version_major": 2,
       "version_minor": 0
      },
      "text/plain": [
       "  0%|          | 0/1000 [00:00<?, ?it/s]"
      ]
     },
     "metadata": {},
     "output_type": "display_data"
    },
    {
     "data": {
      "application/vnd.jupyter.widget-view+json": {
       "model_id": "",
       "version_major": 2,
       "version_minor": 0
      },
      "text/plain": [
       "  0%|          | 0/1000 [00:00<?, ?it/s]"
      ]
     },
     "metadata": {},
     "output_type": "display_data"
    },
    {
     "data": {
      "application/vnd.jupyter.widget-view+json": {
       "model_id": "",
       "version_major": 2,
       "version_minor": 0
      },
      "text/plain": [
       "  0%|          | 0/6 [00:00<?, ?it/s]"
      ]
     },
     "metadata": {},
     "output_type": "display_data"
    },
    {
     "data": {
      "application/vnd.jupyter.widget-view+json": {
       "model_id": "",
       "version_major": 2,
       "version_minor": 0
      },
      "text/plain": [
       "  0%|          | 0/1000 [00:00<?, ?it/s]"
      ]
     },
     "metadata": {},
     "output_type": "display_data"
    },
    {
     "data": {
      "application/vnd.jupyter.widget-view+json": {
       "model_id": "",
       "version_major": 2,
       "version_minor": 0
      },
      "text/plain": [
       "  0%|          | 0/1000 [00:00<?, ?it/s]"
      ]
     },
     "metadata": {},
     "output_type": "display_data"
    },
    {
     "data": {
      "application/vnd.jupyter.widget-view+json": {
       "model_id": "",
       "version_major": 2,
       "version_minor": 0
      },
      "text/plain": [
       "  0%|          | 0/1000 [00:00<?, ?it/s]"
      ]
     },
     "metadata": {},
     "output_type": "display_data"
    },
    {
     "data": {
      "application/vnd.jupyter.widget-view+json": {
       "model_id": "",
       "version_major": 2,
       "version_minor": 0
      },
      "text/plain": [
       "  0%|          | 0/1000 [00:00<?, ?it/s]"
      ]
     },
     "metadata": {},
     "output_type": "display_data"
    },
    {
     "data": {
      "application/vnd.jupyter.widget-view+json": {
       "model_id": "",
       "version_major": 2,
       "version_minor": 0
      },
      "text/plain": [
       "  0%|          | 0/1000 [00:00<?, ?it/s]"
      ]
     },
     "metadata": {},
     "output_type": "display_data"
    },
    {
     "data": {
      "application/vnd.jupyter.widget-view+json": {
       "model_id": "",
       "version_major": 2,
       "version_minor": 0
      },
      "text/plain": [
       "  0%|          | 0/1000 [00:00<?, ?it/s]"
      ]
     },
     "metadata": {},
     "output_type": "display_data"
    },
    {
     "data": {
      "application/vnd.jupyter.widget-view+json": {
       "model_id": "",
       "version_major": 2,
       "version_minor": 0
      },
      "text/plain": [
       "  0%|          | 0/6 [00:00<?, ?it/s]"
      ]
     },
     "metadata": {},
     "output_type": "display_data"
    },
    {
     "data": {
      "application/vnd.jupyter.widget-view+json": {
       "model_id": "",
       "version_major": 2,
       "version_minor": 0
      },
      "text/plain": [
       "  0%|          | 0/1000 [00:00<?, ?it/s]"
      ]
     },
     "metadata": {},
     "output_type": "display_data"
    },
    {
     "data": {
      "application/vnd.jupyter.widget-view+json": {
       "model_id": "",
       "version_major": 2,
       "version_minor": 0
      },
      "text/plain": [
       "  0%|          | 0/1000 [00:00<?, ?it/s]"
      ]
     },
     "metadata": {},
     "output_type": "display_data"
    },
    {
     "data": {
      "application/vnd.jupyter.widget-view+json": {
       "model_id": "",
       "version_major": 2,
       "version_minor": 0
      },
      "text/plain": [
       "  0%|          | 0/1000 [00:00<?, ?it/s]"
      ]
     },
     "metadata": {},
     "output_type": "display_data"
    },
    {
     "data": {
      "application/vnd.jupyter.widget-view+json": {
       "model_id": "",
       "version_major": 2,
       "version_minor": 0
      },
      "text/plain": [
       "  0%|          | 0/1000 [00:00<?, ?it/s]"
      ]
     },
     "metadata": {},
     "output_type": "display_data"
    },
    {
     "data": {
      "application/vnd.jupyter.widget-view+json": {
       "model_id": "",
       "version_major": 2,
       "version_minor": 0
      },
      "text/plain": [
       "  0%|          | 0/1000 [00:00<?, ?it/s]"
      ]
     },
     "metadata": {},
     "output_type": "display_data"
    },
    {
     "data": {
      "application/vnd.jupyter.widget-view+json": {
       "model_id": "",
       "version_major": 2,
       "version_minor": 0
      },
      "text/plain": [
       "  0%|          | 0/1000 [00:00<?, ?it/s]"
      ]
     },
     "metadata": {},
     "output_type": "display_data"
    },
    {
     "data": {
      "application/vnd.jupyter.widget-view+json": {
       "model_id": "",
       "version_major": 2,
       "version_minor": 0
      },
      "text/plain": [
       "  0%|          | 0/6 [00:00<?, ?it/s]"
      ]
     },
     "metadata": {},
     "output_type": "display_data"
    },
    {
     "data": {
      "application/vnd.jupyter.widget-view+json": {
       "model_id": "",
       "version_major": 2,
       "version_minor": 0
      },
      "text/plain": [
       "  0%|          | 0/1000 [00:00<?, ?it/s]"
      ]
     },
     "metadata": {},
     "output_type": "display_data"
    },
    {
     "data": {
      "application/vnd.jupyter.widget-view+json": {
       "model_id": "",
       "version_major": 2,
       "version_minor": 0
      },
      "text/plain": [
       "  0%|          | 0/1000 [00:00<?, ?it/s]"
      ]
     },
     "metadata": {},
     "output_type": "display_data"
    },
    {
     "data": {
      "application/vnd.jupyter.widget-view+json": {
       "model_id": "",
       "version_major": 2,
       "version_minor": 0
      },
      "text/plain": [
       "  0%|          | 0/1000 [00:00<?, ?it/s]"
      ]
     },
     "metadata": {},
     "output_type": "display_data"
    },
    {
     "data": {
      "application/vnd.jupyter.widget-view+json": {
       "model_id": "",
       "version_major": 2,
       "version_minor": 0
      },
      "text/plain": [
       "  0%|          | 0/1000 [00:00<?, ?it/s]"
      ]
     },
     "metadata": {},
     "output_type": "display_data"
    },
    {
     "data": {
      "application/vnd.jupyter.widget-view+json": {
       "model_id": "",
       "version_major": 2,
       "version_minor": 0
      },
      "text/plain": [
       "  0%|          | 0/1000 [00:00<?, ?it/s]"
      ]
     },
     "metadata": {},
     "output_type": "display_data"
    },
    {
     "data": {
      "application/vnd.jupyter.widget-view+json": {
       "model_id": "",
       "version_major": 2,
       "version_minor": 0
      },
      "text/plain": [
       "  0%|          | 0/1000 [00:00<?, ?it/s]"
      ]
     },
     "metadata": {},
     "output_type": "display_data"
    },
    {
     "data": {
      "application/vnd.jupyter.widget-view+json": {
       "model_id": "",
       "version_major": 2,
       "version_minor": 0
      },
      "text/plain": [
       "  0%|          | 0/6 [00:00<?, ?it/s]"
      ]
     },
     "metadata": {},
     "output_type": "display_data"
    },
    {
     "data": {
      "application/vnd.jupyter.widget-view+json": {
       "model_id": "",
       "version_major": 2,
       "version_minor": 0
      },
      "text/plain": [
       "  0%|          | 0/1000 [00:00<?, ?it/s]"
      ]
     },
     "metadata": {},
     "output_type": "display_data"
    },
    {
     "data": {
      "application/vnd.jupyter.widget-view+json": {
       "model_id": "",
       "version_major": 2,
       "version_minor": 0
      },
      "text/plain": [
       "  0%|          | 0/1000 [00:00<?, ?it/s]"
      ]
     },
     "metadata": {},
     "output_type": "display_data"
    },
    {
     "data": {
      "application/vnd.jupyter.widget-view+json": {
       "model_id": "",
       "version_major": 2,
       "version_minor": 0
      },
      "text/plain": [
       "  0%|          | 0/1000 [00:00<?, ?it/s]"
      ]
     },
     "metadata": {},
     "output_type": "display_data"
    },
    {
     "data": {
      "application/vnd.jupyter.widget-view+json": {
       "model_id": "",
       "version_major": 2,
       "version_minor": 0
      },
      "text/plain": [
       "  0%|          | 0/1000 [00:00<?, ?it/s]"
      ]
     },
     "metadata": {},
     "output_type": "display_data"
    },
    {
     "data": {
      "application/vnd.jupyter.widget-view+json": {
       "model_id": "",
       "version_major": 2,
       "version_minor": 0
      },
      "text/plain": [
       "  0%|          | 0/1000 [00:00<?, ?it/s]"
      ]
     },
     "metadata": {},
     "output_type": "display_data"
    },
    {
     "data": {
      "application/vnd.jupyter.widget-view+json": {
       "model_id": "",
       "version_major": 2,
       "version_minor": 0
      },
      "text/plain": [
       "  0%|          | 0/1000 [00:00<?, ?it/s]"
      ]
     },
     "metadata": {},
     "output_type": "display_data"
    },
    {
     "data": {
      "application/vnd.jupyter.widget-view+json": {
       "model_id": "",
       "version_major": 2,
       "version_minor": 0
      },
      "text/plain": [
       "  0%|          | 0/6 [00:00<?, ?it/s]"
      ]
     },
     "metadata": {},
     "output_type": "display_data"
    },
    {
     "data": {
      "application/vnd.jupyter.widget-view+json": {
       "model_id": "",
       "version_major": 2,
       "version_minor": 0
      },
      "text/plain": [
       "  0%|          | 0/1000 [00:00<?, ?it/s]"
      ]
     },
     "metadata": {},
     "output_type": "display_data"
    },
    {
     "data": {
      "application/vnd.jupyter.widget-view+json": {
       "model_id": "",
       "version_major": 2,
       "version_minor": 0
      },
      "text/plain": [
       "  0%|          | 0/1000 [00:00<?, ?it/s]"
      ]
     },
     "metadata": {},
     "output_type": "display_data"
    },
    {
     "data": {
      "application/vnd.jupyter.widget-view+json": {
       "model_id": "",
       "version_major": 2,
       "version_minor": 0
      },
      "text/plain": [
       "  0%|          | 0/1000 [00:00<?, ?it/s]"
      ]
     },
     "metadata": {},
     "output_type": "display_data"
    },
    {
     "data": {
      "application/vnd.jupyter.widget-view+json": {
       "model_id": "",
       "version_major": 2,
       "version_minor": 0
      },
      "text/plain": [
       "  0%|          | 0/1000 [00:00<?, ?it/s]"
      ]
     },
     "metadata": {},
     "output_type": "display_data"
    },
    {
     "data": {
      "application/vnd.jupyter.widget-view+json": {
       "model_id": "",
       "version_major": 2,
       "version_minor": 0
      },
      "text/plain": [
       "  0%|          | 0/1000 [00:00<?, ?it/s]"
      ]
     },
     "metadata": {},
     "output_type": "display_data"
    },
    {
     "data": {
      "application/vnd.jupyter.widget-view+json": {
       "model_id": "",
       "version_major": 2,
       "version_minor": 0
      },
      "text/plain": [
       "  0%|          | 0/1000 [00:00<?, ?it/s]"
      ]
     },
     "metadata": {},
     "output_type": "display_data"
    },
    {
     "data": {
      "application/vnd.jupyter.widget-view+json": {
       "model_id": "",
       "version_major": 2,
       "version_minor": 0
      },
      "text/plain": [
       "  0%|          | 0/6 [00:00<?, ?it/s]"
      ]
     },
     "metadata": {},
     "output_type": "display_data"
    },
    {
     "data": {
      "application/vnd.jupyter.widget-view+json": {
       "model_id": "",
       "version_major": 2,
       "version_minor": 0
      },
      "text/plain": [
       "  0%|          | 0/1000 [00:00<?, ?it/s]"
      ]
     },
     "metadata": {},
     "output_type": "display_data"
    },
    {
     "data": {
      "application/vnd.jupyter.widget-view+json": {
       "model_id": "",
       "version_major": 2,
       "version_minor": 0
      },
      "text/plain": [
       "  0%|          | 0/1000 [00:00<?, ?it/s]"
      ]
     },
     "metadata": {},
     "output_type": "display_data"
    },
    {
     "data": {
      "application/vnd.jupyter.widget-view+json": {
       "model_id": "",
       "version_major": 2,
       "version_minor": 0
      },
      "text/plain": [
       "  0%|          | 0/1000 [00:00<?, ?it/s]"
      ]
     },
     "metadata": {},
     "output_type": "display_data"
    },
    {
     "data": {
      "application/vnd.jupyter.widget-view+json": {
       "model_id": "",
       "version_major": 2,
       "version_minor": 0
      },
      "text/plain": [
       "  0%|          | 0/1000 [00:00<?, ?it/s]"
      ]
     },
     "metadata": {},
     "output_type": "display_data"
    },
    {
     "data": {
      "application/vnd.jupyter.widget-view+json": {
       "model_id": "",
       "version_major": 2,
       "version_minor": 0
      },
      "text/plain": [
       "  0%|          | 0/1000 [00:00<?, ?it/s]"
      ]
     },
     "metadata": {},
     "output_type": "display_data"
    },
    {
     "data": {
      "application/vnd.jupyter.widget-view+json": {
       "model_id": "",
       "version_major": 2,
       "version_minor": 0
      },
      "text/plain": [
       "  0%|          | 0/1000 [00:00<?, ?it/s]"
      ]
     },
     "metadata": {},
     "output_type": "display_data"
    }
   ],
   "source": [
    "class DNA():\n",
    "    def __init__(self):\n",
    "        self.geno = None\n",
    "        self.co_geno = None # will be None if male\n",
    "\n",
    "\n",
    "model = models.SmallNet\n",
    "comodel = CONet\n",
    "\n",
    "def to_np_array(population):\n",
    "    pop = np.empty(len(population), dtype=object)\n",
    "    for i in range(len(pop)):\n",
    "        pop[i] = population[i]\n",
    "    return pop\n",
    "\n",
    "def get_init_population():\n",
    "    pop = [DNA() for _ in range(100)]\n",
    "    for i in range(100):\n",
    "        pop[i].geno = nn.utils.parameters_to_vector(model().parameters()).detach()\n",
    "    for i in range(50):\n",
    "        pop[i].co_geno = nn.utils.parameters_to_vector(comodel().parameters()).detach()\n",
    "    pop = to_np_array(pop)\n",
    "    return pop[:50], pop[50:]\n",
    "\n",
    "def geno2pheno():\n",
    "    pass\n",
    "def pheno2geno():\n",
    "    pass\n",
    "\n",
    "def calc_fitnesses(population):\n",
    "    agent = model()\n",
    "    fitnesses = []\n",
    "    fitnesses_acc = []\n",
    "    for dna in population:\n",
    "        nn.utils.vector_to_parameters(dna.geno, agent.parameters())\n",
    "#         fitness = -perform_stats(agent, train_loader, n_batches=1, show_stats=False, tqdm=None)[0]\n",
    "        nll, acc = calc_pheo_fitness(agent)\n",
    "        fitnesses.append(-nll)\n",
    "        fitnesses_acc.append(acc)\n",
    "    return {'nll': fitnesses, 'accuracy': fitnesses_acc}\n",
    "\n",
    "def calc_mutate(pop):\n",
    "    mutant = [DNA() for _ in pop]\n",
    "    for o, m in zip(pop, mutant):\n",
    "        if o.geno is not None:\n",
    "            m.geno = o.geno + 1e-2*torch.randn_like(o.geno)\n",
    "        if o.co_geno is not None:\n",
    "            m.co_geno = o.co_geno + 1e-2*torch.randn_like(o.co_geno)\n",
    "    return mutant\n",
    "\n",
    "def calc_crossover(popf, popm):\n",
    "    children = [DNA() for _ in popf]\n",
    "    conet = comodel(amount)\n",
    "    for i in range(len(children)):\n",
    "        x = torch.stack([popf[i].geno, popm[i].geno], dim=0)\n",
    "        cogeno = popf[i].co_geno\n",
    "        nn.utils.vector_to_parameters(cogeno, conet.parameters())\n",
    "        y = conet(x[None])[0]\n",
    "        children[i].geno = y\n",
    "    for i in torch.randperm(len(popf))[:len(popf)//2]:\n",
    "        children[i].co_geno = popf[i].co_geno\n",
    "        \n",
    "    childrenf = [c for c in children if c.co_geno is not None]\n",
    "    childrenm = [c for c in children if c.co_geno is None]\n",
    "    return childrenf, childrenm\n",
    "    \n",
    "def calc_next_population(pop_f, pop_m):\n",
    "    fit_f = calc_fitnesses(pop_f)\n",
    "    fit_m = calc_fitnesses(pop_m)\n",
    "    \n",
    "    N_f = len(pop_f)\n",
    "    N_m = len(pop_m)\n",
    "    \n",
    "    npop = []\n",
    "    \n",
    "    n_keep_best = 5\n",
    "    npop.extend(pop_f[np.argsort(fit_f['nll'])[-n_keep_best:]])\n",
    "    npop.extend(pop_m[np.argsort(fit_m['nll'])[-n_keep_best:]])\n",
    "    \n",
    "    prob_f = torch.tensor(fit_f['nll']).softmax(dim=-1).numpy()\n",
    "    prob_m = torch.tensor(fit_m['nll']).softmax(dim=-1).numpy()\n",
    "    \n",
    "#     n_parents = 30\n",
    "#     n_mutants = 30\n",
    "    n_parents = 10\n",
    "    n_mutants = 40\n",
    "    \n",
    "    mutants_f = np.random.choice(pop_f, size=n_mutants, p=prob_f)\n",
    "    mutants_m = np.random.choice(pop_m, size=n_mutants, p=prob_m)\n",
    "    mutants_f = calc_mutate(mutants_f)\n",
    "    mutants_m = calc_mutate(mutants_m)\n",
    "    \n",
    "    parents_f = np.random.choice(pop_f, size=n_parents, p=prob_f)\n",
    "    parents_m = np.random.choice(pop_m, size=n_parents, p=prob_m)\n",
    "    children_f, children_m = calc_crossover(parents_f, parents_m)\n",
    "    \n",
    "    npop.extend(mutants_f)\n",
    "    npop.extend(mutants_m)\n",
    "    npop.extend(children_f)\n",
    "    npop.extend(children_m)\n",
    "    \n",
    "    npop_f = [c for c in npop if c.co_geno is not None]\n",
    "    npop_m = [c for c in npop if c.co_geno is None]\n",
    "\n",
    "    npop_f = to_np_array(npop_f)\n",
    "    npop_m = to_np_array(npop_m)\n",
    "    return npop_f, npop_m, fit_f, fit_m\n",
    "\n",
    "amounts = [1e-9, 1e-3, 1e-2, 1e-1, 1e0, 1e1]\n",
    "n_trials = 15\n",
    "n_gens = 1000\n",
    "data = torch.zeros(n_trials, len(amounts), n_gens)\n",
    "for trial_idx in tqdm(range(n_trials)):\n",
    "    torch.manual_seed(trial_idx)\n",
    "    np.random.seed(trial_idx)\n",
    "    for a_idx, amount in enumerate(tqdm(amounts, leave=False)):\n",
    "        pop_f, pop_m = get_init_population()\n",
    "        for gen_idx in tqdm(range(n_gens), leave=False):\n",
    "            pop_f, pop_m, fit_f, fit_m = calc_next_population(pop_f, pop_m)\n",
    "            best_fit = max(np.max(fit_f['nll']), np.max(fit_m['nll']))\n",
    "\n",
    "            s = f'{amount:.2e}'\n",
    "#             logger.add_histogram(f'co{s} female nll', np.array(fit_f['nll']), global_step=gen_idx)\n",
    "#             logger.add_histogram(f'co{s} male nll', np.array(fit_m['nll']), global_step=gen_idx)\n",
    "#             logger.add_histogram(f'co{s} female accuracy', np.array(fit_f['accuracy']), global_step=gen_idx)\n",
    "#             logger.add_histogram(f'co{s} male accuracy', np.array(fit_m['accuracy']), global_step=gen_idx)\n",
    "#             logger.add_scalar(f'co{s} best', best_fit, global_step=gen_idx)\n",
    "            \n",
    "            data[trial_idx, a_idx, gen_idx] = best_fit"
   ]
  },
  {
   "cell_type": "code",
   "execution_count": 40,
   "id": "sporting-college",
   "metadata": {},
   "outputs": [
    {
     "name": "stdout",
     "output_type": "stream",
     "text": [
      "mean: -0.523, std: 0.497, amount: 1.0e-09\n",
      "mean: -0.480, std: 0.197, amount: 1.0e-03\n",
      "mean: -0.577, std: 0.182, amount: 1.0e-02\n",
      "mean: -0.341, std: 0.111, amount: 1.0e-01\n",
      "mean: -0.355, std: 0.136, amount: 1.0e+00\n",
      "mean: -0.342, std: 0.147, amount: 1.0e+01\n"
     ]
    }
   ],
   "source": [
    "for a_idx, amount in enumerate(amounts):\n",
    "    print(f'mean: {data[:, a_idx, -1].mean(dim=0): .3f}, std: {data[:, a_idx, -1].std(dim=0):.3f}, amount:{amounts[a_idx]: .1e}')"
   ]
  },
  {
   "cell_type": "code",
   "execution_count": 24,
   "id": "considered-highway",
   "metadata": {},
   "outputs": [
    {
     "data": {
      "text/plain": [
       "<matplotlib.legend.Legend at 0x12f928fa0>"
      ]
     },
     "execution_count": 24,
     "metadata": {},
     "output_type": "execute_result"
    },
    {
     "data": {
      "image/png": "[encoded data removed]",
      "text/plain": [
       "<Figure size 432x288 with 1 Axes>"
      ]
     },
     "metadata": {
      "needs_background": "light"
     },
     "output_type": "display_data"
    }
   ],
   "source": [
    "for a_idx, amount in enumerate(amounts):\n",
    "    c = np.random.uniform(size=3)\n",
    "    for trial_idx in range(15):\n",
    "        label=None\n",
    "        if trial_idx==0:\n",
    "            label=label=f'amount={amount:.1e}'\n",
    "        plt.errorbar(np.arange(1000), data[trial_idx, a_idx].numpy(), yerr=None, c=c, label=label)\n",
    "plt.legend()"
   ]
  },
  {
   "cell_type": "code",
   "execution_count": 28,
   "id": "pressed-finance",
   "metadata": {},
   "outputs": [
    {
     "data": {
      "image/png": "[encoded data removed]",
      "text/plain": [
       "<Figure size 432x288 with 1 Axes>"
      ]
     },
     "metadata": {
      "needs_background": "light"
     },
     "output_type": "display_data"
    },
    {
     "data": {
      "image/png": "[encoded data removed]",
      "text/plain": [
       "<Figure size 432x288 with 1 Axes>"
      ]
     },
     "metadata": {
      "needs_background": "light"
     },
     "output_type": "display_data"
    },
    {
     "data": {
      "image/png": "[encoded data removed]",
      "text/plain": [
       "<Figure size 432x288 with 1 Axes>"
      ]
     },
     "metadata": {
      "needs_background": "light"
     },
     "output_type": "display_data"
    },
    {
     "data": {
      "image/png": "[encoded data removed]",
      "text/plain": [
       "<Figure size 432x288 with 1 Axes>"
      ]
     },
     "metadata": {
      "needs_background": "light"
     },
     "output_type": "display_data"
    },
    {
     "data": {
      "image/png": "[encoded data removed]",
      "text/plain": [
       "<Figure size 432x288 with 1 Axes>"
      ]
     },
     "metadata": {
      "needs_background": "light"
     },
     "output_type": "display_data"
    },
    {
     "data": {
      "image/png": "[encoded data removed]",
      "text/plain": [
       "<Figure size 432x288 with 1 Axes>"
      ]
     },
     "metadata": {
      "needs_background": "light"
     },
     "output_type": "display_data"
    }
   ],
   "source": [
    "for a_idx, amount in enumerate(amounts):\n",
    "    c = np.random.uniform(size=3)\n",
    "    label=label=f'amount={amount:.1e}'\n",
    "    d = data[:, a_idx]\n",
    "    yerr = d.std(dim=0)\n",
    "    yerr = torch.stack([d.min(dim=0).values-d.mean(dim=0), d.max(dim=0).values-d.mean(dim=0)], dim=0).abs()\n",
    "    plt.errorbar(np.arange(1000), d.mean(dim=0).numpy(),\n",
    "                 yerr=yerr.numpy(), c=c, label=label)\n",
    "    plt.title(f'Best Fitness vs Generation for amount={amount:.1e}')\n",
    "    plt.show()\n",
    "# plt.legend()"
   ]
  },
  {
   "cell_type": "code",
   "execution_count": 56,
   "id": "looking-emphasis",
   "metadata": {},
   "outputs": [
    {
     "data": {
      "image/png": "[encoded data removed]",
      "text/plain": [
       "<Figure size 432x288 with 1 Axes>"
      ]
     },
     "metadata": {
      "needs_background": "light"
     },
     "output_type": "display_data"
    }
   ],
   "source": [
    "# for a_idx, amount in enumerate(amounts):\n",
    "#     plt.boxplot(data[:, a_idx, -1].numpy())\n",
    "plt.boxplot(data[:, :, -1].numpy())\n",
    "\n",
    "for a_idx, amount in enumerate(amounts):\n",
    "    d = data[:, a_idx, -1]\n",
    "    plt.scatter(np.ones_like(d)*(a_idx+1), d.numpy())\n",
    "plt.show()"
   ]
  },
  {
   "cell_type": "code",
   "execution_count": 30,
   "id": "specialized-airport",
   "metadata": {},
   "outputs": [
    {
     "data": {
      "text/plain": [
       "90000"
      ]
     },
     "execution_count": 30,
     "metadata": {},
     "output_type": "execute_result"
    }
   ],
   "source": [
    "data.numel()"
   ]
  },
  {
   "cell_type": "code",
   "execution_count": 53,
   "id": "round-medium",
   "metadata": {},
   "outputs": [
    {
     "data": {
      "text/plain": [
       "torch.Size([15, 3, 500])"
      ]
     },
     "execution_count": 53,
     "metadata": {},
     "output_type": "execute_result"
    },
    {
     "data": {
      "image/png": "[encoded data removed]",
      "text/plain": [
       "<Figure size 432x288 with 1 Axes>"
      ]
     },
     "metadata": {
      "needs_background": "light"
     },
     "output_type": "display_data"
    }
   ],
   "source": [
    "for trial_idx in range(15):\n",
    "    plt.errorbar(np.arange(500), d[trial_idx, 0].numpy(), yerr=None, c='r')\n",
    "for trial_idx in range(15):\n",
    "    plt.errorbar(np.arange(500), d[trial_idx, 1].numpy(), yerr=None, c='g')\n",
    "for trial_idx in range(15):\n",
    "    plt.errorbar(np.arange(500), d[trial_idx, 2].numpy(), yerr=None, c='b')\n",
    "d.shape"
   ]
  },
  {
   "cell_type": "code",
   "execution_count": null,
   "id": "promotional-module",
   "metadata": {},
   "outputs": [],
   "source": []
  },
  {
   "cell_type": "code",
   "execution_count": null,
   "id": "yellow-brazil",
   "metadata": {},
   "outputs": [],
   "source": []
  },
  {
   "cell_type": "code",
   "execution_count": null,
   "id": "blank-savings",
   "metadata": {},
   "outputs": [],
   "source": []
  },
  {
   "cell_type": "code",
   "execution_count": null,
   "id": "wound-north",
   "metadata": {},
   "outputs": [],
   "source": []
  },
  {
   "cell_type": "code",
   "execution_count": null,
   "id": "educated-stability",
   "metadata": {},
   "outputs": [],
   "source": []
  }
 ],
 "metadata": {
  "kernelspec": {
   "display_name": "Python 3",
   "language": "python",
   "name": "python3"
  },
  "language_info": {
   "codemirror_mode": {
    "name": "ipython",
    "version": 3
   },
   "file_extension": ".py",
   "mimetype": "text/x-python",
   "name": "python",
   "nbconvert_exporter": "python",
   "pygments_lexer": "ipython3",
   "version": "3.8.2"
  }
 },
 "nbformat": 4,
 "nbformat_minor": 5
}
