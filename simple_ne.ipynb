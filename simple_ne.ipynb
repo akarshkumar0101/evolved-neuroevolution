{
 "cells": [
  {
   "cell_type": "code",
   "execution_count": 1,
   "id": "tough-audience",
   "metadata": {},
   "outputs": [],
   "source": [
    "%load_ext autoreload\n",
    "%autoreload 2"
   ]
  },
  {
   "cell_type": "code",
   "execution_count": 2,
   "id": "immediate-colonial",
   "metadata": {},
   "outputs": [],
   "source": [
    "import numpy as np\n",
    "import torch\n",
    "from torch import nn\n",
    "import torchvision\n",
    "import matplotlib.pyplot as plt\n",
    "from tqdm.notebook import tqdm\n",
    "\n",
    "import os\n",
    "import shutil\n",
    "\n",
    "from torchinfo import summary\n",
    "import torch.utils.tensorboard as tb\n",
    "\n",
    "import models\n",
    "import mnist\n",
    "\n",
    "torch.manual_seed(0);"
   ]
  },
  {
   "cell_type": "code",
   "execution_count": 3,
   "id": "overhead-poultry",
   "metadata": {},
   "outputs": [],
   "source": [
    "# import tempfile\n",
    "# tb_log_dir = tempfile.mkdtemp()\n",
    "user = os.getlogin()\n",
    "# tb_log_dir = os.path.join(cp.data_dir, 'tensorboard/', user)\n",
    "tb_log_dir = f'/tmp/tensorboard/{user}'\n",
    "# print(tb_log_dir)\n",
    "if os.path.exists(tb_log_dir):\n",
    "    shutil.rmtree(tb_log_dir)\n",
    "    "
   ]
  },
  {
   "cell_type": "code",
   "execution_count": 4,
   "id": "circular-nylon",
   "metadata": {},
   "outputs": [],
   "source": [
    "logger = tb.SummaryWriter(tb_log_dir)"
   ]
  },
  {
   "cell_type": "code",
   "execution_count": 5,
   "id": "loose-container",
   "metadata": {},
   "outputs": [],
   "source": [
    "\n",
    "batch_idx, (X_batch, Y_batch) = next(enumerate(mnist.train_loader))\n",
    "def calc_pheo_fitness(net):\n",
    "    Y_batch_pred = net(X_batch)\n",
    "    n_correct = (Y_batch_pred.argmax(dim=-1)==Y_batch).sum().item()\n",
    "    loss = mnist.loss_func(Y_batch_pred.log(), Y_batch).item()\n",
    "    accuracy = n_correct/len(Y_batch)\n",
    "    return loss, accuracy"
   ]
  },
  {
   "cell_type": "code",
   "execution_count": 6,
   "id": "narrow-limitation",
   "metadata": {
    "tags": []
   },
   "outputs": [
    {
     "data": {
      "application/vnd.jupyter.widget-view+json": {
       "model_id": "24f45a223688425ca34352e57357a044",
       "version_major": 2,
       "version_minor": 0
      },
      "text/plain": [
       "  0%|          | 0/1000 [00:00<?, ?it/s]"
      ]
     },
     "metadata": {},
     "output_type": "display_data"
    },
    {
     "name": "stderr",
     "output_type": "stream",
     "text": [
      "ERROR:root:Internal Python error in the inspect module.\n",
      "Below is the traceback from this internal error.\n",
      "\n"
     ]
    },
    {
     "name": "stdout",
     "output_type": "stream",
     "text": [
      "Traceback (most recent call last):\n",
      "  File \"/Users/akarshkumar0101/Library/Python/3.8/lib/python/site-packages/IPython/core/interactiveshell.py\", line 3437, in run_code\n",
      "    exec(code_obj, self.user_global_ns, self.user_ns)\n",
      "  File \"<ipython-input-6-29c71782c65a>\", line 68, in <module>\n",
      "    fitnesses, fitnesses_acc = calc_fitnesses(population)\n",
      "  File \"<ipython-input-6-29c71782c65a>\", line 26, in calc_fitnesses\n",
      "    nll, acc = calc_pheo_fitness(agent)\n",
      "  File \"<ipython-input-5-458c568e3514>\", line 3, in calc_pheo_fitness\n",
      "    Y_batch_pred = net(X_batch)\n",
      "  File \"/Library/Python/3.8/site-packages/torch/nn/modules/module.py\", line 889, in _call_impl\n",
      "    result = self.forward(*input, **kwargs)\n",
      "  File \"/Users/akarshkumar0101/evolved-neuroevolution/models.py\", line 30, in forward\n",
      "    x = torch.relu(torch.max_pool2d(self.conv1(x), 2))\n",
      "  File \"/Library/Python/3.8/site-packages/torch/nn/modules/module.py\", line 889, in _call_impl\n",
      "    result = self.forward(*input, **kwargs)\n",
      "  File \"/Library/Python/3.8/site-packages/torch/nn/modules/conv.py\", line 399, in forward\n",
      "    return self._conv_forward(input, self.weight, self.bias)\n",
      "  File \"/Library/Python/3.8/site-packages/torch/nn/modules/conv.py\", line 395, in _conv_forward\n",
      "    return F.conv2d(input, weight, bias, self.stride,\n",
      "KeyboardInterrupt\n",
      "\n",
      "During handling of the above exception, another exception occurred:\n",
      "\n",
      "Traceback (most recent call last):\n",
      "  File \"/Users/akarshkumar0101/Library/Python/3.8/lib/python/site-packages/IPython/core/interactiveshell.py\", line 2061, in showtraceback\n",
      "    stb = value._render_traceback_()\n",
      "AttributeError: 'KeyboardInterrupt' object has no attribute '_render_traceback_'\n",
      "\n",
      "During handling of the above exception, another exception occurred:\n",
      "\n",
      "Traceback (most recent call last):\n",
      "  File \"/Users/akarshkumar0101/Library/Python/3.8/lib/python/site-packages/IPython/core/ultratb.py\", line 1101, in get_records\n",
      "    return _fixed_getinnerframes(etb, number_of_lines_of_context, tb_offset)\n",
      "  File \"/Users/akarshkumar0101/Library/Python/3.8/lib/python/site-packages/IPython/core/ultratb.py\", line 248, in wrapped\n",
      "    return f(*args, **kwargs)\n",
      "  File \"/Users/akarshkumar0101/Library/Python/3.8/lib/python/site-packages/IPython/core/ultratb.py\", line 281, in _fixed_getinnerframes\n",
      "    records = fix_frame_records_filenames(inspect.getinnerframes(etb, context))\n",
      "  File \"/Library/Developer/CommandLineTools/Library/Frameworks/Python3.framework/Versions/3.8/lib/python3.8/inspect.py\", line 1503, in getinnerframes\n",
      "    frameinfo = (tb.tb_frame,) + getframeinfo(tb, context)\n",
      "  File \"/Library/Developer/CommandLineTools/Library/Frameworks/Python3.framework/Versions/3.8/lib/python3.8/inspect.py\", line 1461, in getframeinfo\n",
      "    filename = getsourcefile(frame) or getfile(frame)\n",
      "  File \"/Library/Developer/CommandLineTools/Library/Frameworks/Python3.framework/Versions/3.8/lib/python3.8/inspect.py\", line 708, in getsourcefile\n",
      "    if getattr(getmodule(object, filename), '__loader__', None) is not None:\n",
      "  File \"/Library/Developer/CommandLineTools/Library/Frameworks/Python3.framework/Versions/3.8/lib/python3.8/inspect.py\", line 754, in getmodule\n",
      "    os.path.realpath(f)] = module.__name__\n",
      "  File \"/Library/Developer/CommandLineTools/Library/Frameworks/Python3.framework/Versions/3.8/lib/python3.8/posixpath.py\", line 392, in realpath\n",
      "    return abspath(path)\n",
      "  File \"/Library/Developer/CommandLineTools/Library/Frameworks/Python3.framework/Versions/3.8/lib/python3.8/posixpath.py\", line 381, in abspath\n",
      "    return normpath(path)\n",
      "KeyboardInterrupt\n"
     ]
    },
    {
     "name": "stderr",
     "output_type": "stream",
     "text": [
      "\n",
      "KeyboardInterrupt\n",
      "\n"
     ]
    }
   ],
   "source": [
    "model = models.SmallNet\n",
    "\n",
    "def to_np_array(population):\n",
    "    pop = np.empty(len(population), dtype=object)\n",
    "    for i in range(len(pop)):\n",
    "        pop[i] = population[i]\n",
    "    return pop\n",
    "\n",
    "def get_init_population():\n",
    "    pop = [nn.utils.parameters_to_vector(model().parameters()).detach() for _ in range(100)]\n",
    "    pop = to_np_array(pop)\n",
    "    return pop\n",
    "\n",
    "def geno2pheno():\n",
    "    pass\n",
    "def pheno2geno():\n",
    "    pass\n",
    "\n",
    "def calc_fitnesses(population):\n",
    "    agent = model()\n",
    "    fitnesses = []\n",
    "    fitnesses_acc = []\n",
    "    for dna in population:\n",
    "        nn.utils.vector_to_parameters(dna, agent.parameters())\n",
    "#         fitness = -perform_stats(agent, train_loader, n_batches=1, show_stats=False, tqdm=None)[0]\n",
    "        nll, acc = calc_pheo_fitness(agent)\n",
    "        fitnesses.append(-nll)\n",
    "        fitnesses_acc.append(acc)\n",
    "    return fitnesses, fitnesses_acc\n",
    "\n",
    "def calc_mutate(pop):\n",
    "    mutant = [d+1e-2*torch.randn_like(d) for d in pop]\n",
    "    return mutant\n",
    "\n",
    "def calc_crossover(pop1, pop2):\n",
    "    cross = [torch.stack([d1, d2], dim=0).mean(dim=0) for d1, d2 in zip(pop1, pop2)]\n",
    "    return cross\n",
    "    \n",
    "def calc_next_population(population, fitnesses):\n",
    "    N = len(population)\n",
    "    npop = []\n",
    "    \n",
    "    n_keep_best = int(.1*N)\n",
    "    npop.extend(population[np.argsort(fitnesses)[-n_keep_best:]])\n",
    "    \n",
    "    prob = torch.tensor(fitnesses).softmax(dim=-1).numpy()\n",
    "    \n",
    "    \n",
    "    n_parents = int(.3*N)\n",
    "    n_mutants = N-n_keep_best-n_parents\n",
    "    \n",
    "    mutants = np.random.choice(population, size=n_mutants, p=prob)\n",
    "    mutants = calc_mutate(mutants)\n",
    "    parents1 = np.random.choice(population, size=n_parents, p=prob)\n",
    "    parents2 = np.random.choice(population, size=n_parents, p=prob)\n",
    "    children = calc_crossover(parents1, parents2)\n",
    "    \n",
    "    npop.extend(mutants)\n",
    "    npop.extend(children)\n",
    "    \n",
    "    npop = to_np_array(npop)\n",
    "    return npop\n",
    "    \n",
    "    \n",
    "\n",
    "population = get_init_population()\n",
    "for gen_idx in tqdm(range(1000)):\n",
    "    fitnesses, fitnesses_acc = calc_fitnesses(population)\n",
    "    population = calc_next_population(population, fitnesses)\n",
    "    \n",
    "    logger.add_histogram('fitness', np.array(fitnesses), global_step=gen_idx)\n",
    "    logger.add_histogram('accuracies', np.array(fitnesses_acc), global_step=gen_idx)\n"
   ]
  },
  {
   "cell_type": "markdown",
   "id": "prostate-smell",
   "metadata": {},
   "source": [
    "# Now, we are going to learn the crossover function"
   ]
  },
  {
   "cell_type": "code",
   "execution_count": 7,
   "id": "twenty-rebound",
   "metadata": {},
   "outputs": [],
   "source": [
    "net = model()\n",
    "v = torch.nn.utils.parameters_to_vector(net.parameters())\n",
    "torch.nn.utils.vector_to_parameters(v, net.parameters())\n",
    "dna_len = len(v)"
   ]
  },
  {
   "cell_type": "code",
   "execution_count": 8,
   "id": "legal-therapist",
   "metadata": {
    "tags": []
   },
   "outputs": [
    {
     "data": {
      "text/plain": [
       "==========================================================================================\n",
       "Layer (type:depth-idx)                   Output Shape              Param #\n",
       "==========================================================================================\n",
       "CONet                                    --                        --\n",
       "├─Linear: 1-1                            [1, 2, 130]               17,030\n",
       "├─Linear: 1-2                            [1, 130]                  33,930\n",
       "├─Linear: 1-3                            [1, 130]                  17,030\n",
       "==========================================================================================\n",
       "Total params: 67,990\n",
       "Trainable params: 67,990\n",
       "Non-trainable params: 0\n",
       "Total mult-adds (M): 0.07\n",
       "==========================================================================================\n",
       "Input size (MB): 0.00\n",
       "Forward/backward pass size (MB): 0.00\n",
       "Params size (MB): 0.27\n",
       "Estimated Total Size (MB): 0.28\n",
       "=========================================================================================="
      ]
     },
     "execution_count": 8,
     "metadata": {},
     "output_type": "execute_result"
    }
   ],
   "source": [
    "class CONet(nn.Module):\n",
    "    def __init__(self):\n",
    "        super().__init__()\n",
    "        n = dna_len\n",
    "#         self.lin1 = nn.Linear(n, n//2)\n",
    "#         self.lin2 = nn.Linear(n//2, n//4)\n",
    "#         self.lin3 = nn.Linear(64, n//2)\n",
    "#         self.lin4 = nn.Linear(n//2, n)\n",
    "\n",
    "        self.lin1 = nn.Linear(n, n)\n",
    "        self.lin2 = nn.Linear(2*n, n)\n",
    "        self.lin3 = nn.Linear(n, n)\n",
    "\n",
    "    def forward(self, x):\n",
    "        bs = len(x)\n",
    "        x = torch.sigmoid(self.lin1(x))\n",
    "        x = x.reshape(bs, -1)\n",
    "        x = torch.sigmoid(self.lin2(x))\n",
    "        x = self.lin3(x)\n",
    "        \n",
    "#         x = torch.sigmoid(self.lin1(x))\n",
    "#         x = torch.sigmoid(self.lin2(x))\n",
    "#         x = x.reshape(len(x), -1)\n",
    "#         x = torch.sigmoid(self.lin3(x))\n",
    "#         x = self.lin4(x)\n",
    "        return x\n",
    "\n",
    "conet = CONet()\n",
    "summary(conet, input_size=(1, 2, dna_len))"
   ]
  },
  {
   "cell_type": "markdown",
   "id": "about-hybrid",
   "metadata": {},
   "source": [
    "# two ideas need to pursued:\n",
    "- having a population of agents and a separate population of crossover networks\n",
    "- having a population of male and female agents, where female agents consist of an overhead crossover network"
   ]
  },
  {
   "cell_type": "markdown",
   "id": "arranged-reward",
   "metadata": {},
   "source": [
    "## below is implementation of a male-female system"
   ]
  },
  {
   "cell_type": "code",
   "execution_count": 11,
   "id": "chinese-discipline",
   "metadata": {
    "tags": []
   },
   "outputs": [
    {
     "data": {
      "application/vnd.jupyter.widget-view+json": {
       "model_id": "2c824634194c432c8fbb18751da83a44",
       "version_major": 2,
       "version_minor": 0
      },
      "text/plain": [
       "  0%|          | 0/10000 [00:00<?, ?it/s]"
      ]
     },
     "metadata": {},
     "output_type": "display_data"
    },
    {
     "ename": "KeyboardInterrupt",
     "evalue": "",
     "output_type": "error",
     "traceback": [
      "\u001b[0;31m---------------------------------------------------------------------------\u001b[0m",
      "\u001b[0;31mKeyboardInterrupt\u001b[0m                         Traceback (most recent call last)",
      "\u001b[0;32m<ipython-input-11-be05cd5a5b6f>\u001b[0m in \u001b[0;36m<module>\u001b[0;34m\u001b[0m\n\u001b[1;32m    111\u001b[0m \u001b[0mpop_f\u001b[0m\u001b[0;34m,\u001b[0m \u001b[0mpop_m\u001b[0m \u001b[0;34m=\u001b[0m \u001b[0mget_init_population\u001b[0m\u001b[0;34m(\u001b[0m\u001b[0;34m)\u001b[0m\u001b[0;34m\u001b[0m\u001b[0;34m\u001b[0m\u001b[0m\n\u001b[1;32m    112\u001b[0m \u001b[0;32mfor\u001b[0m \u001b[0mgen_idx\u001b[0m \u001b[0;32min\u001b[0m \u001b[0mtqdm\u001b[0m\u001b[0;34m(\u001b[0m\u001b[0mrange\u001b[0m\u001b[0;34m(\u001b[0m\u001b[0;36m10000\u001b[0m\u001b[0;34m)\u001b[0m\u001b[0;34m)\u001b[0m\u001b[0;34m:\u001b[0m\u001b[0;34m\u001b[0m\u001b[0;34m\u001b[0m\u001b[0m\n\u001b[0;32m--> 113\u001b[0;31m     \u001b[0mpop_f\u001b[0m\u001b[0;34m,\u001b[0m \u001b[0mpop_m\u001b[0m\u001b[0;34m,\u001b[0m \u001b[0mfit_f\u001b[0m\u001b[0;34m,\u001b[0m \u001b[0mfit_m\u001b[0m \u001b[0;34m=\u001b[0m \u001b[0mcalc_next_population\u001b[0m\u001b[0;34m(\u001b[0m\u001b[0mpop_f\u001b[0m\u001b[0;34m,\u001b[0m \u001b[0mpop_m\u001b[0m\u001b[0;34m)\u001b[0m\u001b[0;34m\u001b[0m\u001b[0;34m\u001b[0m\u001b[0m\n\u001b[0m\u001b[1;32m    114\u001b[0m \u001b[0;34m\u001b[0m\u001b[0m\n\u001b[1;32m    115\u001b[0m     \u001b[0mlogger\u001b[0m\u001b[0;34m.\u001b[0m\u001b[0madd_histogram\u001b[0m\u001b[0;34m(\u001b[0m\u001b[0;34m'co female fitness histogram'\u001b[0m\u001b[0;34m,\u001b[0m \u001b[0mnp\u001b[0m\u001b[0;34m.\u001b[0m\u001b[0marray\u001b[0m\u001b[0;34m(\u001b[0m\u001b[0mfit_f\u001b[0m\u001b[0;34m)\u001b[0m\u001b[0;34m,\u001b[0m \u001b[0mglobal_step\u001b[0m\u001b[0;34m=\u001b[0m\u001b[0mgen_idx\u001b[0m\u001b[0;34m)\u001b[0m\u001b[0;34m\u001b[0m\u001b[0;34m\u001b[0m\u001b[0m\n",
      "\u001b[0;32m<ipython-input-11-be05cd5a5b6f>\u001b[0m in \u001b[0;36mcalc_next_population\u001b[0;34m(pop_f, pop_m)\u001b[0m\n\u001b[1;32m     66\u001b[0m \u001b[0;34m\u001b[0m\u001b[0m\n\u001b[1;32m     67\u001b[0m \u001b[0;32mdef\u001b[0m \u001b[0mcalc_next_population\u001b[0m\u001b[0;34m(\u001b[0m\u001b[0mpop_f\u001b[0m\u001b[0;34m,\u001b[0m \u001b[0mpop_m\u001b[0m\u001b[0;34m)\u001b[0m\u001b[0;34m:\u001b[0m\u001b[0;34m\u001b[0m\u001b[0;34m\u001b[0m\u001b[0m\n\u001b[0;32m---> 68\u001b[0;31m     \u001b[0mfit_f\u001b[0m\u001b[0;34m,\u001b[0m \u001b[0mfit_acc_f\u001b[0m \u001b[0;34m=\u001b[0m \u001b[0mcalc_fitnesses\u001b[0m\u001b[0;34m(\u001b[0m\u001b[0mpop_f\u001b[0m\u001b[0;34m)\u001b[0m\u001b[0;34m\u001b[0m\u001b[0;34m\u001b[0m\u001b[0m\n\u001b[0m\u001b[1;32m     69\u001b[0m     \u001b[0mfit_m\u001b[0m\u001b[0;34m,\u001b[0m \u001b[0mfit_acc_m\u001b[0m \u001b[0;34m=\u001b[0m \u001b[0mcalc_fitnesses\u001b[0m\u001b[0;34m(\u001b[0m\u001b[0mpop_m\u001b[0m\u001b[0;34m)\u001b[0m\u001b[0;34m\u001b[0m\u001b[0;34m\u001b[0m\u001b[0m\n\u001b[1;32m     70\u001b[0m \u001b[0;34m\u001b[0m\u001b[0m\n",
      "\u001b[0;32m<ipython-input-11-be05cd5a5b6f>\u001b[0m in \u001b[0;36mcalc_fitnesses\u001b[0;34m(population)\u001b[0m\n\u001b[1;32m     35\u001b[0m         \u001b[0mnn\u001b[0m\u001b[0;34m.\u001b[0m\u001b[0mutils\u001b[0m\u001b[0;34m.\u001b[0m\u001b[0mvector_to_parameters\u001b[0m\u001b[0;34m(\u001b[0m\u001b[0mdna\u001b[0m\u001b[0;34m.\u001b[0m\u001b[0mgeno\u001b[0m\u001b[0;34m,\u001b[0m \u001b[0magent\u001b[0m\u001b[0;34m.\u001b[0m\u001b[0mparameters\u001b[0m\u001b[0;34m(\u001b[0m\u001b[0;34m)\u001b[0m\u001b[0;34m)\u001b[0m\u001b[0;34m\u001b[0m\u001b[0;34m\u001b[0m\u001b[0m\n\u001b[1;32m     36\u001b[0m \u001b[0;31m#         fitness = -perform_stats(agent, train_loader, n_batches=1, show_stats=False, tqdm=None)[0]\u001b[0m\u001b[0;34m\u001b[0m\u001b[0;34m\u001b[0m\u001b[0;34m\u001b[0m\u001b[0m\n\u001b[0;32m---> 37\u001b[0;31m         \u001b[0mnll\u001b[0m\u001b[0;34m,\u001b[0m \u001b[0macc\u001b[0m \u001b[0;34m=\u001b[0m \u001b[0mcalc_pheo_fitness\u001b[0m\u001b[0;34m(\u001b[0m\u001b[0magent\u001b[0m\u001b[0;34m)\u001b[0m\u001b[0;34m\u001b[0m\u001b[0;34m\u001b[0m\u001b[0m\n\u001b[0m\u001b[1;32m     38\u001b[0m         \u001b[0mfitnesses\u001b[0m\u001b[0;34m.\u001b[0m\u001b[0mappend\u001b[0m\u001b[0;34m(\u001b[0m\u001b[0;34m-\u001b[0m\u001b[0mnll\u001b[0m\u001b[0;34m)\u001b[0m\u001b[0;34m\u001b[0m\u001b[0;34m\u001b[0m\u001b[0m\n\u001b[1;32m     39\u001b[0m         \u001b[0mfitnesses_acc\u001b[0m\u001b[0;34m.\u001b[0m\u001b[0mappend\u001b[0m\u001b[0;34m(\u001b[0m\u001b[0macc\u001b[0m\u001b[0;34m)\u001b[0m\u001b[0;34m\u001b[0m\u001b[0;34m\u001b[0m\u001b[0m\n",
      "\u001b[0;32m<ipython-input-5-458c568e3514>\u001b[0m in \u001b[0;36mcalc_pheo_fitness\u001b[0;34m(net)\u001b[0m\n\u001b[1;32m      1\u001b[0m \u001b[0mbatch_idx\u001b[0m\u001b[0;34m,\u001b[0m \u001b[0;34m(\u001b[0m\u001b[0mX_batch\u001b[0m\u001b[0;34m,\u001b[0m \u001b[0mY_batch\u001b[0m\u001b[0;34m)\u001b[0m \u001b[0;34m=\u001b[0m \u001b[0mnext\u001b[0m\u001b[0;34m(\u001b[0m\u001b[0menumerate\u001b[0m\u001b[0;34m(\u001b[0m\u001b[0mmnist\u001b[0m\u001b[0;34m.\u001b[0m\u001b[0mtrain_loader\u001b[0m\u001b[0;34m)\u001b[0m\u001b[0;34m)\u001b[0m\u001b[0;34m\u001b[0m\u001b[0;34m\u001b[0m\u001b[0m\n\u001b[1;32m      2\u001b[0m \u001b[0;32mdef\u001b[0m \u001b[0mcalc_pheo_fitness\u001b[0m\u001b[0;34m(\u001b[0m\u001b[0mnet\u001b[0m\u001b[0;34m)\u001b[0m\u001b[0;34m:\u001b[0m\u001b[0;34m\u001b[0m\u001b[0;34m\u001b[0m\u001b[0m\n\u001b[0;32m----> 3\u001b[0;31m     \u001b[0mY_batch_pred\u001b[0m \u001b[0;34m=\u001b[0m \u001b[0mnet\u001b[0m\u001b[0;34m(\u001b[0m\u001b[0mX_batch\u001b[0m\u001b[0;34m)\u001b[0m\u001b[0;34m\u001b[0m\u001b[0;34m\u001b[0m\u001b[0m\n\u001b[0m\u001b[1;32m      4\u001b[0m     \u001b[0mn_correct\u001b[0m \u001b[0;34m=\u001b[0m \u001b[0;34m(\u001b[0m\u001b[0mY_batch_pred\u001b[0m\u001b[0;34m.\u001b[0m\u001b[0margmax\u001b[0m\u001b[0;34m(\u001b[0m\u001b[0mdim\u001b[0m\u001b[0;34m=\u001b[0m\u001b[0;34m-\u001b[0m\u001b[0;36m1\u001b[0m\u001b[0;34m)\u001b[0m\u001b[0;34m==\u001b[0m\u001b[0mY_batch\u001b[0m\u001b[0;34m)\u001b[0m\u001b[0;34m.\u001b[0m\u001b[0msum\u001b[0m\u001b[0;34m(\u001b[0m\u001b[0;34m)\u001b[0m\u001b[0;34m.\u001b[0m\u001b[0mitem\u001b[0m\u001b[0;34m(\u001b[0m\u001b[0;34m)\u001b[0m\u001b[0;34m\u001b[0m\u001b[0;34m\u001b[0m\u001b[0m\n\u001b[1;32m      5\u001b[0m     \u001b[0mloss\u001b[0m \u001b[0;34m=\u001b[0m \u001b[0mmnist\u001b[0m\u001b[0;34m.\u001b[0m\u001b[0mloss_func\u001b[0m\u001b[0;34m(\u001b[0m\u001b[0mY_batch_pred\u001b[0m\u001b[0;34m.\u001b[0m\u001b[0mlog\u001b[0m\u001b[0;34m(\u001b[0m\u001b[0;34m)\u001b[0m\u001b[0;34m,\u001b[0m \u001b[0mY_batch\u001b[0m\u001b[0;34m)\u001b[0m\u001b[0;34m.\u001b[0m\u001b[0mitem\u001b[0m\u001b[0;34m(\u001b[0m\u001b[0;34m)\u001b[0m\u001b[0;34m\u001b[0m\u001b[0;34m\u001b[0m\u001b[0m\n",
      "\u001b[0;32m/Library/Python/3.8/site-packages/torch/nn/modules/module.py\u001b[0m in \u001b[0;36m_call_impl\u001b[0;34m(self, *input, **kwargs)\u001b[0m\n\u001b[1;32m    887\u001b[0m             \u001b[0mresult\u001b[0m \u001b[0;34m=\u001b[0m \u001b[0mself\u001b[0m\u001b[0;34m.\u001b[0m\u001b[0m_slow_forward\u001b[0m\u001b[0;34m(\u001b[0m\u001b[0;34m*\u001b[0m\u001b[0minput\u001b[0m\u001b[0;34m,\u001b[0m \u001b[0;34m**\u001b[0m\u001b[0mkwargs\u001b[0m\u001b[0;34m)\u001b[0m\u001b[0;34m\u001b[0m\u001b[0;34m\u001b[0m\u001b[0m\n\u001b[1;32m    888\u001b[0m         \u001b[0;32melse\u001b[0m\u001b[0;34m:\u001b[0m\u001b[0;34m\u001b[0m\u001b[0;34m\u001b[0m\u001b[0m\n\u001b[0;32m--> 889\u001b[0;31m             \u001b[0mresult\u001b[0m \u001b[0;34m=\u001b[0m \u001b[0mself\u001b[0m\u001b[0;34m.\u001b[0m\u001b[0mforward\u001b[0m\u001b[0;34m(\u001b[0m\u001b[0;34m*\u001b[0m\u001b[0minput\u001b[0m\u001b[0;34m,\u001b[0m \u001b[0;34m**\u001b[0m\u001b[0mkwargs\u001b[0m\u001b[0;34m)\u001b[0m\u001b[0;34m\u001b[0m\u001b[0;34m\u001b[0m\u001b[0m\n\u001b[0m\u001b[1;32m    890\u001b[0m         for hook in itertools.chain(\n\u001b[1;32m    891\u001b[0m                 \u001b[0m_global_forward_hooks\u001b[0m\u001b[0;34m.\u001b[0m\u001b[0mvalues\u001b[0m\u001b[0;34m(\u001b[0m\u001b[0;34m)\u001b[0m\u001b[0;34m,\u001b[0m\u001b[0;34m\u001b[0m\u001b[0;34m\u001b[0m\u001b[0m\n",
      "\u001b[0;32m~/evolved-neuroevolution/models.py\u001b[0m in \u001b[0;36mforward\u001b[0;34m(self, x)\u001b[0m\n\u001b[1;32m     28\u001b[0m \u001b[0;34m\u001b[0m\u001b[0m\n\u001b[1;32m     29\u001b[0m     \u001b[0;32mdef\u001b[0m \u001b[0mforward\u001b[0m\u001b[0;34m(\u001b[0m\u001b[0mself\u001b[0m\u001b[0;34m,\u001b[0m \u001b[0mx\u001b[0m\u001b[0;34m)\u001b[0m\u001b[0;34m:\u001b[0m\u001b[0;34m\u001b[0m\u001b[0;34m\u001b[0m\u001b[0m\n\u001b[0;32m---> 30\u001b[0;31m         \u001b[0mx\u001b[0m \u001b[0;34m=\u001b[0m \u001b[0mtorch\u001b[0m\u001b[0;34m.\u001b[0m\u001b[0mrelu\u001b[0m\u001b[0;34m(\u001b[0m\u001b[0mtorch\u001b[0m\u001b[0;34m.\u001b[0m\u001b[0mmax_pool2d\u001b[0m\u001b[0;34m(\u001b[0m\u001b[0mself\u001b[0m\u001b[0;34m.\u001b[0m\u001b[0mconv1\u001b[0m\u001b[0;34m(\u001b[0m\u001b[0mx\u001b[0m\u001b[0;34m)\u001b[0m\u001b[0;34m,\u001b[0m \u001b[0;36m2\u001b[0m\u001b[0;34m)\u001b[0m\u001b[0;34m)\u001b[0m\u001b[0;34m\u001b[0m\u001b[0;34m\u001b[0m\u001b[0m\n\u001b[0m\u001b[1;32m     31\u001b[0m         \u001b[0mx\u001b[0m \u001b[0;34m=\u001b[0m \u001b[0mtorch\u001b[0m\u001b[0;34m.\u001b[0m\u001b[0mrelu\u001b[0m\u001b[0;34m(\u001b[0m\u001b[0mtorch\u001b[0m\u001b[0;34m.\u001b[0m\u001b[0mmax_pool2d\u001b[0m\u001b[0;34m(\u001b[0m\u001b[0mself\u001b[0m\u001b[0;34m.\u001b[0m\u001b[0mconv2\u001b[0m\u001b[0;34m(\u001b[0m\u001b[0mx\u001b[0m\u001b[0;34m)\u001b[0m\u001b[0;34m,\u001b[0m \u001b[0;36m2\u001b[0m\u001b[0;34m)\u001b[0m\u001b[0;34m)\u001b[0m\u001b[0;34m\u001b[0m\u001b[0;34m\u001b[0m\u001b[0m\n\u001b[1;32m     32\u001b[0m         \u001b[0mx\u001b[0m \u001b[0;34m=\u001b[0m \u001b[0mtorch\u001b[0m\u001b[0;34m.\u001b[0m\u001b[0mrelu\u001b[0m\u001b[0;34m(\u001b[0m\u001b[0mself\u001b[0m\u001b[0;34m.\u001b[0m\u001b[0mconv3\u001b[0m\u001b[0;34m(\u001b[0m\u001b[0mx\u001b[0m\u001b[0;34m)\u001b[0m\u001b[0;34m)\u001b[0m\u001b[0;34m\u001b[0m\u001b[0;34m\u001b[0m\u001b[0m\n",
      "\u001b[0;32m/Library/Python/3.8/site-packages/torch/nn/modules/module.py\u001b[0m in \u001b[0;36m_call_impl\u001b[0;34m(self, *input, **kwargs)\u001b[0m\n\u001b[1;32m    887\u001b[0m             \u001b[0mresult\u001b[0m \u001b[0;34m=\u001b[0m \u001b[0mself\u001b[0m\u001b[0;34m.\u001b[0m\u001b[0m_slow_forward\u001b[0m\u001b[0;34m(\u001b[0m\u001b[0;34m*\u001b[0m\u001b[0minput\u001b[0m\u001b[0;34m,\u001b[0m \u001b[0;34m**\u001b[0m\u001b[0mkwargs\u001b[0m\u001b[0;34m)\u001b[0m\u001b[0;34m\u001b[0m\u001b[0;34m\u001b[0m\u001b[0m\n\u001b[1;32m    888\u001b[0m         \u001b[0;32melse\u001b[0m\u001b[0;34m:\u001b[0m\u001b[0;34m\u001b[0m\u001b[0;34m\u001b[0m\u001b[0m\n\u001b[0;32m--> 889\u001b[0;31m             \u001b[0mresult\u001b[0m \u001b[0;34m=\u001b[0m \u001b[0mself\u001b[0m\u001b[0;34m.\u001b[0m\u001b[0mforward\u001b[0m\u001b[0;34m(\u001b[0m\u001b[0;34m*\u001b[0m\u001b[0minput\u001b[0m\u001b[0;34m,\u001b[0m \u001b[0;34m**\u001b[0m\u001b[0mkwargs\u001b[0m\u001b[0;34m)\u001b[0m\u001b[0;34m\u001b[0m\u001b[0;34m\u001b[0m\u001b[0m\n\u001b[0m\u001b[1;32m    890\u001b[0m         for hook in itertools.chain(\n\u001b[1;32m    891\u001b[0m                 \u001b[0m_global_forward_hooks\u001b[0m\u001b[0;34m.\u001b[0m\u001b[0mvalues\u001b[0m\u001b[0;34m(\u001b[0m\u001b[0;34m)\u001b[0m\u001b[0;34m,\u001b[0m\u001b[0;34m\u001b[0m\u001b[0;34m\u001b[0m\u001b[0m\n",
      "\u001b[0;32m/Library/Python/3.8/site-packages/torch/nn/modules/conv.py\u001b[0m in \u001b[0;36mforward\u001b[0;34m(self, input)\u001b[0m\n\u001b[1;32m    397\u001b[0m \u001b[0;34m\u001b[0m\u001b[0m\n\u001b[1;32m    398\u001b[0m     \u001b[0;32mdef\u001b[0m \u001b[0mforward\u001b[0m\u001b[0;34m(\u001b[0m\u001b[0mself\u001b[0m\u001b[0;34m,\u001b[0m \u001b[0minput\u001b[0m\u001b[0;34m:\u001b[0m \u001b[0mTensor\u001b[0m\u001b[0;34m)\u001b[0m \u001b[0;34m->\u001b[0m \u001b[0mTensor\u001b[0m\u001b[0;34m:\u001b[0m\u001b[0;34m\u001b[0m\u001b[0;34m\u001b[0m\u001b[0m\n\u001b[0;32m--> 399\u001b[0;31m         \u001b[0;32mreturn\u001b[0m \u001b[0mself\u001b[0m\u001b[0;34m.\u001b[0m\u001b[0m_conv_forward\u001b[0m\u001b[0;34m(\u001b[0m\u001b[0minput\u001b[0m\u001b[0;34m,\u001b[0m \u001b[0mself\u001b[0m\u001b[0;34m.\u001b[0m\u001b[0mweight\u001b[0m\u001b[0;34m,\u001b[0m \u001b[0mself\u001b[0m\u001b[0;34m.\u001b[0m\u001b[0mbias\u001b[0m\u001b[0;34m)\u001b[0m\u001b[0;34m\u001b[0m\u001b[0;34m\u001b[0m\u001b[0m\n\u001b[0m\u001b[1;32m    400\u001b[0m \u001b[0;34m\u001b[0m\u001b[0m\n\u001b[1;32m    401\u001b[0m \u001b[0;32mclass\u001b[0m \u001b[0mConv3d\u001b[0m\u001b[0;34m(\u001b[0m\u001b[0m_ConvNd\u001b[0m\u001b[0;34m)\u001b[0m\u001b[0;34m:\u001b[0m\u001b[0;34m\u001b[0m\u001b[0;34m\u001b[0m\u001b[0m\n",
      "\u001b[0;32m/Library/Python/3.8/site-packages/torch/nn/modules/conv.py\u001b[0m in \u001b[0;36m_conv_forward\u001b[0;34m(self, input, weight, bias)\u001b[0m\n\u001b[1;32m    393\u001b[0m                             \u001b[0mweight\u001b[0m\u001b[0;34m,\u001b[0m \u001b[0mbias\u001b[0m\u001b[0;34m,\u001b[0m \u001b[0mself\u001b[0m\u001b[0;34m.\u001b[0m\u001b[0mstride\u001b[0m\u001b[0;34m,\u001b[0m\u001b[0;34m\u001b[0m\u001b[0;34m\u001b[0m\u001b[0m\n\u001b[1;32m    394\u001b[0m                             _pair(0), self.dilation, self.groups)\n\u001b[0;32m--> 395\u001b[0;31m         return F.conv2d(input, weight, bias, self.stride,\n\u001b[0m\u001b[1;32m    396\u001b[0m                         self.padding, self.dilation, self.groups)\n\u001b[1;32m    397\u001b[0m \u001b[0;34m\u001b[0m\u001b[0m\n",
      "\u001b[0;31mKeyboardInterrupt\u001b[0m: "
     ]
    }
   ],
   "source": [
    "class DNA():\n",
    "    def __init__(self):\n",
    "        self.geno = None\n",
    "        self.co_geno = None # will be None if male\n",
    "\n",
    "\n",
    "model = models.SmallNet\n",
    "comodel = CONet\n",
    "\n",
    "def to_np_array(population):\n",
    "    pop = np.empty(len(population), dtype=object)\n",
    "    for i in range(len(pop)):\n",
    "        pop[i] = population[i]\n",
    "    return pop\n",
    "\n",
    "def get_init_population():\n",
    "    pop = [DNA() for _ in range(100)]\n",
    "    for i in range(100):\n",
    "        pop[i].geno = nn.utils.parameters_to_vector(model().parameters()).detach()\n",
    "    for i in range(50):\n",
    "        pop[i].co_geno = nn.utils.parameters_to_vector(comodel().parameters()).detach()\n",
    "    pop = to_np_array(pop)\n",
    "    return pop[:50], pop[50:]\n",
    "\n",
    "def geno2pheno():\n",
    "    pass\n",
    "def pheno2geno():\n",
    "    pass\n",
    "\n",
    "def calc_fitnesses(population):\n",
    "    agent = model()\n",
    "    fitnesses = []\n",
    "    fitnesses_acc = []\n",
    "    for dna in population:\n",
    "        nn.utils.vector_to_parameters(dna.geno, agent.parameters())\n",
    "#         fitness = -perform_stats(agent, train_loader, n_batches=1, show_stats=False, tqdm=None)[0]\n",
    "        nll, acc = calc_pheo_fitness(agent)\n",
    "        fitnesses.append(-nll)\n",
    "        fitnesses_acc.append(acc)\n",
    "    return fitnesses, fitnesses_acc\n",
    "\n",
    "def calc_mutate(pop):\n",
    "    mutant = [DNA() for _ in pop]\n",
    "    for o, m in zip(pop, mutant):\n",
    "        if o.geno is not None:\n",
    "            m.geno = o.geno + 1e-2*torch.randn_like(o.geno)\n",
    "        if o.co_geno is not None:\n",
    "            m.co_geno = o.co_geno + 1e-2*torch.randn_like(o.co_geno)\n",
    "    return mutant\n",
    "\n",
    "def calc_crossover(popf, popm):\n",
    "    children = [DNA() for _ in popf]\n",
    "    conet = comodel()\n",
    "    for i in range(len(children)):\n",
    "        x = torch.stack([popf[i].geno, popm[i].geno], dim=0)\n",
    "        cogeno = popf[i].co_geno\n",
    "        nn.utils.vector_to_parameters(cogeno, conet.parameters())\n",
    "        y = conet(x[None])[0]\n",
    "        children[i].geno = y\n",
    "    for i in torch.randperm(len(popf))[:len(popf)//2]:\n",
    "        children[i].co_geno = popf[i].co_geno\n",
    "        \n",
    "    childrenf = [c for c in children if c.co_geno is not None]\n",
    "    childrenm = [c for c in children if c.co_geno is None]\n",
    "    return childrenf, childrenm\n",
    "    \n",
    "def calc_next_population(pop_f, pop_m):\n",
    "    fit_f, fit_acc_f = calc_fitnesses(pop_f)\n",
    "    fit_m, fit_acc_m = calc_fitnesses(pop_m)\n",
    "    \n",
    "    N_f = len(pop_f)\n",
    "    N_m = len(pop_m)\n",
    "    \n",
    "    npop = []\n",
    "    \n",
    "    n_keep_best = 5\n",
    "    npop.extend(pop_f[np.argsort(fit_f)[-n_keep_best:]])\n",
    "    npop.extend(pop_m[np.argsort(fit_m)[-n_keep_best:]])\n",
    "    \n",
    "    prob_f = torch.tensor(fit_f).softmax(dim=-1).numpy()\n",
    "    prob_m = torch.tensor(fit_m).softmax(dim=-1).numpy()\n",
    "    \n",
    "#     n_parents = 30\n",
    "#     n_mutants = 30\n",
    "    n_parents = 10\n",
    "    n_mutants = 40\n",
    "    \n",
    "    mutants_f = np.random.choice(pop_f, size=n_mutants, p=prob_f)\n",
    "    mutants_m = np.random.choice(pop_m, size=n_mutants, p=prob_m)\n",
    "    mutants_f = calc_mutate(mutants_f)\n",
    "    mutants_m = calc_mutate(mutants_m)\n",
    "    \n",
    "    parents_f = np.random.choice(pop_f, size=n_parents, p=prob_f)\n",
    "    parents_m = np.random.choice(pop_m, size=n_parents, p=prob_m)\n",
    "    children_f, children_m = calc_crossover(parents_f, parents_m)\n",
    "    \n",
    "    npop.extend(mutants_f)\n",
    "    npop.extend(mutants_m)\n",
    "    npop.extend(children_f)\n",
    "    npop.extend(children_m)\n",
    "    \n",
    "    npop_f = [c for c in npop if c.co_geno is not None]\n",
    "    npop_m = [c for c in npop if c.co_geno is None]\n",
    "\n",
    "    npop_f = to_np_array(npop_f)\n",
    "    npop_m = to_np_array(npop_m)\n",
    "    return npop_f, npop_m, fit_f, fit_m\n",
    "    \n",
    "    \n",
    "\n",
    "pop_f, pop_m = get_init_population()\n",
    "for gen_idx in tqdm(range(10000)):\n",
    "    pop_f, pop_m, fit_f, fit_m = calc_next_population(pop_f, pop_m)\n",
    "    \n",
    "    logger.add_histogram('co female fitness histogram', np.array(fit_f), global_step=gen_idx)\n",
    "    logger.add_histogram('co male fitness histogram', np.array(fit_m), global_step=gen_idx)\n",
    "#     logger.add_histogram('accuracies histogram', np.array(fitnesses_acc), global_step=gen_idx)"
   ]
  },
  {
   "cell_type": "code",
   "execution_count": null,
   "id": "above-louis",
   "metadata": {},
   "outputs": [],
   "source": []
  },
  {
   "cell_type": "code",
   "execution_count": null,
   "id": "express-response",
   "metadata": {},
   "outputs": [],
   "source": []
  },
  {
   "cell_type": "code",
   "execution_count": 12,
   "id": "independent-beauty",
   "metadata": {},
   "outputs": [
    {
     "data": {
      "text/plain": [
       "=================================================================\n",
       "Layer (type:depth-idx)                   Param #\n",
       "=================================================================\n",
       "Sequential                               --\n",
       "├─Linear: 1-1                            68,600\n",
       "├─ReLU: 1-2                              --\n",
       "├─Linear: 1-3                            5,050\n",
       "├─ReLU: 1-4                              --\n",
       "├─Linear: 1-5                            5,100\n",
       "├─ReLU: 1-6                              --\n",
       "├─Linear: 1-7                            69,185\n",
       "├─Tanh: 1-8                              --\n",
       "=================================================================\n",
       "Total params: 147,935\n",
       "Trainable params: 147,935\n",
       "Non-trainable params: 0\n",
       "================================================================="
      ]
     },
     "execution_count": 12,
     "metadata": {},
     "output_type": "execute_result"
    }
   ],
   "source": [
    "conet = nn.Sequential(\n",
    "    nn.Linear(len(v)*2, 100),\n",
    "    nn.ReLU(),\n",
    "    nn.Linear(100, 100),\n",
    "    nn.ReLU(),\n",
    "    nn.Linear(100, 100),\n",
    "    nn.ReLU(),\n",
    "    nn.Linear(100, 100),\n",
    "    nn.ReLU(),\n",
    "    nn.Linear(100, 100),\n",
    "    nn.ReLU(),\n",
    "    nn.Linear(100, 100),\n",
    "    nn.ReLU(),\n",
    "    nn.Linear(100, 100),\n",
    "    nn.ReLU(),\n",
    "    nn.Linear(100, len(v)*2),\n",
    ")\n",
    "munet = nn.Sequential(\n",
    "    nn.Linear(len(v), 100),\n",
    "    nn.ReLU(),\n",
    "    nn.Linear(100, 50),\n",
    "    nn.ReLU(),\n",
    "    nn.Linear(50, 100),\n",
    "    nn.ReLU(),\n",
    "    nn.Linear(100, len(v)),\n",
    "    nn.Tanh(),\n",
    ")\n",
    "summary(munet)"
   ]
  },
  {
   "cell_type": "code",
   "execution_count": 48,
   "id": "norman-authority",
   "metadata": {},
   "outputs": [
    {
     "name": "stdout",
     "output_type": "stream",
     "text": [
      "torch.Size([1, 685])\n"
     ]
    },
    {
     "data": {
      "text/plain": [
       "=================================================================\n",
       "Layer (type:depth-idx)                   Param #\n",
       "=================================================================\n",
       "MuNet                                    --\n",
       "├─Linear: 1-1                            2,550\n",
       "├─Linear: 1-2                            2,550\n",
       "├─Linear: 1-3                            2,550\n",
       "├─Linear: 1-4                            2,550\n",
       "=================================================================\n",
       "Total params: 10,200\n",
       "Trainable params: 10,200\n",
       "Non-trainable params: 0\n",
       "================================================================="
      ]
     },
     "execution_count": 48,
     "metadata": {},
     "output_type": "execute_result"
    }
   ],
   "source": [
    "torch.manual_seed(0)\n",
    "rand_idx1 = torch.arange(1000)\n",
    "rand_idx2 = torch.arange(1000)\n",
    "rand_idx3 = torch.arange(1000)\n",
    "class MuNet(nn.Module):\n",
    "    def __init__(self):\n",
    "        super().__init__()\n",
    "        self.lin1 = nn.Linear(50, 50)\n",
    "        self.lin2 = nn.Linear(50, 50)\n",
    "        self.lin3 = nn.Linear(50, 50)\n",
    "        self.lin4 = nn.Linear(50, 50)\n",
    "\n",
    "    def forward(self, x):\n",
    "        x = torch.cat([x, torch.zeros(len(x), 1000-len(v))], dim=-1)\n",
    "        x = x.reshape(-1, 20, 50)\n",
    "        x = torch.relu(self.lin1(x))\n",
    "        x = x.reshape(-1, 1000)[:, rand_idx1]\n",
    "        x = x.reshape(-1, 20, 50)\n",
    "        x = torch.relu(self.lin2(x))\n",
    "        x = x.reshape(-1, 1000)[:, rand_idx2]\n",
    "        x = x.reshape(-1, 20, 50)\n",
    "        x = torch.relu(self.lin3(x))\n",
    "        x = x.reshape(-1, 1000)[:, rand_idx3]\n",
    "        x = x.reshape(-1, 20, 50)\n",
    "        x = torch.relu(self.lin4(x))\n",
    "        x = x.reshape(-1, 1000)[:, :len(v)]\n",
    "        return x\n",
    "    \n",
    "class CONet(nn.Module):\n",
    "    def __init__(self):\n",
    "        super().__init__()\n",
    "        self.lin1 = nn.Linear(50, 50)\n",
    "        self.lin2 = nn.Linear(50, 50)\n",
    "        self.lin3 = nn.Linear(50, 50)\n",
    "        self.lin4 = nn.Linear(50, 50)\n",
    "\n",
    "    def forward(self, x):\n",
    "        x = torch.cat([x, torch.zeros(len(x), 1000-len(v))], dim=-1)\n",
    "        x = x.reshape(-1, 20, 50)\n",
    "        x = torch.relu(self.lin1(x))\n",
    "        x = x.reshape(-1, 1000)[:, rand_idx1]\n",
    "        x = x.reshape(-1, 20, 50)\n",
    "        x = torch.relu(self.lin2(x))\n",
    "        x = x.reshape(-1, 1000)[:, rand_idx2]\n",
    "        x = x.reshape(-1, 20, 50)\n",
    "        x = torch.relu(self.lin3(x))\n",
    "        x = x.reshape(-1, 1000)[:, rand_idx3]\n",
    "        x = x.reshape(-1, 20, 50)\n",
    "        x = torch.relu(self.lin4(x))\n",
    "        x = x.reshape(-1, 1000)[:, :len(v)]\n",
    "        return x\n",
    "    \n",
    "munet = MuNet()\n",
    "print(munet(v[None]).shape)\n",
    "summary(munet)"
   ]
  },
  {
   "cell_type": "code",
   "execution_count": 7,
   "id": "coordinated-peninsula",
   "metadata": {},
   "outputs": [
    {
     "data": {
      "text/plain": [
       "469225"
      ]
     },
     "execution_count": 7,
     "metadata": {},
     "output_type": "execute_result"
    }
   ],
   "source": [
    "685*685"
   ]
  },
  {
   "cell_type": "code",
   "execution_count": null,
   "id": "measured-robert",
   "metadata": {},
   "outputs": [],
   "source": []
  },
  {
   "cell_type": "code",
   "execution_count": null,
   "id": "excited-photographer",
   "metadata": {},
   "outputs": [],
   "source": []
  },
  {
   "cell_type": "code",
   "execution_count": null,
   "id": "optical-security",
   "metadata": {},
   "outputs": [],
   "source": []
  }
 ],
 "metadata": {
  "kernelspec": {
   "display_name": "Python 3",
   "language": "python",
   "name": "python3"
  },
  "language_info": {
   "codemirror_mode": {
    "name": "ipython",
    "version": 3
   },
   "file_extension": ".py",
   "mimetype": "text/x-python",
   "name": "python",
   "nbconvert_exporter": "python",
   "pygments_lexer": "ipython3",
   "version": "3.8.2"
  }
 },
 "nbformat": 4,
 "nbformat_minor": 5
}
