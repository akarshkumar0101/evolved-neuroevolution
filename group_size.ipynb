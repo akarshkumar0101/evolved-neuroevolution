{
 "cells": [
  {
   "cell_type": "code",
   "execution_count": 1,
   "id": "dried-teaching",
   "metadata": {},
   "outputs": [],
   "source": [
    "%load_ext autoreload\n",
    "%autoreload 2"
   ]
  },
  {
   "cell_type": "code",
   "execution_count": 2,
   "id": "italian-spyware",
   "metadata": {},
   "outputs": [],
   "source": [
    "%run imports.py"
   ]
  },
  {
   "cell_type": "code",
   "execution_count": 3,
   "id": "incorporated-correspondence",
   "metadata": {},
   "outputs": [],
   "source": [
    "from tqdm.notebook import tqdm"
   ]
  },
  {
   "cell_type": "markdown",
   "id": "discrete-leisure",
   "metadata": {},
   "source": [
    "# Group size analysis"
   ]
  },
  {
   "cell_type": "code",
   "execution_count": 41,
   "id": "lasting-malpractice",
   "metadata": {},
   "outputs": [
    {
     "name": "stdout",
     "output_type": "stream",
     "text": [
      "<function ackley at 0x2b7d5700ab70>\n",
      "51 [ 1  2  5 10 25 50]\n"
     ]
    },
    {
     "data": {
      "application/vnd.jupyter.widget-view+json": {
       "model_id": "97841122f6344926be32893a2a71723e",
       "version_major": 2,
       "version_minor": 0
      },
      "text/plain": [
       "  0%|          | 0/6 [00:00<?, ?it/s]"
      ]
     },
     "metadata": {},
     "output_type": "display_data"
    },
    {
     "name": "stdout",
     "output_type": "stream",
     "text": [
      "101 [  1   2   4   5  10  20  25  50 100]\n"
     ]
    },
    {
     "data": {
      "application/vnd.jupyter.widget-view+json": {
       "model_id": "cbacb7cb895e453ebb9eac0d9b64d0ff",
       "version_major": 2,
       "version_minor": 0
      },
      "text/plain": [
       "  0%|          | 0/9 [00:00<?, ?it/s]"
      ]
     },
     "metadata": {},
     "output_type": "display_data"
    },
    {
     "name": "stdout",
     "output_type": "stream",
     "text": [
      "201 [  1   2   4   5   8  10  20  25  40  50 100 200]\n"
     ]
    },
    {
     "data": {
      "application/vnd.jupyter.widget-view+json": {
       "model_id": "45e88e9438864dcaa5baf8ba8f7a82a1",
       "version_major": 2,
       "version_minor": 0
      },
      "text/plain": [
       "  0%|          | 0/12 [00:00<?, ?it/s]"
      ]
     },
     "metadata": {},
     "output_type": "display_data"
    },
    {
     "name": "stdout",
     "output_type": "stream",
     "text": [
      "401 [  1   2   4   5   8  10  16  20  25  40  50  80 100 200 400]\n"
     ]
    },
    {
     "data": {
      "application/vnd.jupyter.widget-view+json": {
       "model_id": "6688fcede038414c85710d296966b406",
       "version_major": 2,
       "version_minor": 0
      },
      "text/plain": [
       "  0%|          | 0/15 [00:00<?, ?it/s]"
      ]
     },
     "metadata": {},
     "output_type": "display_data"
    },
    {
     "name": "stdout",
     "output_type": "stream",
     "text": [
      "801 [  1   2   4   5   8  10  16  20  25  32  40  50  80 100 160 200 400 800]\n"
     ]
    },
    {
     "data": {
      "application/vnd.jupyter.widget-view+json": {
       "model_id": "9433f17dd5b847f8a8609efe96c2835b",
       "version_major": 2,
       "version_minor": 0
      },
      "text/plain": [
       "  0%|          | 0/18 [00:00<?, ?it/s]"
      ]
     },
     "metadata": {},
     "output_type": "display_data"
    },
    {
     "name": "stdout",
     "output_type": "stream",
     "text": [
      "1601 [   1    2    4    5    8   10   16   20   25   32   40   50   64   80\n",
      "  100  160  200  320  400  800 1600]\n"
     ]
    },
    {
     "data": {
      "application/vnd.jupyter.widget-view+json": {
       "model_id": "5e3e7d7ea4244d178f868272035ef31f",
       "version_major": 2,
       "version_minor": 0
      },
      "text/plain": [
       "  0%|          | 0/21 [00:00<?, ?it/s]"
      ]
     },
     "metadata": {},
     "output_type": "display_data"
    },
    {
     "name": "stdout",
     "output_type": "stream",
     "text": [
      "3201 [   1    2    4    5    8   10   16   20   25   32   40   50   64   80\n",
      "  100  128  160  200  320  400  640  800 1600 3200]\n"
     ]
    },
    {
     "data": {
      "application/vnd.jupyter.widget-view+json": {
       "model_id": "30e559b6317141c995ad8aca48424977",
       "version_major": 2,
       "version_minor": 0
      },
      "text/plain": [
       "  0%|          | 0/24 [00:00<?, ?it/s]"
      ]
     },
     "metadata": {},
     "output_type": "display_data"
    },
    {
     "name": "stdout",
     "output_type": "stream",
     "text": [
      "<function rastrigin at 0x2b7d5700ac80>\n",
      "51 [ 1  2  5 10 25 50]\n"
     ]
    },
    {
     "data": {
      "application/vnd.jupyter.widget-view+json": {
       "model_id": "cf7ea32ec720409ab4b0ab69ce40cd02",
       "version_major": 2,
       "version_minor": 0
      },
      "text/plain": [
       "  0%|          | 0/6 [00:00<?, ?it/s]"
      ]
     },
     "metadata": {},
     "output_type": "display_data"
    },
    {
     "name": "stdout",
     "output_type": "stream",
     "text": [
      "101 [  1   2   4   5  10  20  25  50 100]\n"
     ]
    },
    {
     "data": {
      "application/vnd.jupyter.widget-view+json": {
       "model_id": "e7a08e8057644e7290dfe132b14818ea",
       "version_major": 2,
       "version_minor": 0
      },
      "text/plain": [
       "  0%|          | 0/9 [00:00<?, ?it/s]"
      ]
     },
     "metadata": {},
     "output_type": "display_data"
    },
    {
     "name": "stdout",
     "output_type": "stream",
     "text": [
      "201 [  1   2   4   5   8  10  20  25  40  50 100 200]\n"
     ]
    },
    {
     "data": {
      "application/vnd.jupyter.widget-view+json": {
       "model_id": "b4186b29be9243fcbb7b85b7da03f3b9",
       "version_major": 2,
       "version_minor": 0
      },
      "text/plain": [
       "  0%|          | 0/12 [00:00<?, ?it/s]"
      ]
     },
     "metadata": {},
     "output_type": "display_data"
    },
    {
     "name": "stdout",
     "output_type": "stream",
     "text": [
      "401 [  1   2   4   5   8  10  16  20  25  40  50  80 100 200 400]\n"
     ]
    },
    {
     "data": {
      "application/vnd.jupyter.widget-view+json": {
       "model_id": "5a0db01161f4480989f710d179a5b200",
       "version_major": 2,
       "version_minor": 0
      },
      "text/plain": [
       "  0%|          | 0/15 [00:00<?, ?it/s]"
      ]
     },
     "metadata": {},
     "output_type": "display_data"
    },
    {
     "name": "stdout",
     "output_type": "stream",
     "text": [
      "801 [  1   2   4   5   8  10  16  20  25  32  40  50  80 100 160 200 400 800]\n"
     ]
    },
    {
     "data": {
      "application/vnd.jupyter.widget-view+json": {
       "model_id": "156612a9d82045b8a3ef64c967952215",
       "version_major": 2,
       "version_minor": 0
      },
      "text/plain": [
       "  0%|          | 0/18 [00:00<?, ?it/s]"
      ]
     },
     "metadata": {},
     "output_type": "display_data"
    },
    {
     "name": "stdout",
     "output_type": "stream",
     "text": [
      "1601 [   1    2    4    5    8   10   16   20   25   32   40   50   64   80\n",
      "  100  160  200  320  400  800 1600]\n"
     ]
    },
    {
     "data": {
      "application/vnd.jupyter.widget-view+json": {
       "model_id": "ae0242aa99824fe68bdacf47ebff5d59",
       "version_major": 2,
       "version_minor": 0
      },
      "text/plain": [
       "  0%|          | 0/21 [00:00<?, ?it/s]"
      ]
     },
     "metadata": {},
     "output_type": "display_data"
    },
    {
     "name": "stdout",
     "output_type": "stream",
     "text": [
      "3201 [   1    2    4    5    8   10   16   20   25   32   40   50   64   80\n",
      "  100  128  160  200  320  400  640  800 1600 3200]\n"
     ]
    },
    {
     "data": {
      "application/vnd.jupyter.widget-view+json": {
       "model_id": "204ece0545214b9a9aac680670a9921f",
       "version_major": 2,
       "version_minor": 0
      },
      "text/plain": [
       "  0%|          | 0/24 [00:00<?, ?it/s]"
      ]
     },
     "metadata": {},
     "output_type": "display_data"
    },
    {
     "name": "stdout",
     "output_type": "stream",
     "text": [
      "<function griewank at 0x2b7d5700ae18>\n",
      "51 [ 1  2  5 10 25 50]\n"
     ]
    },
    {
     "data": {
      "application/vnd.jupyter.widget-view+json": {
       "model_id": "bafc6fbf32c34bb5baa7f4972a17d2ab",
       "version_major": 2,
       "version_minor": 0
      },
      "text/plain": [
       "  0%|          | 0/6 [00:00<?, ?it/s]"
      ]
     },
     "metadata": {},
     "output_type": "display_data"
    },
    {
     "name": "stdout",
     "output_type": "stream",
     "text": [
      "101 [  1   2   4   5  10  20  25  50 100]\n"
     ]
    },
    {
     "data": {
      "application/vnd.jupyter.widget-view+json": {
       "model_id": "d14ec518ea8a4d598e07acf98f2a1222",
       "version_major": 2,
       "version_minor": 0
      },
      "text/plain": [
       "  0%|          | 0/9 [00:00<?, ?it/s]"
      ]
     },
     "metadata": {},
     "output_type": "display_data"
    },
    {
     "name": "stdout",
     "output_type": "stream",
     "text": [
      "201 [  1   2   4   5   8  10  20  25  40  50 100 200]\n"
     ]
    },
    {
     "data": {
      "application/vnd.jupyter.widget-view+json": {
       "model_id": "e8062180e8ca4e3494e25b2b498b1db8",
       "version_major": 2,
       "version_minor": 0
      },
      "text/plain": [
       "  0%|          | 0/12 [00:00<?, ?it/s]"
      ]
     },
     "metadata": {},
     "output_type": "display_data"
    },
    {
     "name": "stdout",
     "output_type": "stream",
     "text": [
      "401 [  1   2   4   5   8  10  16  20  25  40  50  80 100 200 400]\n"
     ]
    },
    {
     "data": {
      "application/vnd.jupyter.widget-view+json": {
       "model_id": "e38626aec08e47939a816d27cfd66ac9",
       "version_major": 2,
       "version_minor": 0
      },
      "text/plain": [
       "  0%|          | 0/15 [00:00<?, ?it/s]"
      ]
     },
     "metadata": {},
     "output_type": "display_data"
    },
    {
     "name": "stdout",
     "output_type": "stream",
     "text": [
      "801 [  1   2   4   5   8  10  16  20  25  32  40  50  80 100 160 200 400 800]\n"
     ]
    },
    {
     "data": {
      "application/vnd.jupyter.widget-view+json": {
       "model_id": "7e91d0824b174f26a26ac14f019b6486",
       "version_major": 2,
       "version_minor": 0
      },
      "text/plain": [
       "  0%|          | 0/18 [00:00<?, ?it/s]"
      ]
     },
     "metadata": {},
     "output_type": "display_data"
    },
    {
     "name": "stdout",
     "output_type": "stream",
     "text": [
      "1601 [   1    2    4    5    8   10   16   20   25   32   40   50   64   80\n",
      "  100  160  200  320  400  800 1600]\n"
     ]
    },
    {
     "data": {
      "application/vnd.jupyter.widget-view+json": {
       "model_id": "eb191f98daac49debb583149467e5baf",
       "version_major": 2,
       "version_minor": 0
      },
      "text/plain": [
       "  0%|          | 0/21 [00:00<?, ?it/s]"
      ]
     },
     "metadata": {},
     "output_type": "display_data"
    },
    {
     "name": "stdout",
     "output_type": "stream",
     "text": [
      "3201 [   1    2    4    5    8   10   16   20   25   32   40   50   64   80\n",
      "  100  128  160  200  320  400  640  800 1600 3200]\n"
     ]
    },
    {
     "data": {
      "application/vnd.jupyter.widget-view+json": {
       "model_id": "df21d68667d1431098f5243114dc2c89",
       "version_major": 2,
       "version_minor": 0
      },
      "text/plain": [
       "  0%|          | 0/24 [00:00<?, ?it/s]"
      ]
     },
     "metadata": {},
     "output_type": "display_data"
    },
    {
     "name": "stdout",
     "output_type": "stream",
     "text": [
      "<function rosenbrock at 0x2b7d57029158>\n",
      "51 [ 1  2  5 10 25 50]\n"
     ]
    },
    {
     "data": {
      "application/vnd.jupyter.widget-view+json": {
       "model_id": "3ad29681a8e34a8d87245b38cfec5446",
       "version_major": 2,
       "version_minor": 0
      },
      "text/plain": [
       "  0%|          | 0/6 [00:00<?, ?it/s]"
      ]
     },
     "metadata": {},
     "output_type": "display_data"
    },
    {
     "name": "stdout",
     "output_type": "stream",
     "text": [
      "101 [  1   2   4   5  10  20  25  50 100]\n"
     ]
    },
    {
     "data": {
      "application/vnd.jupyter.widget-view+json": {
       "model_id": "10d7c36200c84133b829baa9ed84315a",
       "version_major": 2,
       "version_minor": 0
      },
      "text/plain": [
       "  0%|          | 0/9 [00:00<?, ?it/s]"
      ]
     },
     "metadata": {},
     "output_type": "display_data"
    },
    {
     "name": "stdout",
     "output_type": "stream",
     "text": [
      "201 [  1   2   4   5   8  10  20  25  40  50 100 200]\n"
     ]
    },
    {
     "data": {
      "application/vnd.jupyter.widget-view+json": {
       "model_id": "796c65669f9e403aa241d42b62336841",
       "version_major": 2,
       "version_minor": 0
      },
      "text/plain": [
       "  0%|          | 0/12 [00:00<?, ?it/s]"
      ]
     },
     "metadata": {},
     "output_type": "display_data"
    },
    {
     "name": "stdout",
     "output_type": "stream",
     "text": [
      "401 [  1   2   4   5   8  10  16  20  25  40  50  80 100 200 400]\n"
     ]
    },
    {
     "data": {
      "application/vnd.jupyter.widget-view+json": {
       "model_id": "155fb7a9c20b423fa0a3378f2f869cb4",
       "version_major": 2,
       "version_minor": 0
      },
      "text/plain": [
       "  0%|          | 0/15 [00:00<?, ?it/s]"
      ]
     },
     "metadata": {},
     "output_type": "display_data"
    },
    {
     "name": "stdout",
     "output_type": "stream",
     "text": [
      "801 [  1   2   4   5   8  10  16  20  25  32  40  50  80 100 160 200 400 800]\n"
     ]
    },
    {
     "data": {
      "application/vnd.jupyter.widget-view+json": {
       "model_id": "e625f589eb864e9d86f285b1d7013893",
       "version_major": 2,
       "version_minor": 0
      },
      "text/plain": [
       "  0%|          | 0/18 [00:00<?, ?it/s]"
      ]
     },
     "metadata": {},
     "output_type": "display_data"
    },
    {
     "name": "stdout",
     "output_type": "stream",
     "text": [
      "1601 [   1    2    4    5    8   10   16   20   25   32   40   50   64   80\n",
      "  100  160  200  320  400  800 1600]\n"
     ]
    },
    {
     "data": {
      "application/vnd.jupyter.widget-view+json": {
       "model_id": "1975e24528db49c7b6974c9aa2f1e783",
       "version_major": 2,
       "version_minor": 0
      },
      "text/plain": [
       "  0%|          | 0/21 [00:00<?, ?it/s]"
      ]
     },
     "metadata": {},
     "output_type": "display_data"
    },
    {
     "name": "stdout",
     "output_type": "stream",
     "text": [
      "3201 [   1    2    4    5    8   10   16   20   25   32   40   50   64   80\n",
      "  100  128  160  200  320  400  640  800 1600 3200]\n"
     ]
    },
    {
     "data": {
      "application/vnd.jupyter.widget-view+json": {
       "model_id": "2651b59ece354be6a1223184dd2805fe",
       "version_major": 2,
       "version_minor": 0
      },
      "text/plain": [
       "  0%|          | 0/24 [00:00<?, ?it/s]"
      ]
     },
     "metadata": {},
     "output_type": "display_data"
    },
    {
     "name": "stdout",
     "output_type": "stream",
     "text": [
      "<function sphere at 0x2b7d570290d0>\n",
      "51 [ 1  2  5 10 25 50]\n"
     ]
    },
    {
     "data": {
      "application/vnd.jupyter.widget-view+json": {
       "model_id": "eca675ca3da64e1497a3604b1b26ba3b",
       "version_major": 2,
       "version_minor": 0
      },
      "text/plain": [
       "  0%|          | 0/6 [00:00<?, ?it/s]"
      ]
     },
     "metadata": {},
     "output_type": "display_data"
    },
    {
     "name": "stdout",
     "output_type": "stream",
     "text": [
      "101 [  1   2   4   5  10  20  25  50 100]\n"
     ]
    },
    {
     "data": {
      "application/vnd.jupyter.widget-view+json": {
       "model_id": "4cef676f6d464149828d9e4920d82b88",
       "version_major": 2,
       "version_minor": 0
      },
      "text/plain": [
       "  0%|          | 0/9 [00:00<?, ?it/s]"
      ]
     },
     "metadata": {},
     "output_type": "display_data"
    },
    {
     "name": "stdout",
     "output_type": "stream",
     "text": [
      "201 [  1   2   4   5   8  10  20  25  40  50 100 200]\n"
     ]
    },
    {
     "data": {
      "application/vnd.jupyter.widget-view+json": {
       "model_id": "5b8154d5838a484b965ac5f46310e918",
       "version_major": 2,
       "version_minor": 0
      },
      "text/plain": [
       "  0%|          | 0/12 [00:00<?, ?it/s]"
      ]
     },
     "metadata": {},
     "output_type": "display_data"
    },
    {
     "name": "stdout",
     "output_type": "stream",
     "text": [
      "401 [  1   2   4   5   8  10  16  20  25  40  50  80 100 200 400]\n"
     ]
    },
    {
     "data": {
      "application/vnd.jupyter.widget-view+json": {
       "model_id": "ddb98b37371d4d00bad9f970a0578ad0",
       "version_major": 2,
       "version_minor": 0
      },
      "text/plain": [
       "  0%|          | 0/15 [00:00<?, ?it/s]"
      ]
     },
     "metadata": {},
     "output_type": "display_data"
    },
    {
     "name": "stdout",
     "output_type": "stream",
     "text": [
      "801 [  1   2   4   5   8  10  16  20  25  32  40  50  80 100 160 200 400 800]\n"
     ]
    },
    {
     "data": {
      "application/vnd.jupyter.widget-view+json": {
       "model_id": "2ec3ba488a024fce8447d82b1607fe40",
       "version_major": 2,
       "version_minor": 0
      },
      "text/plain": [
       "  0%|          | 0/18 [00:00<?, ?it/s]"
      ]
     },
     "metadata": {},
     "output_type": "display_data"
    },
    {
     "name": "stdout",
     "output_type": "stream",
     "text": [
      "1601 [   1    2    4    5    8   10   16   20   25   32   40   50   64   80\n",
      "  100  160  200  320  400  800 1600]\n"
     ]
    },
    {
     "data": {
      "application/vnd.jupyter.widget-view+json": {
       "model_id": "7d60f5ec56e94daaaa175f4e6c633471",
       "version_major": 2,
       "version_minor": 0
      },
      "text/plain": [
       "  0%|          | 0/21 [00:00<?, ?it/s]"
      ]
     },
     "metadata": {},
     "output_type": "display_data"
    },
    {
     "name": "stdout",
     "output_type": "stream",
     "text": [
      "3201 [   1    2    4    5    8   10   16   20   25   32   40   50   64   80\n",
      "  100  128  160  200  320  400  640  800 1600 3200]\n"
     ]
    },
    {
     "data": {
      "application/vnd.jupyter.widget-view+json": {
       "model_id": "5ae49a9f6db546d0842505884730b760",
       "version_major": 2,
       "version_minor": 0
      },
      "text/plain": [
       "  0%|          | 0/24 [00:00<?, ?it/s]"
      ]
     },
     "metadata": {},
     "output_type": "display_data"
    }
   ],
   "source": [
    "calc_factors = lambda x: np.array([i for i in range(1, x+1) if x%i==0])\n",
    "n_gen = 500\n",
    "n_seed = 10\n",
    "n_dim = 100\n",
    "\n",
    "\n",
    "# d = np.zeros((len(n_pops), len(optim_fns), len(n_dims), \n",
    "#                  len(init_pop_vars), n_seed, n_gen+1, 2))\n",
    "# d = xr.DataArray(d, dims=('algo', 'optim_fn', 'n_dim', \n",
    "#                                 'init_pop_var', 'seed', 'gen', 'fits_mrs'),\n",
    "#                     coords={'algo': algos, \n",
    "#                             'optim_fn': optim_fns,\n",
    "#                             'n_dim': n_dims,\n",
    "#                             'init_pop_var': init_pop_vars,\n",
    "#                             'seed': list(range(n_seed)),\n",
    "#                             'gen': list(range(n_gen+1)),\n",
    "#                             'fits_mrs': ['fits', 'mrs'],\n",
    "#                            })\n",
    "\n",
    "# n_pops = [51, 101, 201, 401, 601, 801, 1001]\n",
    "n_pops = [51, 101, 201, 401, 801, 1601, 3201]\n",
    "# n_pops = [51, 101, 201, 401, 801]\n",
    "# n_pops = [51, 71]\n",
    "# n_pops = [11, 15]\n",
    "\n",
    "optim_fns = [ackley, rastrigin, griewank, rosenbrock, sphere]\n",
    "\n",
    "n_pop2n_mutpops = {n_pop: calc_factors(n_pop-1) for n_pop in n_pops}\n",
    "\n",
    "n_pop2data = {}\n",
    "\n",
    "for optim_fn in optim_fns:\n",
    "    n_pop2data[optim_fn] = {}\n",
    "    print(optim_fn)\n",
    "    for n_pop in n_pops:\n",
    "        f = []\n",
    "        n_mutpops = n_pop2n_mutpops[n_pop]\n",
    "        print(n_pop, n_mutpops)\n",
    "        for n_mutpop in tqdm(n_mutpops):\n",
    "            for seed in range(n_seed):\n",
    "                do_seed(seed+100)\n",
    "                pop = torch.randn(n_pop, n_dim)*5\n",
    "                pops, fits, mrs, _ = optim.run_evolution_ours(pop, optim_fn, n_gen, n_mutpop)\n",
    "                f.append(fits)\n",
    "        f = torch.stack(f).reshape(len(n_mutpops), n_seed, n_gen+1, n_pop)\n",
    "        n_pop2data[optim_fn][n_pop] = f\n"
   ]
  },
  {
   "cell_type": "code",
   "execution_count": 42,
   "id": "differential-karma",
   "metadata": {
    "tags": []
   },
   "outputs": [],
   "source": [
    "torch.save((n_pops, n_pop2n_mutpops, n_pop2data), 'data/data_group_size.th')"
   ]
  },
  {
   "cell_type": "code",
   "execution_count": 18,
   "id": "forbidden-sociology",
   "metadata": {
    "tags": []
   },
   "outputs": [],
   "source": [
    "n_pops, n_pop2n_mutpops, n_pop2data = torch.load('data/data_group_size.th')"
   ]
  },
  {
   "cell_type": "code",
   "execution_count": 60,
   "id": "06408dbe-4719-49b5-a5da-92c9120ac904",
   "metadata": {},
   "outputs": [],
   "source": [
    "from paper_meta import *"
   ]
  },
  {
   "cell_type": "code",
   "execution_count": null,
   "id": "1956a000-3ee6-42ec-ab89-2ecee36cd6fe",
   "metadata": {},
   "outputs": [],
   "source": []
  },
  {
   "cell_type": "code",
   "execution_count": 96,
   "id": "0f5d8e80-b601-4023-a3b1-6aba7cc79c42",
   "metadata": {},
   "outputs": [],
   "source": [
    "import matplotlib as mpl\n",
    "import matplotlib.cm as cm\n",
    "\n",
    "norm = mpl.colors.Normalize(vmin=np.log10(np.min(n_pops)), vmax=np.log10(np.max(n_pops)))\n",
    "cmap = cm.cool\n",
    "\n",
    "m = cm.ScalarMappable(norm=norm, cmap=cmap)\n"
   ]
  },
  {
   "cell_type": "code",
   "execution_count": 107,
   "id": "68817edb-9a14-40b2-a95c-f52c6657b32d",
   "metadata": {},
   "outputs": [
    {
     "data": {
      "image/png": "[encoded data removed]",
      "text/plain": [
       "<Figure size 864x576 with 5 Axes>"
      ]
     },
     "metadata": {
      "needs_background": "light"
     },
     "output_type": "display_data"
    }
   ],
   "source": [
    "fig, axs = plt.subplots(2, 2, figsize=(12, 8))\n",
    "ax = fig.add_subplot(111)\n",
    "viz.empty_ax(ax)\n",
    "for i, optim_fn in enumerate([ackley, griewank, rosenbrock, sphere]):\n",
    "    plt.sca(axs.flatten()[i])\n",
    "    for n_pop in n_pops:\n",
    "        data = n_pop2data[optim_fn][n_pop]\n",
    "        n_mutpops = n_pop2n_mutpops[n_pop]\n",
    "\n",
    "        a = data.min(dim=-1).values[..., -1].T\n",
    "        x = np.exp(np.log(n_mutpops)/np.log(np.max(n_mutpops)))\n",
    "        plt.plot(x, a.mean(dim=0).numpy(), label=f'N={n_pop}', c=m.to_rgba(np.log10(n_pop)))\n",
    "        \n",
    "    ticks = np.e**np.linspace(0, 1, 5)\n",
    "    plt.xscale('log')\n",
    "    plt.gca().set_xticks(ticks)\n",
    "    plt.gca().set_xticklabels(['$1$', '$N^{1/4}$', '$\\sqrt{N}$', '$N^{3/4}$', '$N$'])\n",
    "    \n",
    "    plt.gca().tick_params(axis='both', which='major', labelsize=15)\n",
    "#     plt.gca().tick_params(axis='both', which='minor', labelsize=0)\n",
    "    plt.minorticks_off()\n",
    "    \n",
    "    plt.title(optim_fn2label[optim_fn]+f' {n_dim}-D', fontsize=20)\n",
    "#     plt.legend()\n",
    "    plt.yscale('log')\n",
    "    handles, labels = plt.gca().get_legend_handles_labels()\n",
    "\n",
    "    \n",
    "plt.sca(ax)\n",
    "ax.legend(handles, labels, bbox_to_anchor=(.95, 1.4), fontsize=20, ncol=4)\n",
    "plt.xlabel('Number of groups, $K$', fontsize=30, labelpad=20)\n",
    "plt.ylabel('Final Elite Function Value', fontsize=30, labelpad=30)\n",
    "\n",
    "    \n",
    "plt.tight_layout()\n",
    "plt.savefig('results/group_size.png', dpi=300, bbox_inches='tight')\n",
    "\n",
    "plt.show()"
   ]
  },
  {
   "cell_type": "code",
   "execution_count": null,
   "id": "27bc874a-a2dd-42d1-94cd-5cf51294707d",
   "metadata": {},
   "outputs": [],
   "source": []
  },
  {
   "cell_type": "code",
   "execution_count": null,
   "id": "62b86e62-37f8-406a-823e-ed1131a2589b",
   "metadata": {},
   "outputs": [],
   "source": []
  },
  {
   "cell_type": "code",
   "execution_count": null,
   "id": "31b76f7d-2641-4b80-8d15-4f4a179abf16",
   "metadata": {},
   "outputs": [],
   "source": []
  },
  {
   "cell_type": "code",
   "execution_count": 59,
   "id": "7a29c47d-adfc-4624-836a-0ad62d0434bd",
   "metadata": {},
   "outputs": [
    {
     "data": {
      "text/plain": [
       "[<matplotlib.lines.Line2D at 0x2b7d7de8feb8>]"
      ]
     },
     "execution_count": 59,
     "metadata": {},
     "output_type": "execute_result"
    },
    {
     "data": {
      "image/png": "[encoded data removed]",
      "text/plain": [
       "<Figure size 432x288 with 1 Axes>"
      ]
     },
     "metadata": {
      "needs_background": "light"
     },
     "output_type": "display_data"
    }
   ],
   "source": [
    "pop = torch.randn(17, 100)\n",
    "_, fits, _, _ = optim.run_evolution_ours(pop, ackley, 500, n_mutpop=4)\n",
    "plt.plot(fits.min(dim=-1).values)\n",
    "pop = torch.randn(1601, 100)\n",
    "_, fits, _, _ = optim.run_evolution_ours(pop, ackley, 500, n_mutpop=40)\n",
    "plt.plot(fits.min(dim=-1).values)"
   ]
  },
  {
   "cell_type": "code",
   "execution_count": 57,
   "id": "f69569d7-053c-4b7d-a742-94b7f57941a9",
   "metadata": {},
   "outputs": [
    {
     "data": {
      "text/plain": [
       "[<matplotlib.lines.Line2D at 0x2b7d7c37c668>]"
      ]
     },
     "execution_count": 57,
     "metadata": {},
     "output_type": "execute_result"
    },
    {
     "data": {
      "image/png": "[encoded data removed]",
      "text/plain": [
       "<Figure size 432x288 with 1 Axes>"
      ]
     },
     "metadata": {
      "needs_background": "light"
     },
     "output_type": "display_data"
    }
   ],
   "source": [
    "pop = torch.randn(65, 100)\n",
    "_, fits, _ = optim.run_evolution_ns(pop, sphere, 500)\n",
    "plt.plot(fits.min(dim=-1).values)\n",
    "pop = torch.randn(1601, 100)\n",
    "_, fits, _ = optim.run_evolution_ns(pop, sphere, 500)\n",
    "plt.plot(fits.min(dim=-1).values)"
   ]
  },
  {
   "cell_type": "code",
   "execution_count": null,
   "id": "32116ca5-6458-4608-9656-39b1e247b167",
   "metadata": {},
   "outputs": [],
   "source": []
  },
  {
   "cell_type": "code",
   "execution_count": null,
   "id": "c717a600-fd98-48f2-8957-5ef0eba5d398",
   "metadata": {},
   "outputs": [],
   "source": []
  }
 ],
 "metadata": {
  "kernelspec": {
   "display_name": "Python 3",
   "language": "python",
   "name": "python3"
  },
  "language_info": {
   "codemirror_mode": {
    "name": "ipython",
    "version": 3
   },
   "file_extension": ".py",
   "mimetype": "text/x-python",
   "name": "python",
   "nbconvert_exporter": "python",
   "pygments_lexer": "ipython3",
   "version": "3.6.6"
  }
 },
 "nbformat": 4,
 "nbformat_minor": 5
}
