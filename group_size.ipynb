{
 "cells": [
  {
   "cell_type": "code",
   "execution_count": 1,
   "id": "dried-teaching",
   "metadata": {},
   "outputs": [],
   "source": [
    "%load_ext autoreload\n",
    "%autoreload 2"
   ]
  },
  {
   "cell_type": "code",
   "execution_count": 2,
   "id": "italian-spyware",
   "metadata": {},
   "outputs": [],
   "source": [
    "%run imports.py"
   ]
  },
  {
   "cell_type": "code",
   "execution_count": 3,
   "id": "incorporated-correspondence",
   "metadata": {},
   "outputs": [],
   "source": [
    "from tqdm.notebook import tqdm"
   ]
  },
  {
   "cell_type": "markdown",
   "id": "discrete-leisure",
   "metadata": {},
   "source": [
    "# Group size analysis"
   ]
  },
  {
   "cell_type": "code",
   "execution_count": 10,
   "id": "lasting-malpractice",
   "metadata": {},
   "outputs": [
    {
     "name": "stdout",
     "output_type": "stream",
     "text": [
      "51 [ 1  2  5 10 25 50]\n"
     ]
    },
    {
     "data": {
      "application/vnd.jupyter.widget-view+json": {
       "model_id": "ebf4466e9e1f4ad487b786de4766b987",
       "version_major": 2,
       "version_minor": 0
      },
      "text/plain": [
       "  0%|          | 0/6 [00:00<?, ?it/s]"
      ]
     },
     "metadata": {},
     "output_type": "display_data"
    },
    {
     "name": "stdout",
     "output_type": "stream",
     "text": [
      "101 [  1   2   4   5  10  20  25  50 100]\n"
     ]
    },
    {
     "data": {
      "application/vnd.jupyter.widget-view+json": {
       "model_id": "2433d5adec4f4a1e96bf7f8f6e5aa962",
       "version_major": 2,
       "version_minor": 0
      },
      "text/plain": [
       "  0%|          | 0/9 [00:00<?, ?it/s]"
      ]
     },
     "metadata": {},
     "output_type": "display_data"
    },
    {
     "name": "stdout",
     "output_type": "stream",
     "text": [
      "201 [  1   2   4   5   8  10  20  25  40  50 100 200]\n"
     ]
    },
    {
     "data": {
      "application/vnd.jupyter.widget-view+json": {
       "model_id": "972d9aa113764921a714b185bc357680",
       "version_major": 2,
       "version_minor": 0
      },
      "text/plain": [
       "  0%|          | 0/12 [00:00<?, ?it/s]"
      ]
     },
     "metadata": {},
     "output_type": "display_data"
    },
    {
     "name": "stdout",
     "output_type": "stream",
     "text": [
      "401 [  1   2   4   5   8  10  16  20  25  40  50  80 100 200 400]\n"
     ]
    },
    {
     "data": {
      "application/vnd.jupyter.widget-view+json": {
       "model_id": "00176de53f164ed791a50c90ad7f5e1a",
       "version_major": 2,
       "version_minor": 0
      },
      "text/plain": [
       "  0%|          | 0/15 [00:00<?, ?it/s]"
      ]
     },
     "metadata": {},
     "output_type": "display_data"
    },
    {
     "name": "stdout",
     "output_type": "stream",
     "text": [
      "801 [  1   2   4   5   8  10  16  20  25  32  40  50  80 100 160 200 400 800]\n"
     ]
    },
    {
     "data": {
      "application/vnd.jupyter.widget-view+json": {
       "model_id": "14e52d09a4af4f4880e3f13f49ac3b04",
       "version_major": 2,
       "version_minor": 0
      },
      "text/plain": [
       "  0%|          | 0/18 [00:00<?, ?it/s]"
      ]
     },
     "metadata": {},
     "output_type": "display_data"
    }
   ],
   "source": [
    "calc_factors = lambda x: np.array([i for i in range(1, x+1) if x%i==0])\n",
    "optim_fn = griewank\n",
    "n_gen = 500\n",
    "n_seed = 2\n",
    "n_dim = 100\n",
    "\n",
    "\n",
    "# d = np.zeros((len(n_pops), len(optim_fns), len(n_dims), \n",
    "#                  len(init_pop_vars), n_seed, n_gen+1, 2))\n",
    "# d = xr.DataArray(d, dims=('algo', 'optim_fn', 'n_dim', \n",
    "#                                 'init_pop_var', 'seed', 'gen', 'fits_mrs'),\n",
    "#                     coords={'algo': algos, \n",
    "#                             'optim_fn': optim_fns,\n",
    "#                             'n_dim': n_dims,\n",
    "#                             'init_pop_var': init_pop_vars,\n",
    "#                             'seed': list(range(n_seed)),\n",
    "#                             'gen': list(range(n_gen+1)),\n",
    "#                             'fits_mrs': ['fits', 'mrs'],\n",
    "#                            })\n",
    "\n",
    "# n_pops = [51, 101, 201, 401, 601, 801, 1001]\n",
    "# n_pops = [51, 101, 201, 401, 801, 1601, 3201]\n",
    "n_pops = [51, 101, 201, 401, 801]\n",
    "# n_pops = [11, 15]\n",
    "\n",
    "n_pop2n_mutpops = {n_pop: calc_factors(n_pop-1) for n_pop in n_pops}\n",
    "\n",
    "n_pop2data = {}\n",
    "for n_pop in n_pops:\n",
    "    f = []\n",
    "    n_mutpops = n_pop2n_mutpops[n_pop]\n",
    "    print(n_pop, n_mutpops)\n",
    "    for n_mutpop in tqdm(n_mutpops):\n",
    "        for seed in range(n_seed):\n",
    "            do_seed(seed+100)\n",
    "            pop = torch.randn(n_pop, n_dim)*5\n",
    "            pops, fits, mrs, _ = optim.run_evolution_ours(pop, optim_fn, n_gen, n_mutpop)\n",
    "            f.append(fits)\n",
    "    f = torch.stack(f).reshape(len(n_mutpops), n_seed, n_gen+1, n_pop)\n",
    "    n_pop2data[n_pop] = f\n"
   ]
  },
  {
   "cell_type": "code",
   "execution_count": 59,
   "id": "differential-karma",
   "metadata": {
    "tags": []
   },
   "outputs": [],
   "source": [
    "torch.save((n_pops, n_pop2n_mutpops, n_pop2data), 'results/data_group_size.th')"
   ]
  },
  {
   "cell_type": "code",
   "execution_count": 61,
   "id": "forbidden-sociology",
   "metadata": {},
   "outputs": [],
   "source": [
    "n_pops, n_pop2n_mutpops, n_pop2data = torch.load('results/data_group_size.th')"
   ]
  },
  {
   "cell_type": "code",
   "execution_count": 11,
   "id": "useful-country",
   "metadata": {},
   "outputs": [
    {
     "data": {
      "image/png": "[encoded data removed]",
      "text/plain": [
       "<Figure size 432x288 with 1 Axes>"
      ]
     },
     "metadata": {
      "needs_background": "light"
     },
     "output_type": "display_data"
    }
   ],
   "source": [
    "# plt.figure(figsize=(10, 5))\n",
    "for n_pop in n_pops:\n",
    "    data = n_pop2data[n_pop]\n",
    "    n_mutpops = n_pop2n_mutpops[n_pop]\n",
    "    \n",
    "    a = data.min(dim=-1).values[..., -1].T\n",
    "    x = np.exp(np.log(n_mutpops)/np.log(np.max(n_mutpops)))\n",
    "    plt.plot(x, a.mean(dim=0).numpy(), label=f'N={n_pop}')\n",
    "    ticks = np.e**np.linspace(0, 1, 5)\n",
    "    plt.xscale('log')\n",
    "    plt.gca().set_xticks(ticks)\n",
    "    plt.gca().set_xticklabels(['$1$', '$N^{1/4}$', '$\\sqrt{N}$', '$N^{3/4}$', '$N$'])\n",
    "    plt.minorticks_off()\n",
    "    plt.xlabel('Number of groups')\n",
    "    plt.ylabel('Evolution Final Function Value')\n",
    "    plt.legend()\n",
    "plt.yscale('log')\n",
    "# plt.savefig('results/group_size.png', dpi=300)\n",
    "\n",
    "plt.show()"
   ]
  },
  {
   "cell_type": "code",
   "execution_count": null,
   "id": "cardiovascular-closure",
   "metadata": {},
   "outputs": [],
   "source": []
  }
 ],
 "metadata": {
  "kernelspec": {
   "display_name": "Python 3",
   "language": "python",
   "name": "python3"
  },
  "language_info": {
   "codemirror_mode": {
    "name": "ipython",
    "version": 3
   },
   "file_extension": ".py",
   "mimetype": "text/x-python",
   "name": "python",
   "nbconvert_exporter": "python",
   "pygments_lexer": "ipython3",
   "version": "3.8.2"
  }
 },
 "nbformat": 4,
 "nbformat_minor": 5
}
