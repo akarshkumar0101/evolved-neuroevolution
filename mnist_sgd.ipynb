{
 "cells": [
  {
   "cell_type": "code",
   "execution_count": 1,
   "metadata": {},
   "outputs": [],
   "source": [
    "%load_ext autoreload\n",
    "%autoreload 2"
   ]
  },
  {
   "cell_type": "code",
   "execution_count": 2,
   "metadata": {},
   "outputs": [],
   "source": [
    "%run imports.py"
   ]
  },
  {
   "cell_type": "code",
   "execution_count": 3,
   "metadata": {},
   "outputs": [],
   "source": [
    "# import tempfile\n",
    "# tb_log_dir = tempfile.mkdtemp()\n",
    "# user = os.getlogin()\n",
    "# tb_log_dir = f'/tmp/tensorboard/{user}'\n",
    "# print(tb_log_dir)\n"
   ]
  },
  {
   "cell_type": "code",
   "execution_count": 4,
   "metadata": {},
   "outputs": [],
   "source": [
    "# if os.path.exists(tb_log_dir):\n",
    "#     shutil.rmtree(tb_log_dir)"
   ]
  },
  {
   "cell_type": "code",
   "execution_count": 5,
   "metadata": {},
   "outputs": [],
   "source": [
    "# logger = tb.SummaryWriter(tb_log_dir)"
   ]
  },
  {
   "cell_type": "code",
   "execution_count": 6,
   "metadata": {},
   "outputs": [],
   "source": [
    "task = mnist.MNIST()\n",
    "task.load_all_data(device)"
   ]
  },
  {
   "cell_type": "code",
   "execution_count": 12,
   "metadata": {},
   "outputs": [
    {
     "data": {
      "text/plain": [
       "============================================================================================================================================\n",
       "Layer (type:depth-idx)                   Input Shape               Output Shape              Param #                   Kernel Shape\n",
       "============================================================================================================================================\n",
       "ConvNet                                  --                        --                        --                        --\n",
       "├─Conv2d: 1-1                            [1000, 1, 28, 28]         [1000, 2, 26, 26]         20                        [1, 2, 3, 3]\n",
       "├─Conv2d: 1-2                            [1000, 2, 13, 13]         [1000, 5, 11, 11]         95                        [2, 5, 3, 3]\n",
       "├─Conv2d: 1-3                            [1000, 5, 5, 5]           [1000, 10, 3, 3]          460                       [5, 10, 3, 3]\n",
       "├─Linear: 1-4                            [1000, 10]                [1000, 10]                110                       [10, 10]\n",
       "============================================================================================================================================\n",
       "Total params: 685\n",
       "Trainable params: 685\n",
       "Non-trainable params: 0\n",
       "Total mult-adds (M): 27.21\n",
       "============================================================================================================================================\n",
       "Input size (MB): 3.14\n",
       "Forward/backward pass size (MB): 16.46\n",
       "Params size (MB): 0.00\n",
       "Estimated Total Size (MB): 19.59\n",
       "============================================================================================================================================"
      ]
     },
     "execution_count": 12,
     "metadata": {},
     "output_type": "execute_result"
    }
   ],
   "source": [
    "torch.manual_seed(10)\n",
    "model = models_pheno.ConvNet\n",
    "net = model().to(device)\n",
    "summary_kwargs = {'input_size': (task.bs_train, 1, 28, 28), \n",
    "                  'col_names': [\"input_size\", \"output_size\", \"num_params\", \"kernel_size\"]}\n",
    "summary(net, **summary_kwargs)"
   ]
  },
  {
   "cell_type": "code",
   "execution_count": 13,
   "metadata": {},
   "outputs": [
    {
     "data": {
      "application/vnd.jupyter.widget-view+json": {
       "model_id": "",
       "version_major": 2,
       "version_minor": 0
      },
      "text/plain": [
       "HBox(children=(FloatProgress(value=0.0, max=4.0), HTML(value='')))"
      ]
     },
     "metadata": {},
     "output_type": "display_data"
    },
    {
     "name": "stdout",
     "output_type": "stream",
     "text": [
      "Average Loss: 2.321, Accuracy: 7.670%\n"
     ]
    }
   ],
   "source": [
    "task.perform_stats(net, tqdm=tqdm, device=device);"
   ]
  },
  {
   "cell_type": "code",
   "execution_count": 14,
   "metadata": {},
   "outputs": [],
   "source": [
    "# opt = torch.optim.SGD(net.parameters(), lr=1e-1)\n",
    "opt = torch.optim.Adam(net.parameters(), lr=1e-2)"
   ]
  },
  {
   "cell_type": "code",
   "execution_count": 15,
   "metadata": {},
   "outputs": [
    {
     "data": {
      "application/vnd.jupyter.widget-view+json": {
       "model_id": "887c6e45ff7749e38a9b9308f7cee990",
       "version_major": 2,
       "version_minor": 0
      },
      "text/plain": [
       "HBox(children=(FloatProgress(value=0.0, max=10.0), HTML(value='')))"
      ]
     },
     "metadata": {},
     "output_type": "display_data"
    },
    {
     "data": {
      "application/vnd.jupyter.widget-view+json": {
       "model_id": "",
       "version_major": 2,
       "version_minor": 0
      },
      "text/plain": [
       "HBox(children=(FloatProgress(value=0.0, max=60.0), HTML(value='')))"
      ]
     },
     "metadata": {},
     "output_type": "display_data"
    },
    {
     "data": {
      "application/vnd.jupyter.widget-view+json": {
       "model_id": "",
       "version_major": 2,
       "version_minor": 0
      },
      "text/plain": [
       "HBox(children=(FloatProgress(value=0.0, max=4.0), HTML(value='')))"
      ]
     },
     "metadata": {},
     "output_type": "display_data"
    },
    {
     "name": "stdout",
     "output_type": "stream",
     "text": [
      "Average Loss: 0.643, Accuracy: 80.920%\n"
     ]
    },
    {
     "data": {
      "application/vnd.jupyter.widget-view+json": {
       "model_id": "",
       "version_major": 2,
       "version_minor": 0
      },
      "text/plain": [
       "HBox(children=(FloatProgress(value=0.0, max=60.0), HTML(value='')))"
      ]
     },
     "metadata": {},
     "output_type": "display_data"
    },
    {
     "data": {
      "application/vnd.jupyter.widget-view+json": {
       "model_id": "",
       "version_major": 2,
       "version_minor": 0
      },
      "text/plain": [
       "HBox(children=(FloatProgress(value=0.0, max=4.0), HTML(value='')))"
      ]
     },
     "metadata": {},
     "output_type": "display_data"
    },
    {
     "name": "stdout",
     "output_type": "stream",
     "text": [
      "Average Loss: 0.440, Accuracy: 87.010%\n"
     ]
    },
    {
     "data": {
      "application/vnd.jupyter.widget-view+json": {
       "model_id": "",
       "version_major": 2,
       "version_minor": 0
      },
      "text/plain": [
       "HBox(children=(FloatProgress(value=0.0, max=60.0), HTML(value='')))"
      ]
     },
     "metadata": {},
     "output_type": "display_data"
    },
    {
     "data": {
      "application/vnd.jupyter.widget-view+json": {
       "model_id": "",
       "version_major": 2,
       "version_minor": 0
      },
      "text/plain": [
       "HBox(children=(FloatProgress(value=0.0, max=4.0), HTML(value='')))"
      ]
     },
     "metadata": {},
     "output_type": "display_data"
    },
    {
     "name": "stdout",
     "output_type": "stream",
     "text": [
      "Average Loss: 0.384, Accuracy: 88.530%\n"
     ]
    },
    {
     "data": {
      "application/vnd.jupyter.widget-view+json": {
       "model_id": "",
       "version_major": 2,
       "version_minor": 0
      },
      "text/plain": [
       "HBox(children=(FloatProgress(value=0.0, max=60.0), HTML(value='')))"
      ]
     },
     "metadata": {},
     "output_type": "display_data"
    },
    {
     "data": {
      "application/vnd.jupyter.widget-view+json": {
       "model_id": "",
       "version_major": 2,
       "version_minor": 0
      },
      "text/plain": [
       "HBox(children=(FloatProgress(value=0.0, max=4.0), HTML(value='')))"
      ]
     },
     "metadata": {},
     "output_type": "display_data"
    },
    {
     "name": "stdout",
     "output_type": "stream",
     "text": [
      "Average Loss: 0.347, Accuracy: 89.310%\n"
     ]
    },
    {
     "data": {
      "application/vnd.jupyter.widget-view+json": {
       "model_id": "",
       "version_major": 2,
       "version_minor": 0
      },
      "text/plain": [
       "HBox(children=(FloatProgress(value=0.0, max=60.0), HTML(value='')))"
      ]
     },
     "metadata": {},
     "output_type": "display_data"
    },
    {
     "data": {
      "application/vnd.jupyter.widget-view+json": {
       "model_id": "",
       "version_major": 2,
       "version_minor": 0
      },
      "text/plain": [
       "HBox(children=(FloatProgress(value=0.0, max=4.0), HTML(value='')))"
      ]
     },
     "metadata": {},
     "output_type": "display_data"
    },
    {
     "name": "stdout",
     "output_type": "stream",
     "text": [
      "Average Loss: 0.344, Accuracy: 90.080%\n"
     ]
    },
    {
     "data": {
      "application/vnd.jupyter.widget-view+json": {
       "model_id": "",
       "version_major": 2,
       "version_minor": 0
      },
      "text/plain": [
       "HBox(children=(FloatProgress(value=0.0, max=60.0), HTML(value='')))"
      ]
     },
     "metadata": {},
     "output_type": "display_data"
    },
    {
     "data": {
      "application/vnd.jupyter.widget-view+json": {
       "model_id": "",
       "version_major": 2,
       "version_minor": 0
      },
      "text/plain": [
       "HBox(children=(FloatProgress(value=0.0, max=4.0), HTML(value='')))"
      ]
     },
     "metadata": {},
     "output_type": "display_data"
    },
    {
     "name": "stdout",
     "output_type": "stream",
     "text": [
      "Average Loss: 0.318, Accuracy: 90.390%\n"
     ]
    },
    {
     "data": {
      "application/vnd.jupyter.widget-view+json": {
       "model_id": "",
       "version_major": 2,
       "version_minor": 0
      },
      "text/plain": [
       "HBox(children=(FloatProgress(value=0.0, max=60.0), HTML(value='')))"
      ]
     },
     "metadata": {},
     "output_type": "display_data"
    },
    {
     "data": {
      "application/vnd.jupyter.widget-view+json": {
       "model_id": "",
       "version_major": 2,
       "version_minor": 0
      },
      "text/plain": [
       "HBox(children=(FloatProgress(value=0.0, max=4.0), HTML(value='')))"
      ]
     },
     "metadata": {},
     "output_type": "display_data"
    },
    {
     "name": "stdout",
     "output_type": "stream",
     "text": [
      "Average Loss: 0.291, Accuracy: 91.480%\n"
     ]
    },
    {
     "data": {
      "application/vnd.jupyter.widget-view+json": {
       "model_id": "",
       "version_major": 2,
       "version_minor": 0
      },
      "text/plain": [
       "HBox(children=(FloatProgress(value=0.0, max=60.0), HTML(value='')))"
      ]
     },
     "metadata": {},
     "output_type": "display_data"
    },
    {
     "data": {
      "application/vnd.jupyter.widget-view+json": {
       "model_id": "",
       "version_major": 2,
       "version_minor": 0
      },
      "text/plain": [
       "HBox(children=(FloatProgress(value=0.0, max=4.0), HTML(value='')))"
      ]
     },
     "metadata": {},
     "output_type": "display_data"
    },
    {
     "name": "stdout",
     "output_type": "stream",
     "text": [
      "Average Loss: 0.291, Accuracy: 91.430%\n"
     ]
    },
    {
     "data": {
      "application/vnd.jupyter.widget-view+json": {
       "model_id": "",
       "version_major": 2,
       "version_minor": 0
      },
      "text/plain": [
       "HBox(children=(FloatProgress(value=0.0, max=60.0), HTML(value='')))"
      ]
     },
     "metadata": {},
     "output_type": "display_data"
    },
    {
     "data": {
      "application/vnd.jupyter.widget-view+json": {
       "model_id": "",
       "version_major": 2,
       "version_minor": 0
      },
      "text/plain": [
       "HBox(children=(FloatProgress(value=0.0, max=4.0), HTML(value='')))"
      ]
     },
     "metadata": {},
     "output_type": "display_data"
    },
    {
     "name": "stdout",
     "output_type": "stream",
     "text": [
      "Average Loss: 0.271, Accuracy: 92.000%\n"
     ]
    },
    {
     "data": {
      "application/vnd.jupyter.widget-view+json": {
       "model_id": "",
       "version_major": 2,
       "version_minor": 0
      },
      "text/plain": [
       "HBox(children=(FloatProgress(value=0.0, max=60.0), HTML(value='')))"
      ]
     },
     "metadata": {},
     "output_type": "display_data"
    },
    {
     "data": {
      "application/vnd.jupyter.widget-view+json": {
       "model_id": "",
       "version_major": 2,
       "version_minor": 0
      },
      "text/plain": [
       "HBox(children=(FloatProgress(value=0.0, max=4.0), HTML(value='')))"
      ]
     },
     "metadata": {},
     "output_type": "display_data"
    },
    {
     "name": "stdout",
     "output_type": "stream",
     "text": [
      "Average Loss: 0.263, Accuracy: 92.350%\n",
      "\n"
     ]
    }
   ],
   "source": [
    "for epoch in tqdm(range(10)):\n",
    "    for batch_idx, (X_batch, Y_batch) in tqdm(enumerate(task.loader_train), \n",
    "                                              leave=False, total=len(task.loader_train)):\n",
    "        X_batch, Y_batch = X_batch.to(device), Y_batch.to(device)\n",
    "        Y_batch_pred = net(X_batch)\n",
    "        loss = task.loss_func(Y_batch_pred, Y_batch)\n",
    "        opt.zero_grad()\n",
    "        loss.backward()\n",
    "        opt.step()\n",
    "    task.perform_stats(net, tqdm=tqdm, device=device)\n",
    "    \n",
    "    "
   ]
  },
  {
   "cell_type": "code",
   "execution_count": 16,
   "metadata": {},
   "outputs": [
    {
     "data": {
      "application/vnd.jupyter.widget-view+json": {
       "model_id": "",
       "version_major": 2,
       "version_minor": 0
      },
      "text/plain": [
       "HBox(children=(FloatProgress(value=0.0, max=60.0), HTML(value='')))"
      ]
     },
     "metadata": {},
     "output_type": "display_data"
    },
    {
     "name": "stdout",
     "output_type": "stream",
     "text": [
      "Average Loss: 0.284, Accuracy: 91.678%\n"
     ]
    },
    {
     "data": {
      "application/vnd.jupyter.widget-view+json": {
       "model_id": "",
       "version_major": 2,
       "version_minor": 0
      },
      "text/plain": [
       "HBox(children=(FloatProgress(value=0.0, max=4.0), HTML(value='')))"
      ]
     },
     "metadata": {},
     "output_type": "display_data"
    },
    {
     "name": "stdout",
     "output_type": "stream",
     "text": [
      "Average Loss: 0.263, Accuracy: 92.350%\n"
     ]
    },
    {
     "data": {
      "text/plain": [
       "{'loss': 0.2626867488026619, 'accuracy': 92.35}"
      ]
     },
     "execution_count": 16,
     "metadata": {},
     "output_type": "execute_result"
    }
   ],
   "source": [
    "task.perform_stats(net, loader=task.loader_train, tqdm=tqdm, device=device)\n",
    "task.perform_stats(net, tqdm=tqdm, device=device)"
   ]
  },
  {
   "cell_type": "code",
   "execution_count": 17,
   "metadata": {},
   "outputs": [
    {
     "ename": "TypeError",
     "evalue": "calc_pheo_fitness() got an unexpected keyword argument 'n_sample'",
     "output_type": "error",
     "traceback": [
      "\u001b[0;31m---------------------------------------------------------------------------\u001b[0m",
      "\u001b[0;31mTypeError\u001b[0m                                 Traceback (most recent call last)",
      "\u001b[0;32m<ipython-input-17-d07dd31ed5fc>\u001b[0m in \u001b[0;36m<module>\u001b[0;34m\u001b[0m\n\u001b[0;32m----> 1\u001b[0;31m \u001b[0mfitdata\u001b[0m \u001b[0;34m=\u001b[0m \u001b[0mtask\u001b[0m\u001b[0;34m.\u001b[0m\u001b[0mcalc_pheo_fitness\u001b[0m\u001b[0;34m(\u001b[0m\u001b[0mnet\u001b[0m\u001b[0;34m,\u001b[0m \u001b[0mn_sample\u001b[0m\u001b[0;34m=\u001b[0m\u001b[0;36m40000\u001b[0m\u001b[0;34m,\u001b[0m \u001b[0mdevice\u001b[0m\u001b[0;34m=\u001b[0m\u001b[0mdevice\u001b[0m\u001b[0;34m)\u001b[0m\u001b[0;34m\u001b[0m\u001b[0;34m\u001b[0m\u001b[0m\n\u001b[0m",
      "\u001b[0;31mTypeError\u001b[0m: calc_pheo_fitness() got an unexpected keyword argument 'n_sample'"
     ]
    }
   ],
   "source": [
    "fitdata = task.calc_pheo_fitness(net, n_sample=40000, device=device)"
   ]
  },
  {
   "cell_type": "code",
   "execution_count": null,
   "metadata": {},
   "outputs": [],
   "source": []
  },
  {
   "cell_type": "code",
   "execution_count": 40,
   "metadata": {},
   "outputs": [],
   "source": [
    "import util\n",
    "try:\n",
    "    data = torch.load('./data/mnist_sgd_eval')\n",
    "    weights = torch.load('./data/mnist_sgd_weights')\n",
    "except:\n",
    "    data = {}\n",
    "    weights = {}\n",
    "data.update({model: fitdata})\n",
    "weights.update({model: util.model2vec(net)})\n",
    "torch.save(data, './data/mnist_sgd_eval')\n",
    "torch.save(weights, './data/mnist_sgd_weights')"
   ]
  },
  {
   "cell_type": "code",
   "execution_count": 45,
   "metadata": {},
   "outputs": [
    {
     "name": "stdout",
     "output_type": "stream",
     "text": [
      "BigConvNet :  {'fitness': -0.10598196089267731, 'loss': 0.10598196089267731, 'accuracy': 96.65}\n",
      "SmallNet :  {'fitness': -0.6912355422973633, 'loss': 0.6912355422973633, 'accuracy': 78.32249999999999}\n",
      "ConvNet :  {'fitness': -0.28138837218284607, 'loss': 0.28138837218284607, 'accuracy': 91.6425}\n"
     ]
    }
   ],
   "source": [
    "for key, val in data.items():\n",
    "    print(key.__name__, ': ', val)"
   ]
  },
  {
   "cell_type": "code",
   "execution_count": null,
   "metadata": {},
   "outputs": [],
   "source": []
  },
  {
   "cell_type": "code",
   "execution_count": null,
   "metadata": {},
   "outputs": [],
   "source": []
  },
  {
   "cell_type": "markdown",
   "metadata": {},
   "source": [
    "# Issue\n",
    "\n",
    "I noticed that sometimes SmallNet does not train at all.\n",
    "It is because the gradients are zero except for in the bias term in the last linear layer.\n",
    "I do NOT know why this is happening even after a lot of debugging..."
   ]
  },
  {
   "cell_type": "code",
   "execution_count": null,
   "metadata": {},
   "outputs": [],
   "source": []
  },
  {
   "cell_type": "code",
   "execution_count": null,
   "metadata": {},
   "outputs": [],
   "source": []
  },
  {
   "cell_type": "code",
   "execution_count": null,
   "metadata": {},
   "outputs": [],
   "source": []
  },
  {
   "cell_type": "code",
   "execution_count": null,
   "metadata": {},
   "outputs": [],
   "source": []
  },
  {
   "cell_type": "code",
   "execution_count": 144,
   "metadata": {},
   "outputs": [],
   "source": [
    "class SmallNet(nn.Module):\n",
    "    def __init__(self, **kwargs):\n",
    "        super().__init__()\n",
    "        self.conv1 = nn.Conv2d(1, 1, kernel_size=3)\n",
    "        self.conv2 = nn.Conv2d(1, 1, kernel_size=3)\n",
    "        self.conv3 = nn.Conv2d(1, 1, kernel_size=3)\n",
    "        self.fc1 = nn.Linear(9, 10)\n",
    "\n",
    "    def forward(self, x):\n",
    "        x = torch.relu(torch.max_pool2d(self.conv1(x), 2))\n",
    "        x = torch.relu(torch.max_pool2d(self.conv2(x), 2))\n",
    "        x = torch.relu(self.conv3(x))\n",
    "        x = x.view(-1, 9)\n",
    "        y = x\n",
    "        x = self.fc1(x)\n",
    "        return x.log_softmax(dim=-1)#, y, x"
   ]
  },
  {
   "cell_type": "code",
   "execution_count": 176,
   "metadata": {},
   "outputs": [],
   "source": [
    "def train_net(net, n_epochs, lr=1e-2, verbose=True):\n",
    "    opt = torch.optim.Adam(net.parameters(), lr=lr)\n",
    "    loss_func = nn.NLLLoss()\n",
    "    for epoch in range(n_epochs):\n",
    "        for batch_idx, (X_batch, Y_batch) in enumerate(task.loader_train):\n",
    "            X_batch, Y_batch = X_batch.to(device), Y_batch.to(device)\n",
    "            Y_batch_pred = net(X_batch)\n",
    "            loss = loss_func(Y_batch_pred, Y_batch)\n",
    "            opt.zero_grad()\n",
    "            loss.backward()\n",
    "            opt.step()\n",
    "#             for p in net.parameters():\n",
    "#                 print(tuple(p.shape), p.requires_grad, p.grad.abs().mean().item())\n",
    "#                 p.data -= lr * p.grad\n",
    "#             print()\n",
    "        if verbose:\n",
    "            task.perform_stats(net, tqdm=None, device=device, verbose=verbose)\n"
   ]
  },
  {
   "cell_type": "code",
   "execution_count": 201,
   "metadata": {
    "collapsed": true,
    "jupyter": {
     "outputs_hidden": true
    }
   },
   "outputs": [
    {
     "data": {
      "application/vnd.jupyter.widget-view+json": {
       "model_id": "cf162a5aac894c2d910455226ac8fb20",
       "version_major": 2,
       "version_minor": 0
      },
      "text/plain": [
       "HBox(children=(FloatProgress(value=0.0, max=30.0), HTML(value='')))"
      ]
     },
     "metadata": {},
     "output_type": "display_data"
    },
    {
     "name": "stdout",
     "output_type": "stream",
     "text": [
      "\n",
      "\n",
      "\n",
      "Training net 1\n",
      "\n",
      "\n",
      "\n",
      "Training net 2\n",
      "\n",
      "\n",
      "\n",
      "Training net 3\n",
      "{'loss': 0.1467772752046585, 'accuracy': 95.48} {'loss': 0.1782861739397049, 'accuracy': 94.46} {'loss': 0.15313244760036468, 'accuracy': 95.44}\n",
      "\n",
      "\n",
      "\n",
      "Training net 1\n",
      "\n",
      "\n",
      "\n",
      "Training net 2\n",
      "\n",
      "\n",
      "\n",
      "Training net 3\n",
      "{'loss': 0.17113252431154252, 'accuracy': 94.88} {'loss': 0.1374105244874954, 'accuracy': 95.89999999999999} {'loss': 0.11068749576807022, 'accuracy': 96.7}\n",
      "\n",
      "\n",
      "\n",
      "Training net 1\n",
      "\n",
      "\n",
      "\n",
      "Training net 2\n",
      "\n",
      "\n",
      "\n",
      "Training net 3\n",
      "{'loss': 0.16568519920110703, 'accuracy': 95.03} {'loss': 0.21094172745943068, 'accuracy': 93.66} {'loss': 0.13197394087910652, 'accuracy': 95.92}\n",
      "\n",
      "\n",
      "\n",
      "Training net 1\n",
      "\n",
      "\n",
      "\n",
      "Training net 2\n",
      "\n",
      "\n",
      "\n",
      "Training net 3\n",
      "{'loss': 0.10938413068652153, 'accuracy': 96.91} {'loss': 0.16407122910022737, 'accuracy': 95.07} {'loss': 0.10204129740595817, 'accuracy': 96.97}\n",
      "\n",
      "\n",
      "\n",
      "Training net 1\n",
      "\n",
      "\n",
      "\n",
      "Training net 2\n",
      "\n",
      "\n",
      "\n",
      "Training net 3\n",
      "{'loss': 0.1550750717520714, 'accuracy': 95.07} {'loss': 0.17099241316318511, 'accuracy': 94.83} {'loss': 0.15034525990486144, 'accuracy': 95.7}\n",
      "\n",
      "\n",
      "\n",
      "Training net 1\n",
      "\n",
      "\n",
      "\n",
      "Training net 2\n",
      "\n",
      "\n",
      "\n",
      "Training net 3\n",
      "{'loss': 0.19312403798103334, 'accuracy': 94.55} {'loss': 0.1444944515824318, 'accuracy': 95.63000000000001} {'loss': 0.11756781786680222, 'accuracy': 96.38}\n",
      "\n",
      "\n",
      "\n",
      "Training net 1\n",
      "\n",
      "\n",
      "\n",
      "Training net 2\n",
      "\n",
      "\n",
      "\n",
      "Training net 3\n",
      "{'loss': 0.1632628932595253, 'accuracy': 94.98} {'loss': 0.17867811620235444, 'accuracy': 94.51} {'loss': 0.13297841995954512, 'accuracy': 95.88}\n",
      "\n",
      "\n",
      "\n",
      "Training net 1\n",
      "\n",
      "\n",
      "\n",
      "Training net 2\n",
      "\n",
      "\n",
      "\n",
      "Training net 3\n",
      "{'loss': 0.14243835508823394, 'accuracy': 95.82000000000001} {'loss': 0.17179136276245116, 'accuracy': 94.61} {'loss': 0.162435482442379, 'accuracy': 95.33}\n",
      "\n",
      "\n",
      "\n",
      "Training net 1\n",
      "\n",
      "\n",
      "\n",
      "Training net 2\n",
      "\n",
      "\n",
      "\n",
      "Training net 3\n",
      "{'loss': 0.29102964997291564, 'accuracy': 91.31} {'loss': 0.1467119961977005, 'accuracy': 95.61} {'loss': 0.11097387671470642, 'accuracy': 96.49}\n",
      "\n",
      "\n",
      "\n",
      "Training net 1\n",
      "\n",
      "\n",
      "\n",
      "Training net 2\n",
      "\n",
      "\n",
      "\n",
      "Training net 3\n",
      "{'loss': 0.15018988102674485, 'accuracy': 95.52000000000001} {'loss': 0.15737943053245546, 'accuracy': 95.22} {'loss': 0.1163673035800457, 'accuracy': 96.39999999999999}\n",
      "\n",
      "\n",
      "\n",
      "Training net 1\n",
      "\n",
      "\n",
      "\n",
      "Training net 2\n",
      "\n",
      "\n",
      "\n",
      "Training net 3\n",
      "{'loss': 0.1839212566614151, 'accuracy': 94.41000000000001} {'loss': 0.15009914338588715, 'accuracy': 95.26} {'loss': 0.12204342111945152, 'accuracy': 96.43}\n",
      "\n",
      "\n",
      "\n",
      "Training net 1\n",
      "\n",
      "\n",
      "\n",
      "Training net 2\n",
      "\n",
      "\n",
      "\n",
      "Training net 3\n",
      "{'loss': 0.12540232986211777, 'accuracy': 96.22} {'loss': 0.314059117436409, 'accuracy': 90.81} {'loss': 0.19818229973316193, 'accuracy': 94.16}\n",
      "\n",
      "\n",
      "\n",
      "Training net 1\n",
      "\n",
      "\n",
      "\n",
      "Training net 2\n",
      "\n",
      "\n",
      "\n",
      "Training net 3\n",
      "{'loss': 0.1684675931930542, 'accuracy': 95.00999999999999} {'loss': 0.206584233045578, 'accuracy': 93.41000000000001} {'loss': 0.1230915792286396, 'accuracy': 96.13000000000001}\n",
      "\n",
      "\n",
      "\n",
      "Training net 1\n",
      "\n",
      "\n",
      "\n",
      "Training net 2\n",
      "\n",
      "\n",
      "\n",
      "Training net 3\n",
      "{'loss': 0.13472605645656585, 'accuracy': 95.96000000000001} {'loss': 0.17579779624938965, 'accuracy': 94.32000000000001} {'loss': 0.13066627010703086, 'accuracy': 96.00999999999999}\n",
      "\n",
      "\n",
      "\n",
      "Training net 1\n",
      "\n",
      "\n",
      "\n",
      "Training net 2\n",
      "\n",
      "\n",
      "\n",
      "Training net 3\n",
      "{'loss': 0.15538189560174942, 'accuracy': 95.1} {'loss': 0.25452418327331544, 'accuracy': 92.0} {'loss': 0.12972203716635705, 'accuracy': 96.00999999999999}\n",
      "\n",
      "\n",
      "\n",
      "Training net 1\n",
      "\n",
      "\n",
      "\n",
      "Training net 2\n",
      "\n",
      "\n",
      "\n",
      "Training net 3\n",
      "{'loss': 0.16546126902103425, 'accuracy': 95.12} {'loss': 0.32120766341686247, 'accuracy': 90.34} {'loss': 0.17273323982954025, 'accuracy': 94.89}\n",
      "\n",
      "\n",
      "\n",
      "Training net 1\n",
      "\n",
      "\n",
      "\n",
      "Training net 2\n",
      "\n",
      "\n",
      "\n",
      "Training net 3\n",
      "{'loss': 0.1658591538667679, 'accuracy': 94.86} {'loss': 0.13284084498882293, 'accuracy': 96.1} {'loss': 0.1351892977952957, 'accuracy': 95.84}\n",
      "\n",
      "\n",
      "\n",
      "Training net 1\n",
      "\n",
      "\n",
      "\n",
      "Training net 2\n",
      "\n",
      "\n",
      "\n",
      "Training net 3\n",
      "{'loss': 0.16245761066675185, 'accuracy': 94.77} {'loss': 0.1688844934105873, 'accuracy': 94.65} {'loss': 0.15722738802433014, 'accuracy': 95.17}\n",
      "\n",
      "\n",
      "\n",
      "Training net 1\n",
      "\n",
      "\n",
      "\n",
      "Training net 2\n",
      "\n",
      "\n",
      "\n",
      "Training net 3\n",
      "{'loss': 0.14189404845237732, 'accuracy': 95.46} {'loss': 0.13930253684520721, 'accuracy': 96.11} {'loss': 0.17644717395305634, 'accuracy': 94.67999999999999}\n",
      "\n",
      "\n",
      "\n",
      "Training net 1\n",
      "\n",
      "\n",
      "\n",
      "Training net 2\n",
      "\n",
      "\n",
      "\n",
      "Training net 3\n",
      "{'loss': 0.18295157998800277, 'accuracy': 94.35} {'loss': 0.12128127366304398, 'accuracy': 96.02000000000001} {'loss': 0.12816752195358277, 'accuracy': 96.0}\n",
      "\n",
      "\n",
      "\n",
      "Training net 1\n",
      "\n",
      "\n",
      "\n",
      "Training net 2\n",
      "\n",
      "\n",
      "\n",
      "Training net 3\n",
      "{'loss': 0.20202406048774718, 'accuracy': 94.14} {'loss': 0.1721457839012146, 'accuracy': 94.74000000000001} {'loss': 0.1578446328639984, 'accuracy': 95.45}\n",
      "\n",
      "\n",
      "\n",
      "Training net 1\n",
      "\n",
      "\n",
      "\n",
      "Training net 2\n",
      "\n",
      "\n",
      "\n",
      "Training net 3\n",
      "{'loss': 0.1569630980491638, 'accuracy': 95.14} {'loss': 0.229651141166687, 'accuracy': 93.21000000000001} {'loss': 0.12444441020488739, 'accuracy': 96.32}\n",
      "\n",
      "\n",
      "\n",
      "Training net 1\n",
      "\n",
      "\n",
      "\n",
      "Training net 2\n",
      "\n",
      "\n",
      "\n",
      "Training net 3\n",
      "{'loss': 0.15404245257377625, 'accuracy': 95.38} {'loss': 0.14525550827383996, 'accuracy': 95.83} {'loss': 0.1236156553030014, 'accuracy': 96.3}\n",
      "\n",
      "\n",
      "\n",
      "Training net 1\n",
      "\n",
      "\n",
      "\n",
      "Training net 2\n",
      "\n",
      "\n",
      "\n",
      "Training net 3\n",
      "{'loss': 0.17707438468933107, 'accuracy': 94.62} {'loss': 0.1354297250509262, 'accuracy': 95.86} {'loss': 0.11127383336424827, 'accuracy': 96.48}\n",
      "\n",
      "\n",
      "\n",
      "Training net 1\n",
      "\n",
      "\n",
      "\n",
      "Training net 2\n",
      "\n",
      "\n",
      "\n",
      "Training net 3\n",
      "{'loss': 0.17942566871643068, 'accuracy': 94.59} {'loss': 0.120675740391016, 'accuracy': 96.53} {'loss': 0.16468263417482376, 'accuracy': 95.08}\n",
      "\n",
      "\n",
      "\n",
      "Training net 1\n",
      "\n",
      "\n",
      "\n",
      "Training net 2\n",
      "\n",
      "\n",
      "\n",
      "Training net 3\n",
      "{'loss': 0.16750163286924363, 'accuracy': 94.69} {'loss': 0.16133286952972412, 'accuracy': 95.27} {'loss': 0.15367199778556823, 'accuracy': 95.36}\n",
      "\n",
      "\n",
      "\n",
      "Training net 1\n",
      "\n",
      "\n",
      "\n",
      "Training net 2\n",
      "\n",
      "\n",
      "\n",
      "Training net 3\n",
      "{'loss': 0.1628342241048813, 'accuracy': 95.17999999999999} {'loss': 0.1550094947218895, 'accuracy': 95.04} {'loss': 0.14455599933862687, 'accuracy': 95.17999999999999}\n",
      "\n",
      "\n",
      "\n",
      "Training net 1\n",
      "\n",
      "\n",
      "\n",
      "Training net 2\n",
      "\n",
      "\n",
      "\n",
      "Training net 3\n",
      "{'loss': 0.22554370015859604, 'accuracy': 92.97999999999999} {'loss': 0.26315185576677325, 'accuracy': 92.32000000000001} {'loss': 0.13527192026376725, 'accuracy': 95.92}\n",
      "\n",
      "\n",
      "\n",
      "Training net 1\n",
      "\n",
      "\n",
      "\n",
      "Training net 2\n",
      "\n",
      "\n",
      "\n",
      "Training net 3\n",
      "{'loss': 0.1429658815264702, 'accuracy': 95.67999999999999} {'loss': 0.17319278568029403, 'accuracy': 94.35} {'loss': 0.1430464953184128, 'accuracy': 95.49}\n",
      "\n",
      "\n",
      "\n",
      "Training net 1\n",
      "\n",
      "\n",
      "\n",
      "Training net 2\n",
      "\n",
      "\n",
      "\n",
      "Training net 3\n",
      "{'loss': 0.20865152031183243, 'accuracy': 93.47999999999999} {'loss': 0.1651679530739784, 'accuracy': 95.17} {'loss': 0.16626005321741105, 'accuracy': 94.74000000000001}\n",
      "\n"
     ]
    }
   ],
   "source": [
    "data = []\n",
    "for seed in tqdm(range(30)):\n",
    "    model = models_pheno.BigConvNet\n",
    "    torch.manual_seed(seed);np.random.seed(seed)\n",
    "    verbose = False\n",
    "    net_1 = model().to(device)\n",
    "    print('\\n\\n\\nTraining net 1')\n",
    "    train_net(net_1, 5, verbose=verbose)\n",
    "    s1 = task.perform_stats(net_1, tqdm=None, device=device, verbose=verbose)\n",
    "    print('\\n\\n\\nTraining net 2')\n",
    "    net_2 = model().to(device)\n",
    "    train_net(net_2, 5, verbose=verbose)\n",
    "    s2 = task.perform_stats(net_2, tqdm=None, device=device, verbose=verbose)\n",
    "\n",
    "    vec_1 = util.model2vec(net_1)\n",
    "    vec_2 = util.model2vec(net_2)\n",
    "    net_3 = model().to(device)\n",
    "#     vec_3 = util.uniform_crossover(vec_1, vec_2)\n",
    "    vec_3 = ((vec_1+vec_2)/2.).detach()\n",
    "    net_3 = util.vec2model(vec_3, net_3)\n",
    "\n",
    "\n",
    "    print('\\n\\n\\nTraining net 3')\n",
    "#     task.perform_stats(net_3, tqdm=None, device=device, verbose=verbose)\n",
    "    train_net(net_3, 5, verbose=verbose)\n",
    "    s3 = task.perform_stats(net_3, tqdm=None, device=device, verbose=verbose)\n",
    "    \n",
    "    print(s1, s2, s3)\n",
    "    \n",
    "    data.append([s1, s2, s3])"
   ]
  },
  {
   "cell_type": "code",
   "execution_count": 243,
   "metadata": {},
   "outputs": [],
   "source": [
    "plt.rcParams.update({\n",
    "    \"figure.facecolor\":  (1.0, 1.0, 1.0, 1.0),  # red   with alpha = 30%\n",
    "    \"axes.facecolor\":    (1.0, 1.0, 1.0, 1.0),  # red   with alpha = 30%\n",
    "    \"savefig.facecolor\": (1.0, 1.0, 1.0, 1.0),  # red   with alpha = 30%\n",
    "})"
   ]
  },
  {
   "cell_type": "code",
   "execution_count": 245,
   "metadata": {},
   "outputs": [
    {
     "name": "stdout",
     "output_type": "stream",
     "text": [
      "0.8719999999999999+-1.2514642091033485\n",
      "1.2003333333333306+-1.4415673954260868\n"
     ]
    },
    {
     "data": {
      "image/png": "[encoded data removed]",
      "text/plain": [
       "<Figure size 432x288 with 1 Axes>"
      ]
     },
     "metadata": {},
     "output_type": "display_data"
    }
   ],
   "source": [
    "a = MultiArr(util.arr_dict2dict_arr(np.array(data)))['accuracy'].T\n",
    "plt.plot(a); plt.xticks(range(3), ['parent1', 'parent2', 'child']); plt.ylabel('accuracy')\n",
    "b = a[2]-a[0]\n",
    "print(f'{b.mean()}+-{b.std()}')\n",
    "b = a[2]-a[1]\n",
    "print(f'{b.mean()}+-{b.std()}')\n",
    "\n"
   ]
  },
  {
   "cell_type": "code",
   "execution_count": null,
   "metadata": {},
   "outputs": [],
   "source": []
  },
  {
   "cell_type": "code",
   "execution_count": null,
   "metadata": {},
   "outputs": [],
   "source": []
  },
  {
   "cell_type": "code",
   "execution_count": null,
   "metadata": {},
   "outputs": [],
   "source": []
  },
  {
   "cell_type": "code",
   "execution_count": 181,
   "metadata": {},
   "outputs": [],
   "source": [
    "import xarray as xr"
   ]
  },
  {
   "cell_type": "code",
   "execution_count": 190,
   "metadata": {},
   "outputs": [],
   "source": [
    "data = xr.DataArray(np.random.randn(2, 3, 3), \n",
    "                    dims=('crossover', 'agent', 'metric'), \n",
    "                    coords={'crossover': ['uniform', 'mean'],\n",
    "                            'agent': ['parent1', 'parent2', 'child'],\n",
    "                            'metric': ['fitness', 'loss', 'accuracy']})"
   ]
  },
  {
   "cell_type": "code",
   "execution_count": 194,
   "metadata": {},
   "outputs": [],
   "source": [
    "data.loc['uniform', 'parent1', 'fitness'] = 0"
   ]
  },
  {
   "cell_type": "code",
   "execution_count": null,
   "metadata": {},
   "outputs": [],
   "source": []
  }
 ],
 "metadata": {
  "kernelspec": {
   "display_name": "Python 3",
   "language": "python",
   "name": "python3"
  },
  "language_info": {
   "codemirror_mode": {
    "name": "ipython",
    "version": 3
   },
   "file_extension": ".py",
   "mimetype": "text/x-python",
   "name": "python",
   "nbconvert_exporter": "python",
   "pygments_lexer": "ipython3",
   "version": "3.7.5"
  }
 },
 "nbformat": 4,
 "nbformat_minor": 5
}
