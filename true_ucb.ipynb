{
 "cells": [
  {
   "cell_type": "code",
   "execution_count": 1,
   "id": "supposed-stone",
   "metadata": {},
   "outputs": [],
   "source": [
    "%load_ext autoreload\n",
    "%autoreload 2"
   ]
  },
  {
   "cell_type": "code",
   "execution_count": 2,
   "id": "9f9b11b5-e38b-41fd-b734-dd7f05af4452",
   "metadata": {},
   "outputs": [],
   "source": [
    "from tqdm.notebook import tqdm\n",
    "import matplotlib.pyplot as plt\n",
    "\n",
    "import numpy as np\n",
    "\n",
    "import torch"
   ]
  },
  {
   "cell_type": "code",
   "execution_count": 100,
   "id": "1ef15689-ab13-401b-807f-16df4b0af3dc",
   "metadata": {},
   "outputs": [],
   "source": [
    "from datetime import datetime"
   ]
  },
  {
   "cell_type": "code",
   "execution_count": 3,
   "id": "92f6026e-0679-4f7f-b05b-9806dcf402fa",
   "metadata": {},
   "outputs": [],
   "source": [
    "import optim\n",
    "import functions"
   ]
  },
  {
   "cell_type": "code",
   "execution_count": null,
   "id": "a0154c1e-c372-49e3-824a-c9f3e6c7fef6",
   "metadata": {},
   "outputs": [],
   "source": []
  },
  {
   "cell_type": "code",
   "execution_count": null,
   "id": "eebc1629-6d87-4816-96eb-a6b6d8931b73",
   "metadata": {},
   "outputs": [],
   "source": []
  },
  {
   "cell_type": "code",
   "execution_count": 166,
   "id": "e216e9d0-c63a-4645-adad-2e983b142416",
   "metadata": {},
   "outputs": [],
   "source": [
    "class UCBController():\n",
    "    def __init__(self, arms, c=0.5):\n",
    "        self.arms = arms\n",
    "        self.rewards = [[] for _ in self.arms]\n",
    "        self.Ns = np.zeros(len(self.arms))\n",
    "        self.c = c\n",
    "        \n",
    "    def sample(self):\n",
    "        if (self.Ns==0).any():\n",
    "            i = (self.Ns==0).argmax()\n",
    "        else:\n",
    "            Qs = np.array([np.array(r)[-50:].mean() for r in self.rewards])\n",
    "\n",
    "            t = self.Ns.sum()\n",
    "\n",
    "            explore = np.sqrt(np.log(t)/self.Ns)\n",
    "            exploit = Qs\n",
    "\n",
    "            i = np.argmax(exploit+self.c*explore)\n",
    "        return i, self.arms[i]\n",
    "    \n",
    "    def report_reward(self, i, reward):\n",
    "        self.Ns[i] += 1\n",
    "        self.rewards[i].append(reward)\n",
    "        if len(self.rewards[i])>50:\n",
    "            self.rewards[i] = self.rewards[i][-50:]\n",
    "        \n",
    "def run_evolution_ucb(pop, optim_fn, n_gen, mrs, \n",
    "                      k=.5, k_elite=None, \n",
    "                      return_ucb=False, \n",
    "                      tqdm=lambda x: x):\n",
    "    data = []\n",
    "    fit = optim_fn(pop)\n",
    "    mr = mrs[0]\n",
    "\n",
    "    ucb = UCBController(mrs)\n",
    "\n",
    "    # data.append((pop, fit, mr))\n",
    "    for i in tqdm(range(n_gen)):\n",
    "        idxs_elite, idxs_rest, idxs_cat = optim.calc_npop_idxs(fit, k=k, k_elite=k_elite)\n",
    "        \n",
    "        idxs_rest = idxs_rest.reshape(-1, 10)\n",
    "        \n",
    "        npop, nfit = [], []\n",
    "        \n",
    "        mrs_gen = []\n",
    "        for ucb_sample_group_idx, ucb_sample_group in enumerate(idxs_rest):\n",
    "            # start = datetime.now()\n",
    "            mri, mr = ucb.sample()\n",
    "            # end = datetime.now()\n",
    "            # if i%100==0:\n",
    "                # print(end-start)\n",
    "            \n",
    "            pop_group = pop[ucb_sample_group].clone()\n",
    "            fit_group = fit[ucb_sample_group].clone()\n",
    "            npop_group = pop_group+torch.randn_like(pop_group)*mr\n",
    "            nfit_group = optim_fn(npop_group)\n",
    "            npop.append(npop_group)\n",
    "            nfit.append(nfit_group)\n",
    "            \n",
    "            ucb.report_reward(mri, -(nfit_group-fit_group).min())\n",
    "            mrs_gen.append(mr)\n",
    "            \n",
    "        npop = torch.cat([pop[idxs_elite]]+npop, dim=0)\n",
    "        nfit = torch.cat([fit[idxs_elite]]+nfit, dim=0)\n",
    "        \n",
    "        pop = npop\n",
    "        fit = nfit\n",
    "        \n",
    "        mrs_gen = torch.tensor(mrs_gen)\n",
    "        data.append((pop, fit, mrs_gen))\n",
    "    # pops, fits, mrs\n",
    "    \n",
    "    \n",
    "    res = [torch.stack([d[i] for d in data]) for i in range(len(data[0]))]\n",
    "    if return_ucb:\n",
    "        return res, ucb\n",
    "    else:\n",
    "        return res\n",
    "    \n",
    "    "
   ]
  },
  {
   "cell_type": "code",
   "execution_count": 182,
   "id": "7421d6e6-0fc9-432d-9955-910042fd04c6",
   "metadata": {},
   "outputs": [],
   "source": [
    "torch.manual_seed(2); np.random.seed(2)\n",
    "pop = torch.randn(101, 10)*10\n",
    "optim_fn = functions.ackley\n",
    "mrs_in = torch.logspace(-3, 3, 10)\n",
    "n_gen = 1000"
   ]
  },
  {
   "cell_type": "code",
   "execution_count": 183,
   "id": "5cc63d6d-aa50-4d9b-ae3e-ffdd00ef2c5d",
   "metadata": {},
   "outputs": [
    {
     "data": {
      "application/vnd.jupyter.widget-view+json": {
       "model_id": "c028726341ff48bf997cc0c8a5c6ec2c",
       "version_major": 2,
       "version_minor": 0
      },
      "text/plain": [
       "  0%|          | 0/1000 [00:00<?, ?it/s]"
      ]
     },
     "metadata": {},
     "output_type": "display_data"
    }
   ],
   "source": [
    "_, fits, mrs, _ = optim.run_evolution_ours(pop, optim_fn, n_gen, tqdm=tqdm)"
   ]
  },
  {
   "cell_type": "code",
   "execution_count": 184,
   "id": "15c2539c-75c5-44f5-adff-2f4f5b18f5e2",
   "metadata": {},
   "outputs": [],
   "source": [
    "torch.manual_seed(2); np.random.seed(2)\n",
    "pop = torch.randn(101, 10)*10\n",
    "optim_fn = functions.ackley\n",
    "mrs_in = torch.logspace(-3, 3, 10)\n",
    "n_gen = 1000"
   ]
  },
  {
   "cell_type": "code",
   "execution_count": 185,
   "id": "0de666a0-3f67-4647-b367-dae9dfe558f1",
   "metadata": {},
   "outputs": [
    {
     "data": {
      "application/vnd.jupyter.widget-view+json": {
       "model_id": "87a905da23524de6a5b2e3efab722067",
       "version_major": 2,
       "version_minor": 0
      },
      "text/plain": [
       "  0%|          | 0/1000 [00:00<?, ?it/s]"
      ]
     },
     "metadata": {},
     "output_type": "display_data"
    }
   ],
   "source": [
    "_, fits_ucb, mrs_ucb = run_evolution_ucb(pop, optim_fn, n_gen, mrs=mrs_in, tqdm=tqdm)"
   ]
  },
  {
   "cell_type": "code",
   "execution_count": 186,
   "id": "b34f0d56-77fb-4eec-b11c-31f9b69c58a6",
   "metadata": {},
   "outputs": [
    {
     "data": {
      "text/plain": [
       "[<matplotlib.lines.Line2D at 0x7fd7769f9910>]"
      ]
     },
     "execution_count": 186,
     "metadata": {},
     "output_type": "execute_result"
    },
    {
     "data": {
      "image/png": "[encoded data removed]",
      "text/plain": [
       "<Figure size 432x288 with 1 Axes>"
      ]
     },
     "metadata": {
      "needs_background": "light"
     },
     "output_type": "display_data"
    }
   ],
   "source": [
    "plt.plot(fits.min(dim=-1).values.numpy())\n",
    "plt.plot(fits_ucb.min(dim=-1).values.numpy())"
   ]
  },
  {
   "cell_type": "code",
   "execution_count": null,
   "id": "08792f9c-2d21-4dde-aaf5-2c98fd1d2c3e",
   "metadata": {},
   "outputs": [],
   "source": []
  },
  {
   "cell_type": "code",
   "execution_count": 188,
   "id": "5a867db5-a8ec-4332-a9d1-098ca5cc5673",
   "metadata": {},
   "outputs": [
    {
     "data": {
      "text/plain": [
       "torch.Size([1000, 10])"
      ]
     },
     "execution_count": 188,
     "metadata": {},
     "output_type": "execute_result"
    }
   ],
   "source": [
    "mrs_ucb.shape"
   ]
  },
  {
   "cell_type": "code",
   "execution_count": 189,
   "id": "60095d14-f3de-464e-bf59-7cb0e29927ab",
   "metadata": {},
   "outputs": [
    {
     "data": {
      "image/png": "[encoded data removed]",
      "text/plain": [
       "<Figure size 432x288 with 1 Axes>"
      ]
     },
     "metadata": {
      "needs_background": "light"
     },
     "output_type": "display_data"
    }
   ],
   "source": [
    "plt.plot(mrs[..., 0].log().mean(dim=-1).exp())\n",
    "plt.plot(mrs_ucb.log().mean(dim=-1).exp())\n",
    "plt.yscale('log')"
   ]
  },
  {
   "cell_type": "code",
   "execution_count": null,
   "id": "0bfd01ed-d032-402b-9494-63a83b13183b",
   "metadata": {},
   "outputs": [],
   "source": []
  },
  {
   "cell_type": "code",
   "execution_count": null,
   "id": "537b98b0-c0fc-4df8-a5d4-2505608d2d13",
   "metadata": {},
   "outputs": [],
   "source": []
  },
  {
   "cell_type": "code",
   "execution_count": null,
   "id": "2f69689f-43a2-4542-b1a5-b2fe7ea16111",
   "metadata": {},
   "outputs": [],
   "source": []
  },
  {
   "cell_type": "code",
   "execution_count": null,
   "id": "94f57c66-5dc1-4026-8191-66bc5a0e6521",
   "metadata": {},
   "outputs": [],
   "source": []
  }
 ],
 "metadata": {
  "kernelspec": {
   "display_name": "Python 3 (ipykernel)",
   "language": "python",
   "name": "python3"
  },
  "language_info": {
   "codemirror_mode": {
    "name": "ipython",
    "version": 3
   },
   "file_extension": ".py",
   "mimetype": "text/x-python",
   "name": "python",
   "nbconvert_exporter": "python",
   "pygments_lexer": "ipython3",
   "version": "3.9.5"
  }
 },
 "nbformat": 4,
 "nbformat_minor": 5
}
